{
 "cells": [
  {
   "cell_type": "code",
   "execution_count": 1,
   "metadata": {},
   "outputs": [
    {
     "data": {
      "text/html": [
       "<style>.container { width:100% !important; }</style>"
      ],
      "text/plain": [
       "<IPython.core.display.HTML object>"
      ]
     },
     "metadata": {},
     "output_type": "display_data"
    }
   ],
   "source": [
    "from IPython.core.display import display, HTML\n",
    "display(HTML(\"<style>.container { width:100% !important; }</style>\"))"
   ]
  },
  {
   "cell_type": "code",
   "execution_count": 2,
   "metadata": {
    "collapsed": true
   },
   "outputs": [],
   "source": [
    "import pyspark as ps\n",
    "\n",
    "spark = ps.sql.SparkSession.builder \\\n",
    "        .master(\"local[4]\") \\\n",
    "        .appName(\"df lecture\") \\\n",
    "        .getOrCreate()\n",
    "\n",
    "sc = spark.sparkContext"
   ]
  },
  {
   "cell_type": "code",
   "execution_count": 3,
   "metadata": {
    "collapsed": true
   },
   "outputs": [],
   "source": [
    "# %load_ext autoreload\n",
    "%autoreload 2\n",
    "import pandas as pd\n",
    "import numpy as np\n",
    "import matplotlib.pyplot as plt\n",
    "from collections import Counter\n",
    "import nltk\n",
    "from nltk.tokenize import RegexpTokenizer\n",
    "from nltk.stem.wordnet import WordNetLemmatizer\n",
    "from nltk.stem.porter import PorterStemmer\n",
    "from nltk.corpus import stopwords\n",
    "from sklearn.feature_extraction.text import CountVectorizer, TfidfVectorizer\n",
    "from sklearn.decomposition import TruncatedSVD\n",
    "import cleaner\n",
    "\n",
    "%matplotlib inline"
   ]
  },
  {
   "cell_type": "code",
   "execution_count": 4,
   "metadata": {
    "collapsed": true
   },
   "outputs": [],
   "source": [
    "review_df = spark.read.json('../break_week/data/dataset/review.json')\n",
    "user_df = spark.read.json('../break_week/data/dataset/user.json')\n",
    "business_df = spark.read.json(\"../break_week/data/dataset/business.json\")"
   ]
  },
  {
   "cell_type": "code",
   "execution_count": 5,
   "metadata": {
    "collapsed": true
   },
   "outputs": [],
   "source": [
    "review_df.createTempView(\"review\")\n",
    "user_df.createTempView(\"user\")\n",
    "business_df.createTempView(\"business\")"
   ]
  },
  {
   "cell_type": "code",
   "execution_count": 6,
   "metadata": {},
   "outputs": [
    {
     "name": "stdout",
     "output_type": "stream",
     "text": [
      "+---------+--------------------+--------------------+--------------------+--------------------+-----+---------+--------------------+--------------------+--------+--------------------+-----------+\n",
      "|user_name|             user_id|         business_id|             friends|       business_name|state|     city|             address|          categories|bus_star|                text|review_star|\n",
      "+---------+--------------------+--------------------+--------------------+--------------------+-----+---------+--------------------+--------------------+--------+--------------------+-----------+\n",
      "|   Justin|0y8ORuC2X1i1UF6SG...|--9e1ONYQuAa-CB_R...|[sf-8AusztxHc4o5b...|Delmonico Steakhouse|   NV|Las Vegas|3355 Las Vegas Bl...|[Cajun/Creole, St...|     4.0|WOW.\n",
      "\n",
      "I came to V...|          5|\n",
      "|    Shaun|9spixZHaqC1JeN1ld...|--9e1ONYQuAa-CB_R...|[jB5Imm55MMANvOlY...|Delmonico Steakhouse|   NV|Las Vegas|3355 Las Vegas Bl...|[Cajun/Creole, St...|     4.0|We had scheduled ...|          2|\n",
      "|        J|A4GnBOU7ZCTcoQK4e...|--9e1ONYQuAa-CB_R...|[MGPQVLsODMm9ZtYQ...|Delmonico Steakhouse|   NV|Las Vegas|3355 Las Vegas Bl...|[Cajun/Creole, St...|     4.0|This restaurant i...|          5|\n",
      "+---------+--------------------+--------------------+--------------------+--------------------+-----+---------+--------------------+--------------------+--------+--------------------+-----------+\n",
      "only showing top 3 rows\n",
      "\n"
     ]
    }
   ],
   "source": [
    "df3 = spark.sql(\"SELECT new.user_name, new.user_id, new.business_id, new.friends, \\\n",
    "                b.name AS business_name, b.state, b.city, b.address, b.categories, b.stars AS bus_star,\\\n",
    "                new.text, new.stars AS review_star \\\n",
    "                FROM \\\n",
    "                    (SELECT u.name AS user_name, r.user_id, r.business_id, r.text, r.stars, u.friends \\\n",
    "                    FROM review AS r \\\n",
    "                    LEFT JOIN user AS u \\\n",
    "                    ON r.user_id = u.user_id) AS new\\\n",
    "                INNER JOIN business as b\\\n",
    "                ON new.business_id = b.business_id \\\n",
    "                WHERE ARRAY_CONTAINS(b.categories, 'Restaurants')\")\n",
    "df3.show(3)"
   ]
  },
  {
   "cell_type": "code",
   "execution_count": 7,
   "metadata": {
    "collapsed": true
   },
   "outputs": [],
   "source": [
    "df3.createTempView(\"restuarant_review\")"
   ]
  },
  {
   "cell_type": "code",
   "execution_count": 12,
   "metadata": {},
   "outputs": [],
   "source": [
    "df_one = df3.where(\"business_id = 'zgGoxOsThXKAcs2lAgC9yg'\").where(\"review_star = 1\")"
   ]
  },
  {
   "cell_type": "code",
   "execution_count": 13,
   "metadata": {},
   "outputs": [
    {
     "name": "stdout",
     "output_type": "stream",
     "text": [
      "+---------+--------------------+--------------------+--------------------+-------------+-----+------+--------------------+--------------------+--------+--------------------+-----------+\n",
      "|user_name|             user_id|         business_id|             friends|business_name|state|  city|             address|          categories|bus_star|                text|review_star|\n",
      "+---------+--------------------+--------------------+--------------------+-------------+-----+------+--------------------+--------------------+--------+--------------------+-----------+\n",
      "|   Taylor|1HvleSOY1dn7KtHPv...|zgGoxOsThXKAcs2lA...|[VkKvpFLA9dHZ-2wM...|Buca di Beppo|   AZ|Peoria|16091 N Arrowhead...|[Food, Italian, P...|     3.0|My husband and I ...|          1|\n",
      "|   Rachel|eJyg55id8Jf8r0fMA...|zgGoxOsThXKAcs2lA...|                  []|Buca di Beppo|   AZ|Peoria|16091 N Arrowhead...|[Food, Italian, P...|     3.0|This place is no ...|          1|\n",
      "|   Bonnie|HWdquziFAQekwIS-O...|zgGoxOsThXKAcs2lA...|                  []|Buca di Beppo|   AZ|Peoria|16091 N Arrowhead...|[Food, Italian, P...|     3.0|We went on Christ...|          1|\n",
      "|       JX|zkMCdW0GFoo-ipnx1...|zgGoxOsThXKAcs2lA...|                  []|Buca di Beppo|   AZ|Peoria|16091 N Arrowhead...|[Food, Italian, P...|     3.0|Made family reser...|          1|\n",
      "|      Kel|pR8LydAGLMQwBlTEi...|zgGoxOsThXKAcs2lA...|[o6w3JNHk3fJ4eHAF...|Buca di Beppo|   AZ|Peoria|16091 N Arrowhead...|[Food, Italian, P...|     3.0|Came in on a Mond...|          1|\n",
      "|   Ericka|pP2RXg0i1liO4zCoz...|zgGoxOsThXKAcs2lA...|                  []|Buca di Beppo|   AZ|Peoria|16091 N Arrowhead...|[Food, Italian, P...|     3.0|Awful service. Ou...|          1|\n",
      "|    Sasha|HPWMTJ-DRMQZnT3Qg...|zgGoxOsThXKAcs2lA...|                  []|Buca di Beppo|   AZ|Peoria|16091 N Arrowhead...|[Food, Italian, P...|     3.0|Won't be going ba...|          1|\n",
      "|      Jon|2l8xZ8OyXqdP-NijB...|zgGoxOsThXKAcs2lA...|[xSnJubGh5K8Eo55p...|Buca di Beppo|   AZ|Peoria|16091 N Arrowhead...|[Food, Italian, P...|     3.0|I have been going...|          1|\n",
      "|  Michael|bkBPGOarZruFx8YLf...|zgGoxOsThXKAcs2lA...|[pITzTnpHb21T05oL...|Buca di Beppo|   AZ|Peoria|16091 N Arrowhead...|[Food, Italian, P...|     3.0|Herd the hype but...|          1|\n",
      "|    Nikki|T2miZIvaa7A8TNxJp...|zgGoxOsThXKAcs2lA...|[3960foK9yvmu-C9N...|Buca di Beppo|   AZ|Peoria|16091 N Arrowhead...|[Food, Italian, P...|     3.0|Sooooo... where t...|          1|\n",
      "|       J.|UaOCZMSkDIT7HnG3I...|zgGoxOsThXKAcs2lA...|                  []|Buca di Beppo|   AZ|Peoria|16091 N Arrowhead...|[Food, Italian, P...|     3.0|We went here for ...|          1|\n",
      "|  Tiffany|CIhZpN7WuqyDVq7HG...|zgGoxOsThXKAcs2lA...|                  []|Buca di Beppo|   AZ|Peoria|16091 N Arrowhead...|[Food, Italian, P...|     3.0|We were celebrati...|          1|\n",
      "|    Geoff|GqjRReweWift9Ju3m...|zgGoxOsThXKAcs2lA...|[H1BkPlRB-dnpO2zx...|Buca di Beppo|   AZ|Peoria|16091 N Arrowhead...|[Food, Italian, P...|     3.0|Make sure you are...|          1|\n",
      "|    Jimmy|siGgvB5UfUc_LxIdt...|zgGoxOsThXKAcs2lA...|                  []|Buca di Beppo|   AZ|Peoria|16091 N Arrowhead...|[Food, Italian, P...|     3.0|Terrible. Have ne...|          1|\n",
      "|  Michael|SDF5-J8Y71ZdWbOTU...|zgGoxOsThXKAcs2lA...|                  []|Buca di Beppo|   AZ|Peoria|16091 N Arrowhead...|[Food, Italian, P...|     3.0|Good food, but fi...|          1|\n",
      "|    Sarah|0jRcmkgwrjsPtDOeq...|zgGoxOsThXKAcs2lA...|                  []|Buca di Beppo|   AZ|Peoria|16091 N Arrowhead...|[Food, Italian, P...|     3.0|We had an absolut...|          1|\n",
      "|  Crystal|_qyc1qVGD7Lkmku65...|zgGoxOsThXKAcs2lA...|[568XcyYpdVV_GRtT...|Buca di Beppo|   AZ|Peoria|16091 N Arrowhead...|[Food, Italian, P...|     3.0|We waited 30 minu...|          1|\n",
      "|    Blair|DwZ5myvdxGbR_Ju7s...|zgGoxOsThXKAcs2lA...|[9bJ6j0zrV1XSiSnz...|Buca di Beppo|   AZ|Peoria|16091 N Arrowhead...|[Food, Italian, P...|     3.0|Dirty and horribl...|          1|\n",
      "|   Marcos|5SRsiKfq6a1BdBDM7...|zgGoxOsThXKAcs2lA...|[2vIR1dlOCnH51JTP...|Buca di Beppo|   AZ|Peoria|16091 N Arrowhead...|[Food, Italian, P...|     3.0|Wow, I was excite...|          1|\n",
      "|Corabelle|fVILhIglx6RNOXQba...|zgGoxOsThXKAcs2lA...|[42_qLJpoaVS6Yua3...|Buca di Beppo|   AZ|Peoria|16091 N Arrowhead...|[Food, Italian, P...|     3.0|I've only experie...|          1|\n",
      "+---------+--------------------+--------------------+--------------------+-------------+-----+------+--------------------+--------------------+--------+--------------------+-----------+\n",
      "only showing top 20 rows\n",
      "\n"
     ]
    }
   ],
   "source": [
    "df_one.show()"
   ]
  },
  {
   "cell_type": "code",
   "execution_count": 14,
   "metadata": {
    "collapsed": true
   },
   "outputs": [],
   "source": [
    "corpus = list(df_one.toPandas()[\"text\"])"
   ]
  },
  {
   "cell_type": "code",
   "execution_count": 25,
   "metadata": {
    "collapsed": true
   },
   "outputs": [],
   "source": [
    "sw = set(stopwords.words(\"english\"))\n",
    "tokenizer = RegexpTokenizer(\"[\\w']+\")\n",
    "st = PorterStemmer()\n",
    "lemma = WordNetLemmatizer()"
   ]
  },
  {
   "cell_type": "code",
   "execution_count": 27,
   "metadata": {},
   "outputs": [],
   "source": [
    "cleaned = cleaner.clean_stem(corpus, tokenizer, lemma, sw)"
   ]
  },
  {
   "cell_type": "code",
   "execution_count": 28,
   "metadata": {
    "collapsed": true
   },
   "outputs": [],
   "source": [
    "tfidf_vectorizer= TfidfVectorizer(max_df=0.95, min_df=2,\n",
    "                                stop_words='english')\n",
    "\n",
    "tfidf = tfidf_vectorizer.fit_transform(cleaned)"
   ]
  },
  {
   "cell_type": "code",
   "execution_count": 29,
   "metadata": {},
   "outputs": [
    {
     "data": {
      "text/plain": [
       "(77, 618)"
      ]
     },
     "execution_count": 29,
     "metadata": {},
     "output_type": "execute_result"
    }
   ],
   "source": [
    "X = tfidf.toarray()\n",
    "X.shape"
   ]
  },
  {
   "cell_type": "code",
   "execution_count": 30,
   "metadata": {
    "collapsed": true
   },
   "outputs": [],
   "source": [
    "lsa = TruncatedSVD(random_state=42)"
   ]
  },
  {
   "cell_type": "code",
   "execution_count": 31,
   "metadata": {},
   "outputs": [
    {
     "data": {
      "text/plain": [
       "TruncatedSVD(algorithm='randomized', n_components=2, n_iter=5,\n",
       "       random_state=42, tol=0.0)"
      ]
     },
     "execution_count": 31,
     "metadata": {},
     "output_type": "execute_result"
    }
   ],
   "source": [
    "lsa.fit(X)"
   ]
  },
  {
   "cell_type": "code",
   "execution_count": 32,
   "metadata": {
    "collapsed": true
   },
   "outputs": [],
   "source": [
    "terms = terms = tfidf_vectorizer.get_feature_names()"
   ]
  },
  {
   "cell_type": "code",
   "execution_count": 35,
   "metadata": {},
   "outputs": [
    {
     "name": "stdout",
     "output_type": "stream",
     "text": [
      "Topic 1: ['food', 'table', 'minute', 'server', 'service', 'came', 'order', 'got', 'time', 'drink', 'manager', 'place', 'restaurant', 'asked', 'said', 'check', 'pasta', 'ordered', 'buca', 'like', 'waited', 'experience', 'chicken', 'good', 'told', 'bread', 'waitress', 'took', 'dinner', 'night']\n",
      "Topic 2: ['italian', 'place', 'food', 'di', 'eat', 'sauce', 'dish', 'good', 'beppo', 'pasta', 'better', 'garden', 'olive', 'buca', 'tasteless', 'sausage', 'price', 'like', 'taste', 'huge', 'garlic', 'want', 'salad', 'meat', 'master', 'restaurant', 'feed', 'wife', 'joke', 'fair']\n"
     ]
    }
   ],
   "source": [
    "cleaner.show_topics(lsa.components_, terms, length=30)"
   ]
  },
  {
   "cell_type": "code",
   "execution_count": 34,
   "metadata": {},
   "outputs": [
    {
     "data": {
      "text/plain": [
       "(2, 618)"
      ]
     },
     "execution_count": 34,
     "metadata": {},
     "output_type": "execute_result"
    }
   ],
   "source": [
    "lsa.components_.shape"
   ]
  },
  {
   "cell_type": "code",
   "execution_count": null,
   "metadata": {
    "collapsed": true
   },
   "outputs": [],
   "source": []
  }
 ],
 "metadata": {
  "kernelspec": {
   "display_name": "Python 3",
   "language": "python",
   "name": "python3"
  },
  "language_info": {
   "codemirror_mode": {
    "name": "ipython",
    "version": 3
   },
   "file_extension": ".py",
   "mimetype": "text/x-python",
   "name": "python",
   "nbconvert_exporter": "python",
   "pygments_lexer": "ipython3",
   "version": "3.6.3"
  }
 },
 "nbformat": 4,
 "nbformat_minor": 2
}
