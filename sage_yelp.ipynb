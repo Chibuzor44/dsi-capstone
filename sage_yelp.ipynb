{
 "cells": [
  {
   "cell_type": "code",
   "execution_count": 1,
   "metadata": {},
   "outputs": [
    {
     "data": {
      "text/html": [
       "<style>.container { width:100% !important; }</style>"
      ],
      "text/plain": [
       "<IPython.core.display.HTML object>"
      ]
     },
     "metadata": {},
     "output_type": "display_data"
    }
   ],
   "source": [
    "from IPython.core.display import display, HTML\n",
    "display(HTML(\"<style>.container { width:100% !important; }</style>\"))"
   ]
  },
  {
   "cell_type": "code",
   "execution_count": 23,
   "metadata": {},
   "outputs": [
    {
     "name": "stdout",
     "output_type": "stream",
     "text": [
      "The autoreload extension is already loaded. To reload it, use:\n",
      "  %reload_ext autoreload\n"
     ]
    }
   ],
   "source": [
    "%load_ext autoreload\n",
    "%autoreload 2\n",
    "from pyspark.sql import SQLContext\n",
    "import boto3\n",
    "import pickle\n",
    "import pandas as pd\n",
    "import numpy as np\n",
    "import matplotlib.pyplot as plt\n",
    "import seaborn as sns\n",
    "from nltk.tokenize import RegexpTokenizer\n",
    "from nltk.stem.wordnet import WordNetLemmatizer\n",
    "from nltk.corpus import stopwords\n",
    "from sklearn.feature_extraction.text import CountVectorizer, TfidfVectorizer\n",
    "from sklearn.model_selection import train_test_split\n",
    "from sklearn.linear_model import LogisticRegression\n",
    "from sklearn.metrics import confusion_matrix\n",
    "from sk_model import ReviewClassifier, main\n",
    "import util\n",
    "import warnings\n",
    "warnings.filterwarnings('ignore')\n",
    "%matplotlib inline"
   ]
  },
  {
   "cell_type": "markdown",
   "metadata": {},
   "source": [
    "#### Loading Data\n",
    "The data is loaded from s3 bucket\n",
    "1. Business dataset that describes all sorts of businesses that provide services to the general public.\n",
    "2. Review dataset is a records customer reviews of differnt business in the business dataset.\n",
    "3. User dataset holds the record of users who have given reviews and what businesses they reviewed."
   ]
  },
  {
   "cell_type": "code",
   "execution_count": 4,
   "metadata": {
    "collapsed": true
   },
   "outputs": [],
   "source": [
    "f_path = \"s3://chizzy/yelp_data/\"\n",
    "df_bus = pd.read_json(f_path+\"business.json\", lines=True)\n",
    "df_user = pd.read_json(f_path+\"user.json\", lines=True)\n",
    "df_rev = pd.read_json(f_path+\"review.json\", lines=True)"
   ]
  },
  {
   "cell_type": "code",
   "execution_count": 5,
   "metadata": {
    "scrolled": true
   },
   "outputs": [
    {
     "data": {
      "text/html": [
       "<div>\n",
       "<style scoped>\n",
       "    .dataframe tbody tr th:only-of-type {\n",
       "        vertical-align: middle;\n",
       "    }\n",
       "\n",
       "    .dataframe tbody tr th {\n",
       "        vertical-align: top;\n",
       "    }\n",
       "\n",
       "    .dataframe thead th {\n",
       "        text-align: right;\n",
       "    }\n",
       "</style>\n",
       "<table border=\"1\" class=\"dataframe\">\n",
       "  <thead>\n",
       "    <tr style=\"text-align: right;\">\n",
       "      <th></th>\n",
       "      <th>address</th>\n",
       "      <th>attributes</th>\n",
       "      <th>business_id</th>\n",
       "      <th>categories</th>\n",
       "      <th>city</th>\n",
       "      <th>hours</th>\n",
       "      <th>is_open</th>\n",
       "      <th>latitude</th>\n",
       "      <th>longitude</th>\n",
       "      <th>name</th>\n",
       "      <th>neighborhood</th>\n",
       "      <th>postal_code</th>\n",
       "      <th>review_count</th>\n",
       "      <th>stars</th>\n",
       "      <th>state</th>\n",
       "    </tr>\n",
       "  </thead>\n",
       "  <tbody>\n",
       "    <tr>\n",
       "      <th>0</th>\n",
       "      <td>4855 E Warner Rd, Ste B9</td>\n",
       "      <td>{'AcceptsInsurance': True, 'ByAppointmentOnly'...</td>\n",
       "      <td>FYWN1wneV18bWNgQjJ2GNg</td>\n",
       "      <td>[Dentists, General Dentistry, Health &amp; Medical...</td>\n",
       "      <td>Ahwatukee</td>\n",
       "      <td>{'Friday': '7:30-17:00', 'Tuesday': '7:30-17:0...</td>\n",
       "      <td>1</td>\n",
       "      <td>33.330690</td>\n",
       "      <td>-111.978599</td>\n",
       "      <td>Dental by Design</td>\n",
       "      <td></td>\n",
       "      <td>85044</td>\n",
       "      <td>22</td>\n",
       "      <td>4.0</td>\n",
       "      <td>AZ</td>\n",
       "    </tr>\n",
       "    <tr>\n",
       "      <th>1</th>\n",
       "      <td>3101 Washington Rd</td>\n",
       "      <td>{'BusinessParking': {'garage': False, 'street'...</td>\n",
       "      <td>He-G7vWjzVUysIKrfNbPUQ</td>\n",
       "      <td>[Hair Stylists, Hair Salons, Men's Hair Salons...</td>\n",
       "      <td>McMurray</td>\n",
       "      <td>{'Monday': '9:00-20:00', 'Tuesday': '9:00-20:0...</td>\n",
       "      <td>1</td>\n",
       "      <td>40.291685</td>\n",
       "      <td>-80.104900</td>\n",
       "      <td>Stephen Szabo Salon</td>\n",
       "      <td></td>\n",
       "      <td>15317</td>\n",
       "      <td>11</td>\n",
       "      <td>3.0</td>\n",
       "      <td>PA</td>\n",
       "    </tr>\n",
       "    <tr>\n",
       "      <th>2</th>\n",
       "      <td>6025 N 27th Ave, Ste 1</td>\n",
       "      <td>{}</td>\n",
       "      <td>KQPW8lFf1y5BT2MxiSZ3QA</td>\n",
       "      <td>[Departments of Motor Vehicles, Public Service...</td>\n",
       "      <td>Phoenix</td>\n",
       "      <td>{}</td>\n",
       "      <td>1</td>\n",
       "      <td>33.524903</td>\n",
       "      <td>-112.115310</td>\n",
       "      <td>Western Motor Vehicle</td>\n",
       "      <td></td>\n",
       "      <td>85017</td>\n",
       "      <td>18</td>\n",
       "      <td>1.5</td>\n",
       "      <td>AZ</td>\n",
       "    </tr>\n",
       "    <tr>\n",
       "      <th>3</th>\n",
       "      <td>5000 Arizona Mills Cr, Ste 435</td>\n",
       "      <td>{'BusinessAcceptsCreditCards': True, 'Restaura...</td>\n",
       "      <td>8DShNS-LuFqpEWIp0HxijA</td>\n",
       "      <td>[Sporting Goods, Shopping]</td>\n",
       "      <td>Tempe</td>\n",
       "      <td>{'Monday': '10:00-21:00', 'Tuesday': '10:00-21...</td>\n",
       "      <td>0</td>\n",
       "      <td>33.383147</td>\n",
       "      <td>-111.964725</td>\n",
       "      <td>Sports Authority</td>\n",
       "      <td></td>\n",
       "      <td>85282</td>\n",
       "      <td>9</td>\n",
       "      <td>3.0</td>\n",
       "      <td>AZ</td>\n",
       "    </tr>\n",
       "    <tr>\n",
       "      <th>4</th>\n",
       "      <td>581 Howe Ave</td>\n",
       "      <td>{'Alcohol': 'full_bar', 'HasTV': True, 'NoiseL...</td>\n",
       "      <td>PfOCPjBrlQAnz__NXj9h_w</td>\n",
       "      <td>[American (New), Nightlife, Bars, Sandwiches, ...</td>\n",
       "      <td>Cuyahoga Falls</td>\n",
       "      <td>{'Monday': '11:00-1:00', 'Tuesday': '11:00-1:0...</td>\n",
       "      <td>1</td>\n",
       "      <td>41.119535</td>\n",
       "      <td>-81.475690</td>\n",
       "      <td>Brick House Tavern + Tap</td>\n",
       "      <td></td>\n",
       "      <td>44221</td>\n",
       "      <td>116</td>\n",
       "      <td>3.5</td>\n",
       "      <td>OH</td>\n",
       "    </tr>\n",
       "  </tbody>\n",
       "</table>\n",
       "</div>"
      ],
      "text/plain": [
       "                          address  \\\n",
       "0        4855 E Warner Rd, Ste B9   \n",
       "1              3101 Washington Rd   \n",
       "2          6025 N 27th Ave, Ste 1   \n",
       "3  5000 Arizona Mills Cr, Ste 435   \n",
       "4                    581 Howe Ave   \n",
       "\n",
       "                                          attributes             business_id  \\\n",
       "0  {'AcceptsInsurance': True, 'ByAppointmentOnly'...  FYWN1wneV18bWNgQjJ2GNg   \n",
       "1  {'BusinessParking': {'garage': False, 'street'...  He-G7vWjzVUysIKrfNbPUQ   \n",
       "2                                                 {}  KQPW8lFf1y5BT2MxiSZ3QA   \n",
       "3  {'BusinessAcceptsCreditCards': True, 'Restaura...  8DShNS-LuFqpEWIp0HxijA   \n",
       "4  {'Alcohol': 'full_bar', 'HasTV': True, 'NoiseL...  PfOCPjBrlQAnz__NXj9h_w   \n",
       "\n",
       "                                          categories            city  \\\n",
       "0  [Dentists, General Dentistry, Health & Medical...       Ahwatukee   \n",
       "1  [Hair Stylists, Hair Salons, Men's Hair Salons...        McMurray   \n",
       "2  [Departments of Motor Vehicles, Public Service...         Phoenix   \n",
       "3                         [Sporting Goods, Shopping]           Tempe   \n",
       "4  [American (New), Nightlife, Bars, Sandwiches, ...  Cuyahoga Falls   \n",
       "\n",
       "                                               hours  is_open   latitude  \\\n",
       "0  {'Friday': '7:30-17:00', 'Tuesday': '7:30-17:0...        1  33.330690   \n",
       "1  {'Monday': '9:00-20:00', 'Tuesday': '9:00-20:0...        1  40.291685   \n",
       "2                                                 {}        1  33.524903   \n",
       "3  {'Monday': '10:00-21:00', 'Tuesday': '10:00-21...        0  33.383147   \n",
       "4  {'Monday': '11:00-1:00', 'Tuesday': '11:00-1:0...        1  41.119535   \n",
       "\n",
       "    longitude                      name neighborhood postal_code  \\\n",
       "0 -111.978599          Dental by Design                    85044   \n",
       "1  -80.104900       Stephen Szabo Salon                    15317   \n",
       "2 -112.115310     Western Motor Vehicle                    85017   \n",
       "3 -111.964725          Sports Authority                    85282   \n",
       "4  -81.475690  Brick House Tavern + Tap                    44221   \n",
       "\n",
       "   review_count  stars state  \n",
       "0            22    4.0    AZ  \n",
       "1            11    3.0    PA  \n",
       "2            18    1.5    AZ  \n",
       "3             9    3.0    AZ  \n",
       "4           116    3.5    OH  "
      ]
     },
     "execution_count": 5,
     "metadata": {},
     "output_type": "execute_result"
    }
   ],
   "source": [
    "df_bus.head()"
   ]
  },
  {
   "cell_type": "code",
   "execution_count": 6,
   "metadata": {},
   "outputs": [
    {
     "data": {
      "text/html": [
       "<div>\n",
       "<style scoped>\n",
       "    .dataframe tbody tr th:only-of-type {\n",
       "        vertical-align: middle;\n",
       "    }\n",
       "\n",
       "    .dataframe tbody tr th {\n",
       "        vertical-align: top;\n",
       "    }\n",
       "\n",
       "    .dataframe thead th {\n",
       "        text-align: right;\n",
       "    }\n",
       "</style>\n",
       "<table border=\"1\" class=\"dataframe\">\n",
       "  <thead>\n",
       "    <tr style=\"text-align: right;\">\n",
       "      <th></th>\n",
       "      <th>average_stars</th>\n",
       "      <th>compliment_cool</th>\n",
       "      <th>compliment_cute</th>\n",
       "      <th>compliment_funny</th>\n",
       "      <th>compliment_hot</th>\n",
       "      <th>compliment_list</th>\n",
       "      <th>compliment_more</th>\n",
       "      <th>compliment_note</th>\n",
       "      <th>compliment_photos</th>\n",
       "      <th>compliment_plain</th>\n",
       "      <th>...</th>\n",
       "      <th>cool</th>\n",
       "      <th>elite</th>\n",
       "      <th>fans</th>\n",
       "      <th>friends</th>\n",
       "      <th>funny</th>\n",
       "      <th>name</th>\n",
       "      <th>review_count</th>\n",
       "      <th>useful</th>\n",
       "      <th>user_id</th>\n",
       "      <th>yelping_since</th>\n",
       "    </tr>\n",
       "  </thead>\n",
       "  <tbody>\n",
       "    <tr>\n",
       "      <th>0</th>\n",
       "      <td>4.67</td>\n",
       "      <td>0</td>\n",
       "      <td>0</td>\n",
       "      <td>0</td>\n",
       "      <td>0</td>\n",
       "      <td>0</td>\n",
       "      <td>0</td>\n",
       "      <td>0</td>\n",
       "      <td>0</td>\n",
       "      <td>1</td>\n",
       "      <td>...</td>\n",
       "      <td>0</td>\n",
       "      <td>[]</td>\n",
       "      <td>0</td>\n",
       "      <td>[cvVMmlU1ouS3I5fhutaryQ, nj6UZ8tdGo8YJ9lUMTVWN...</td>\n",
       "      <td>0</td>\n",
       "      <td>Johnny</td>\n",
       "      <td>8</td>\n",
       "      <td>0</td>\n",
       "      <td>oMy_rEb0UBEmMlu-zcxnoQ</td>\n",
       "      <td>2014-11-03</td>\n",
       "    </tr>\n",
       "    <tr>\n",
       "      <th>1</th>\n",
       "      <td>3.70</td>\n",
       "      <td>0</td>\n",
       "      <td>0</td>\n",
       "      <td>0</td>\n",
       "      <td>0</td>\n",
       "      <td>0</td>\n",
       "      <td>0</td>\n",
       "      <td>0</td>\n",
       "      <td>0</td>\n",
       "      <td>0</td>\n",
       "      <td>...</td>\n",
       "      <td>0</td>\n",
       "      <td>[]</td>\n",
       "      <td>0</td>\n",
       "      <td>[0njfJmB-7n84DlIgUByCNw, rFn3Xe3RqHxRSxWOU19Gp...</td>\n",
       "      <td>0</td>\n",
       "      <td>Chris</td>\n",
       "      <td>10</td>\n",
       "      <td>0</td>\n",
       "      <td>JJ-aSuM4pCFPdkfoZ34q0Q</td>\n",
       "      <td>2013-09-24</td>\n",
       "    </tr>\n",
       "    <tr>\n",
       "      <th>2</th>\n",
       "      <td>2.00</td>\n",
       "      <td>0</td>\n",
       "      <td>0</td>\n",
       "      <td>0</td>\n",
       "      <td>0</td>\n",
       "      <td>0</td>\n",
       "      <td>0</td>\n",
       "      <td>0</td>\n",
       "      <td>0</td>\n",
       "      <td>0</td>\n",
       "      <td>...</td>\n",
       "      <td>0</td>\n",
       "      <td>[]</td>\n",
       "      <td>0</td>\n",
       "      <td>[]</td>\n",
       "      <td>0</td>\n",
       "      <td>Tiffy</td>\n",
       "      <td>1</td>\n",
       "      <td>0</td>\n",
       "      <td>uUzsFQn_6cXDh6rPNGbIFA</td>\n",
       "      <td>2017-03-02</td>\n",
       "    </tr>\n",
       "    <tr>\n",
       "      <th>3</th>\n",
       "      <td>4.67</td>\n",
       "      <td>0</td>\n",
       "      <td>0</td>\n",
       "      <td>0</td>\n",
       "      <td>0</td>\n",
       "      <td>0</td>\n",
       "      <td>0</td>\n",
       "      <td>0</td>\n",
       "      <td>0</td>\n",
       "      <td>0</td>\n",
       "      <td>...</td>\n",
       "      <td>0</td>\n",
       "      <td>[]</td>\n",
       "      <td>0</td>\n",
       "      <td>[]</td>\n",
       "      <td>0</td>\n",
       "      <td>Mark</td>\n",
       "      <td>6</td>\n",
       "      <td>0</td>\n",
       "      <td>mBneaEEH5EMyxaVyqS-72A</td>\n",
       "      <td>2015-03-13</td>\n",
       "    </tr>\n",
       "    <tr>\n",
       "      <th>4</th>\n",
       "      <td>4.67</td>\n",
       "      <td>0</td>\n",
       "      <td>0</td>\n",
       "      <td>0</td>\n",
       "      <td>0</td>\n",
       "      <td>0</td>\n",
       "      <td>0</td>\n",
       "      <td>0</td>\n",
       "      <td>0</td>\n",
       "      <td>0</td>\n",
       "      <td>...</td>\n",
       "      <td>0</td>\n",
       "      <td>[]</td>\n",
       "      <td>0</td>\n",
       "      <td>[]</td>\n",
       "      <td>0</td>\n",
       "      <td>Evelyn</td>\n",
       "      <td>3</td>\n",
       "      <td>0</td>\n",
       "      <td>W5mJGs-dcDWRGEhAzUYtoA</td>\n",
       "      <td>2016-09-08</td>\n",
       "    </tr>\n",
       "  </tbody>\n",
       "</table>\n",
       "<p>5 rows × 22 columns</p>\n",
       "</div>"
      ],
      "text/plain": [
       "   average_stars  compliment_cool  compliment_cute  compliment_funny  \\\n",
       "0           4.67                0                0                 0   \n",
       "1           3.70                0                0                 0   \n",
       "2           2.00                0                0                 0   \n",
       "3           4.67                0                0                 0   \n",
       "4           4.67                0                0                 0   \n",
       "\n",
       "   compliment_hot  compliment_list  compliment_more  compliment_note  \\\n",
       "0               0                0                0                0   \n",
       "1               0                0                0                0   \n",
       "2               0                0                0                0   \n",
       "3               0                0                0                0   \n",
       "4               0                0                0                0   \n",
       "\n",
       "   compliment_photos  compliment_plain      ...        cool  elite  fans  \\\n",
       "0                  0                 1      ...           0     []     0   \n",
       "1                  0                 0      ...           0     []     0   \n",
       "2                  0                 0      ...           0     []     0   \n",
       "3                  0                 0      ...           0     []     0   \n",
       "4                  0                 0      ...           0     []     0   \n",
       "\n",
       "                                             friends  funny    name  \\\n",
       "0  [cvVMmlU1ouS3I5fhutaryQ, nj6UZ8tdGo8YJ9lUMTVWN...      0  Johnny   \n",
       "1  [0njfJmB-7n84DlIgUByCNw, rFn3Xe3RqHxRSxWOU19Gp...      0   Chris   \n",
       "2                                                 []      0   Tiffy   \n",
       "3                                                 []      0    Mark   \n",
       "4                                                 []      0  Evelyn   \n",
       "\n",
       "   review_count useful                 user_id  yelping_since  \n",
       "0             8      0  oMy_rEb0UBEmMlu-zcxnoQ     2014-11-03  \n",
       "1            10      0  JJ-aSuM4pCFPdkfoZ34q0Q     2013-09-24  \n",
       "2             1      0  uUzsFQn_6cXDh6rPNGbIFA     2017-03-02  \n",
       "3             6      0  mBneaEEH5EMyxaVyqS-72A     2015-03-13  \n",
       "4             3      0  W5mJGs-dcDWRGEhAzUYtoA     2016-09-08  \n",
       "\n",
       "[5 rows x 22 columns]"
      ]
     },
     "execution_count": 6,
     "metadata": {},
     "output_type": "execute_result"
    }
   ],
   "source": [
    "df_user.head()"
   ]
  },
  {
   "cell_type": "code",
   "execution_count": 7,
   "metadata": {},
   "outputs": [
    {
     "data": {
      "text/html": [
       "<div>\n",
       "<style scoped>\n",
       "    .dataframe tbody tr th:only-of-type {\n",
       "        vertical-align: middle;\n",
       "    }\n",
       "\n",
       "    .dataframe tbody tr th {\n",
       "        vertical-align: top;\n",
       "    }\n",
       "\n",
       "    .dataframe thead th {\n",
       "        text-align: right;\n",
       "    }\n",
       "</style>\n",
       "<table border=\"1\" class=\"dataframe\">\n",
       "  <thead>\n",
       "    <tr style=\"text-align: right;\">\n",
       "      <th></th>\n",
       "      <th>business_id</th>\n",
       "      <th>cool</th>\n",
       "      <th>date</th>\n",
       "      <th>funny</th>\n",
       "      <th>review_id</th>\n",
       "      <th>stars</th>\n",
       "      <th>text</th>\n",
       "      <th>useful</th>\n",
       "      <th>user_id</th>\n",
       "    </tr>\n",
       "  </thead>\n",
       "  <tbody>\n",
       "    <tr>\n",
       "      <th>0</th>\n",
       "      <td>0W4lkclzZThpx3V65bVgig</td>\n",
       "      <td>0</td>\n",
       "      <td>2016-05-28</td>\n",
       "      <td>0</td>\n",
       "      <td>v0i_UHJMo_hPBq9bxWvW4w</td>\n",
       "      <td>5</td>\n",
       "      <td>Love the staff, love the meat, love the place....</td>\n",
       "      <td>0</td>\n",
       "      <td>bv2nCi5Qv5vroFiqKGopiw</td>\n",
       "    </tr>\n",
       "    <tr>\n",
       "      <th>1</th>\n",
       "      <td>AEx2SYEUJmTxVVB18LlCwA</td>\n",
       "      <td>0</td>\n",
       "      <td>2016-05-28</td>\n",
       "      <td>0</td>\n",
       "      <td>vkVSCC7xljjrAI4UGfnKEQ</td>\n",
       "      <td>5</td>\n",
       "      <td>Super simple place but amazing nonetheless. It...</td>\n",
       "      <td>0</td>\n",
       "      <td>bv2nCi5Qv5vroFiqKGopiw</td>\n",
       "    </tr>\n",
       "    <tr>\n",
       "      <th>2</th>\n",
       "      <td>VR6GpWIda3SfvPC-lg9H3w</td>\n",
       "      <td>0</td>\n",
       "      <td>2016-05-28</td>\n",
       "      <td>0</td>\n",
       "      <td>n6QzIUObkYshz4dz2QRJTw</td>\n",
       "      <td>5</td>\n",
       "      <td>Small unassuming place that changes their menu...</td>\n",
       "      <td>0</td>\n",
       "      <td>bv2nCi5Qv5vroFiqKGopiw</td>\n",
       "    </tr>\n",
       "    <tr>\n",
       "      <th>3</th>\n",
       "      <td>CKC0-MOWMqoeWf6s-szl8g</td>\n",
       "      <td>0</td>\n",
       "      <td>2016-05-28</td>\n",
       "      <td>0</td>\n",
       "      <td>MV3CcKScW05u5LVfF6ok0g</td>\n",
       "      <td>5</td>\n",
       "      <td>Lester's is located in a beautiful neighborhoo...</td>\n",
       "      <td>0</td>\n",
       "      <td>bv2nCi5Qv5vroFiqKGopiw</td>\n",
       "    </tr>\n",
       "    <tr>\n",
       "      <th>4</th>\n",
       "      <td>ACFtxLv8pGrrxMm6EgjreA</td>\n",
       "      <td>0</td>\n",
       "      <td>2016-05-28</td>\n",
       "      <td>0</td>\n",
       "      <td>IXvOzsEMYtiJI0CARmj77Q</td>\n",
       "      <td>4</td>\n",
       "      <td>Love coming here. Yes the place always needs t...</td>\n",
       "      <td>0</td>\n",
       "      <td>bv2nCi5Qv5vroFiqKGopiw</td>\n",
       "    </tr>\n",
       "  </tbody>\n",
       "</table>\n",
       "</div>"
      ],
      "text/plain": [
       "              business_id  cool       date  funny               review_id  \\\n",
       "0  0W4lkclzZThpx3V65bVgig     0 2016-05-28      0  v0i_UHJMo_hPBq9bxWvW4w   \n",
       "1  AEx2SYEUJmTxVVB18LlCwA     0 2016-05-28      0  vkVSCC7xljjrAI4UGfnKEQ   \n",
       "2  VR6GpWIda3SfvPC-lg9H3w     0 2016-05-28      0  n6QzIUObkYshz4dz2QRJTw   \n",
       "3  CKC0-MOWMqoeWf6s-szl8g     0 2016-05-28      0  MV3CcKScW05u5LVfF6ok0g   \n",
       "4  ACFtxLv8pGrrxMm6EgjreA     0 2016-05-28      0  IXvOzsEMYtiJI0CARmj77Q   \n",
       "\n",
       "   stars                                               text  useful  \\\n",
       "0      5  Love the staff, love the meat, love the place....       0   \n",
       "1      5  Super simple place but amazing nonetheless. It...       0   \n",
       "2      5  Small unassuming place that changes their menu...       0   \n",
       "3      5  Lester's is located in a beautiful neighborhoo...       0   \n",
       "4      4  Love coming here. Yes the place always needs t...       0   \n",
       "\n",
       "                  user_id  \n",
       "0  bv2nCi5Qv5vroFiqKGopiw  \n",
       "1  bv2nCi5Qv5vroFiqKGopiw  \n",
       "2  bv2nCi5Qv5vroFiqKGopiw  \n",
       "3  bv2nCi5Qv5vroFiqKGopiw  \n",
       "4  bv2nCi5Qv5vroFiqKGopiw  "
      ]
     },
     "execution_count": 7,
     "metadata": {},
     "output_type": "execute_result"
    }
   ],
   "source": [
    "df_rev.head()"
   ]
  },
  {
   "cell_type": "markdown",
   "metadata": {},
   "source": [
    "#### Renaming some columns\n",
    "There are column in with distinct features if different tables but bear the same names. For example, name apears in business table and user table, review_count is a column name in business column ad user column, cool, funny, useful are all a column name in review and user tables"
   ]
  },
  {
   "cell_type": "code",
   "execution_count": 8,
   "metadata": {
    "collapsed": true
   },
   "outputs": [],
   "source": [
    "#Renaming columns with the same names in different tables\n",
    "df_bus.rename(columns={\"name\":\"bus_name\",\"review_count\":\"bus_rev_count\"}, inplace=True)\n",
    "df_user.rename(columns={\"name\":\"user_name\", \"review_count\":\"user_rev_count\"}, inplace=True)\n",
    "df_rev.rename(columns={\"cool\":\"cool_rev\", \"funny\":\"funny_rev\", \"stars\":\"stars_rev\", \"useful\":\"useful_rev\"}, inplace=True)"
   ]
  },
  {
   "cell_type": "code",
   "execution_count": 9,
   "metadata": {},
   "outputs": [
    {
     "name": "stdout",
     "output_type": "stream",
     "text": [
      "Number of rows for business table: 174567\n",
      "Number of rows for user table: 1326101\n",
      "Number of rows for review table: 5261669\n"
     ]
    }
   ],
   "source": [
    "print(\"Number of rows for business table: {}\".format(len(df_bus)))\n",
    "print(\"Number of rows for user table: {}\".format(len(df_user)))\n",
    "print(\"Number of rows for review table: {}\".format(len(df_rev)))"
   ]
  },
  {
   "cell_type": "code",
   "execution_count": 10,
   "metadata": {
    "collapsed": true
   },
   "outputs": [],
   "source": [
    "us_states = [\"AL\",\"AK\",\"AZ\",\"AR\",\"CA\",\"CO\",\"CT\",\"DE\",\"FL\",\"GA\",\"HI\",\"ID\",\"IL\",\"IN\",\"IA\",\"KS\", \\\n",
    "            \"KY\",\"LA\",\"ME\",\"MD\",\"MA\",\"MI\",\"MN\",\"MS\",\"MO\",\"MT\",\"NE\",\"NV\",\"NH\",\"NJ\",\"NM\",\"NY\", \\\n",
    "            \"NC\",\"ND\",\"OH\",\"OK\",\"OR\",\"PA\",\"RI\",\"SC\",\"SD\",\"TN\",\"TX\",\"UT\",\"VT\",\"VA\",\"WA\",\"WV\",\"WI\",\"WY\"]\n",
    "\n",
    "#Extracting reviews for only US restaurants\n",
    "df_bus_us = df_bus[df_bus.state.isin (us_states)]"
   ]
  },
  {
   "cell_type": "code",
   "execution_count": 11,
   "metadata": {
    "collapsed": true
   },
   "outputs": [],
   "source": [
    "#Filtering businesses that are not resturants\n",
    "indx = [i for i, lst in enumerate(df_bus_us.categories)\n",
    "                                if \"Restaurants\" in lst]\n",
    "\n",
    "        \n",
    "\n",
    "df_bus_us = df_bus_us.iloc[indx]"
   ]
  },
  {
   "cell_type": "code",
   "execution_count": 12,
   "metadata": {},
   "outputs": [
    {
     "data": {
      "text/html": [
       "<div>\n",
       "<style scoped>\n",
       "    .dataframe tbody tr th:only-of-type {\n",
       "        vertical-align: middle;\n",
       "    }\n",
       "\n",
       "    .dataframe tbody tr th {\n",
       "        vertical-align: top;\n",
       "    }\n",
       "\n",
       "    .dataframe thead th {\n",
       "        text-align: right;\n",
       "    }\n",
       "</style>\n",
       "<table border=\"1\" class=\"dataframe\">\n",
       "  <thead>\n",
       "    <tr style=\"text-align: right;\">\n",
       "      <th></th>\n",
       "      <th>address</th>\n",
       "      <th>attributes</th>\n",
       "      <th>business_id</th>\n",
       "      <th>categories</th>\n",
       "      <th>city</th>\n",
       "      <th>hours</th>\n",
       "      <th>is_open</th>\n",
       "      <th>latitude</th>\n",
       "      <th>longitude</th>\n",
       "      <th>bus_name</th>\n",
       "      <th>neighborhood</th>\n",
       "      <th>postal_code</th>\n",
       "      <th>bus_rev_count</th>\n",
       "      <th>stars</th>\n",
       "      <th>state</th>\n",
       "    </tr>\n",
       "  </thead>\n",
       "  <tbody>\n",
       "    <tr>\n",
       "      <th>4</th>\n",
       "      <td>581 Howe Ave</td>\n",
       "      <td>{'Alcohol': 'full_bar', 'HasTV': True, 'NoiseL...</td>\n",
       "      <td>PfOCPjBrlQAnz__NXj9h_w</td>\n",
       "      <td>[American (New), Nightlife, Bars, Sandwiches, ...</td>\n",
       "      <td>Cuyahoga Falls</td>\n",
       "      <td>{'Monday': '11:00-1:00', 'Tuesday': '11:00-1:0...</td>\n",
       "      <td>1</td>\n",
       "      <td>41.119535</td>\n",
       "      <td>-81.475690</td>\n",
       "      <td>Brick House Tavern + Tap</td>\n",
       "      <td></td>\n",
       "      <td>44221</td>\n",
       "      <td>116</td>\n",
       "      <td>3.5</td>\n",
       "      <td>OH</td>\n",
       "    </tr>\n",
       "    <tr>\n",
       "      <th>10</th>\n",
       "      <td>737 West Pike St</td>\n",
       "      <td>{'RestaurantsTableService': True, 'GoodForMeal...</td>\n",
       "      <td>XOSRcvtaKc_Q5H1SAzN20A</td>\n",
       "      <td>[Breakfast &amp; Brunch, Gluten-Free, Coffee &amp; Tea...</td>\n",
       "      <td>Houston</td>\n",
       "      <td>{}</td>\n",
       "      <td>0</td>\n",
       "      <td>40.241548</td>\n",
       "      <td>-80.212815</td>\n",
       "      <td>East Coast Coffee</td>\n",
       "      <td></td>\n",
       "      <td>15342</td>\n",
       "      <td>3</td>\n",
       "      <td>4.5</td>\n",
       "      <td>PA</td>\n",
       "    </tr>\n",
       "    <tr>\n",
       "      <th>14</th>\n",
       "      <td>600 E 4th St</td>\n",
       "      <td>{'GoodForMeal': {'dessert': False, 'latenight'...</td>\n",
       "      <td>fNMVV_ZX7CJSDWQGdOM8Nw</td>\n",
       "      <td>[Restaurants, American (Traditional)]</td>\n",
       "      <td>Charlotte</td>\n",
       "      <td>{'Friday': '7:00-15:00', 'Tuesday': '7:00-15:0...</td>\n",
       "      <td>1</td>\n",
       "      <td>35.221647</td>\n",
       "      <td>-80.839345</td>\n",
       "      <td>Showmars Government Center</td>\n",
       "      <td>Uptown</td>\n",
       "      <td>28202</td>\n",
       "      <td>7</td>\n",
       "      <td>3.5</td>\n",
       "      <td>NC</td>\n",
       "    </tr>\n",
       "    <tr>\n",
       "      <th>28</th>\n",
       "      <td>38295 Chestnut Ridge Rd</td>\n",
       "      <td>{'GoodForMeal': {'dessert': False, 'latenight'...</td>\n",
       "      <td>Dj0S-Oe4ytRJzMGUPgYUkw</td>\n",
       "      <td>[Soup, Salad, Sandwiches, Restaurants]</td>\n",
       "      <td>Elyria</td>\n",
       "      <td>{'Monday': '6:30-21:00', 'Tuesday': '6:30-21:0...</td>\n",
       "      <td>1</td>\n",
       "      <td>41.343078</td>\n",
       "      <td>-82.067140</td>\n",
       "      <td>Panera Bread</td>\n",
       "      <td></td>\n",
       "      <td>44035</td>\n",
       "      <td>4</td>\n",
       "      <td>2.0</td>\n",
       "      <td>OH</td>\n",
       "    </tr>\n",
       "    <tr>\n",
       "      <th>29</th>\n",
       "      <td>2429 Hwy 160 W</td>\n",
       "      <td>{'GoodForMeal': {'dessert': False, 'latenight'...</td>\n",
       "      <td>gAy4LYpsScrj8POnCW6btQ</td>\n",
       "      <td>[Food, American (Traditional), Coffee &amp; Tea, R...</td>\n",
       "      <td>Fort Mill</td>\n",
       "      <td>{'Monday': '7:00-15:00', 'Tuesday': '7:00-15:0...</td>\n",
       "      <td>0</td>\n",
       "      <td>35.047287</td>\n",
       "      <td>-80.990559</td>\n",
       "      <td>Toast Cafe</td>\n",
       "      <td></td>\n",
       "      <td>29708</td>\n",
       "      <td>6</td>\n",
       "      <td>3.5</td>\n",
       "      <td>SC</td>\n",
       "    </tr>\n",
       "  </tbody>\n",
       "</table>\n",
       "</div>"
      ],
      "text/plain": [
       "                    address  \\\n",
       "4              581 Howe Ave   \n",
       "10         737 West Pike St   \n",
       "14             600 E 4th St   \n",
       "28  38295 Chestnut Ridge Rd   \n",
       "29           2429 Hwy 160 W   \n",
       "\n",
       "                                           attributes             business_id  \\\n",
       "4   {'Alcohol': 'full_bar', 'HasTV': True, 'NoiseL...  PfOCPjBrlQAnz__NXj9h_w   \n",
       "10  {'RestaurantsTableService': True, 'GoodForMeal...  XOSRcvtaKc_Q5H1SAzN20A   \n",
       "14  {'GoodForMeal': {'dessert': False, 'latenight'...  fNMVV_ZX7CJSDWQGdOM8Nw   \n",
       "28  {'GoodForMeal': {'dessert': False, 'latenight'...  Dj0S-Oe4ytRJzMGUPgYUkw   \n",
       "29  {'GoodForMeal': {'dessert': False, 'latenight'...  gAy4LYpsScrj8POnCW6btQ   \n",
       "\n",
       "                                           categories            city  \\\n",
       "4   [American (New), Nightlife, Bars, Sandwiches, ...  Cuyahoga Falls   \n",
       "10  [Breakfast & Brunch, Gluten-Free, Coffee & Tea...         Houston   \n",
       "14              [Restaurants, American (Traditional)]       Charlotte   \n",
       "28             [Soup, Salad, Sandwiches, Restaurants]          Elyria   \n",
       "29  [Food, American (Traditional), Coffee & Tea, R...       Fort Mill   \n",
       "\n",
       "                                                hours  is_open   latitude  \\\n",
       "4   {'Monday': '11:00-1:00', 'Tuesday': '11:00-1:0...        1  41.119535   \n",
       "10                                                 {}        0  40.241548   \n",
       "14  {'Friday': '7:00-15:00', 'Tuesday': '7:00-15:0...        1  35.221647   \n",
       "28  {'Monday': '6:30-21:00', 'Tuesday': '6:30-21:0...        1  41.343078   \n",
       "29  {'Monday': '7:00-15:00', 'Tuesday': '7:00-15:0...        0  35.047287   \n",
       "\n",
       "    longitude                    bus_name neighborhood postal_code  \\\n",
       "4  -81.475690    Brick House Tavern + Tap                    44221   \n",
       "10 -80.212815           East Coast Coffee                    15342   \n",
       "14 -80.839345  Showmars Government Center       Uptown       28202   \n",
       "28 -82.067140                Panera Bread                    44035   \n",
       "29 -80.990559                  Toast Cafe                    29708   \n",
       "\n",
       "    bus_rev_count  stars state  \n",
       "4             116    3.5    OH  \n",
       "10              3    4.5    PA  \n",
       "14              7    3.5    NC  \n",
       "28              4    2.0    OH  \n",
       "29              6    3.5    SC  "
      ]
     },
     "execution_count": 12,
     "metadata": {},
     "output_type": "execute_result"
    }
   ],
   "source": [
    "df_bus_us.head()"
   ]
  },
  {
   "cell_type": "code",
   "execution_count": 13,
   "metadata": {},
   "outputs": [
    {
     "name": "stdout",
     "output_type": "stream",
     "text": [
      "Number of rows for business table for US states: 32472\n"
     ]
    }
   ],
   "source": [
    "print(\"Number of rows for business table for US states: {}\".format(len(df_bus_us)))"
   ]
  },
  {
   "cell_type": "markdown",
   "metadata": {},
   "source": [
    "#### Joining tables \n",
    "review table and business table will be on business_id which is a common feature between the two tables. The join will be an since only businesses with reviews and/or reviews associated with a business. Next the resullting table from the former join will be left joined with the user table on the user_id feature common to both tables"
   ]
  },
  {
   "cell_type": "code",
   "execution_count": 14,
   "metadata": {
    "collapsed": true
   },
   "outputs": [],
   "source": [
    "# Joining review and business tables\n",
    "df_rev_bus = pd.merge(df_rev, df_bus_us, how='inner', on=['business_id', 'business_id'])"
   ]
  },
  {
   "cell_type": "code",
   "execution_count": 15,
   "metadata": {},
   "outputs": [
    {
     "data": {
      "text/html": [
       "<div>\n",
       "<style scoped>\n",
       "    .dataframe tbody tr th:only-of-type {\n",
       "        vertical-align: middle;\n",
       "    }\n",
       "\n",
       "    .dataframe tbody tr th {\n",
       "        vertical-align: top;\n",
       "    }\n",
       "\n",
       "    .dataframe thead th {\n",
       "        text-align: right;\n",
       "    }\n",
       "</style>\n",
       "<table border=\"1\" class=\"dataframe\">\n",
       "  <thead>\n",
       "    <tr style=\"text-align: right;\">\n",
       "      <th></th>\n",
       "      <th>business_id</th>\n",
       "      <th>cool_rev</th>\n",
       "      <th>date</th>\n",
       "      <th>funny_rev</th>\n",
       "      <th>review_id</th>\n",
       "      <th>stars_rev</th>\n",
       "      <th>text</th>\n",
       "      <th>useful_rev</th>\n",
       "      <th>user_id</th>\n",
       "      <th>address</th>\n",
       "      <th>...</th>\n",
       "      <th>hours</th>\n",
       "      <th>is_open</th>\n",
       "      <th>latitude</th>\n",
       "      <th>longitude</th>\n",
       "      <th>bus_name</th>\n",
       "      <th>neighborhood</th>\n",
       "      <th>postal_code</th>\n",
       "      <th>bus_rev_count</th>\n",
       "      <th>stars</th>\n",
       "      <th>state</th>\n",
       "    </tr>\n",
       "  </thead>\n",
       "  <tbody>\n",
       "    <tr>\n",
       "      <th>0</th>\n",
       "      <td>IXXERocY1bqGwRllcy8J2w</td>\n",
       "      <td>0</td>\n",
       "      <td>2009-08-30</td>\n",
       "      <td>0</td>\n",
       "      <td>nsThIz_-TuvgoFh0o9XJfQ</td>\n",
       "      <td>5</td>\n",
       "      <td>Visiting from SF.  Checked yelp and found this...</td>\n",
       "      <td>0</td>\n",
       "      <td>_L2SZSwf7A6YSrIHy_q4cw</td>\n",
       "      <td>831 E Johnson St, Ste 4</td>\n",
       "      <td>...</td>\n",
       "      <td>{'Sunday': '8:00-14:00', 'Saturday': '8:00-14:...</td>\n",
       "      <td>0</td>\n",
       "      <td>43.083805</td>\n",
       "      <td>-89.376811</td>\n",
       "      <td>Sophia's Bakery &amp; Cafe</td>\n",
       "      <td>Tenney - Lapham</td>\n",
       "      <td>53703</td>\n",
       "      <td>191</td>\n",
       "      <td>4.0</td>\n",
       "      <td>WI</td>\n",
       "    </tr>\n",
       "    <tr>\n",
       "      <th>1</th>\n",
       "      <td>IXXERocY1bqGwRllcy8J2w</td>\n",
       "      <td>1</td>\n",
       "      <td>2009-08-12</td>\n",
       "      <td>0</td>\n",
       "      <td>naGxxI3feEGAd2osLEPyUw</td>\n",
       "      <td>5</td>\n",
       "      <td>If you can get in the door...go! Go immediatel...</td>\n",
       "      <td>2</td>\n",
       "      <td>dt1n3wmyGvXiLIGav61teg</td>\n",
       "      <td>831 E Johnson St, Ste 4</td>\n",
       "      <td>...</td>\n",
       "      <td>{'Sunday': '8:00-14:00', 'Saturday': '8:00-14:...</td>\n",
       "      <td>0</td>\n",
       "      <td>43.083805</td>\n",
       "      <td>-89.376811</td>\n",
       "      <td>Sophia's Bakery &amp; Cafe</td>\n",
       "      <td>Tenney - Lapham</td>\n",
       "      <td>53703</td>\n",
       "      <td>191</td>\n",
       "      <td>4.0</td>\n",
       "      <td>WI</td>\n",
       "    </tr>\n",
       "    <tr>\n",
       "      <th>2</th>\n",
       "      <td>IXXERocY1bqGwRllcy8J2w</td>\n",
       "      <td>0</td>\n",
       "      <td>2017-06-17</td>\n",
       "      <td>0</td>\n",
       "      <td>6JgLyzYpaA1CUx7QUrZJYw</td>\n",
       "      <td>3</td>\n",
       "      <td>I just came here for the pastries and they wer...</td>\n",
       "      <td>0</td>\n",
       "      <td>fs8zup-cUxKYwH1q6nlNxg</td>\n",
       "      <td>831 E Johnson St, Ste 4</td>\n",
       "      <td>...</td>\n",
       "      <td>{'Sunday': '8:00-14:00', 'Saturday': '8:00-14:...</td>\n",
       "      <td>0</td>\n",
       "      <td>43.083805</td>\n",
       "      <td>-89.376811</td>\n",
       "      <td>Sophia's Bakery &amp; Cafe</td>\n",
       "      <td>Tenney - Lapham</td>\n",
       "      <td>53703</td>\n",
       "      <td>191</td>\n",
       "      <td>4.0</td>\n",
       "      <td>WI</td>\n",
       "    </tr>\n",
       "    <tr>\n",
       "      <th>3</th>\n",
       "      <td>IXXERocY1bqGwRllcy8J2w</td>\n",
       "      <td>0</td>\n",
       "      <td>2013-04-09</td>\n",
       "      <td>0</td>\n",
       "      <td>fdF1ZLdK-wkSx8j9QFoOIw</td>\n",
       "      <td>4</td>\n",
       "      <td>We stopped in here for a Saturday morning brea...</td>\n",
       "      <td>0</td>\n",
       "      <td>Lx5jVCom4-Y0k8duYbEhnw</td>\n",
       "      <td>831 E Johnson St, Ste 4</td>\n",
       "      <td>...</td>\n",
       "      <td>{'Sunday': '8:00-14:00', 'Saturday': '8:00-14:...</td>\n",
       "      <td>0</td>\n",
       "      <td>43.083805</td>\n",
       "      <td>-89.376811</td>\n",
       "      <td>Sophia's Bakery &amp; Cafe</td>\n",
       "      <td>Tenney - Lapham</td>\n",
       "      <td>53703</td>\n",
       "      <td>191</td>\n",
       "      <td>4.0</td>\n",
       "      <td>WI</td>\n",
       "    </tr>\n",
       "    <tr>\n",
       "      <th>4</th>\n",
       "      <td>IXXERocY1bqGwRllcy8J2w</td>\n",
       "      <td>1</td>\n",
       "      <td>2017-01-24</td>\n",
       "      <td>0</td>\n",
       "      <td>OblJyAgrBgjhonvMHzUV3A</td>\n",
       "      <td>5</td>\n",
       "      <td>Amazing breakfast in a super cozy environment!...</td>\n",
       "      <td>2</td>\n",
       "      <td>p6RurvWCPEqR8PP4siwiVA</td>\n",
       "      <td>831 E Johnson St, Ste 4</td>\n",
       "      <td>...</td>\n",
       "      <td>{'Sunday': '8:00-14:00', 'Saturday': '8:00-14:...</td>\n",
       "      <td>0</td>\n",
       "      <td>43.083805</td>\n",
       "      <td>-89.376811</td>\n",
       "      <td>Sophia's Bakery &amp; Cafe</td>\n",
       "      <td>Tenney - Lapham</td>\n",
       "      <td>53703</td>\n",
       "      <td>191</td>\n",
       "      <td>4.0</td>\n",
       "      <td>WI</td>\n",
       "    </tr>\n",
       "  </tbody>\n",
       "</table>\n",
       "<p>5 rows × 23 columns</p>\n",
       "</div>"
      ],
      "text/plain": [
       "              business_id  cool_rev       date  funny_rev  \\\n",
       "0  IXXERocY1bqGwRllcy8J2w         0 2009-08-30          0   \n",
       "1  IXXERocY1bqGwRllcy8J2w         1 2009-08-12          0   \n",
       "2  IXXERocY1bqGwRllcy8J2w         0 2017-06-17          0   \n",
       "3  IXXERocY1bqGwRllcy8J2w         0 2013-04-09          0   \n",
       "4  IXXERocY1bqGwRllcy8J2w         1 2017-01-24          0   \n",
       "\n",
       "                review_id  stars_rev  \\\n",
       "0  nsThIz_-TuvgoFh0o9XJfQ          5   \n",
       "1  naGxxI3feEGAd2osLEPyUw          5   \n",
       "2  6JgLyzYpaA1CUx7QUrZJYw          3   \n",
       "3  fdF1ZLdK-wkSx8j9QFoOIw          4   \n",
       "4  OblJyAgrBgjhonvMHzUV3A          5   \n",
       "\n",
       "                                                text  useful_rev  \\\n",
       "0  Visiting from SF.  Checked yelp and found this...           0   \n",
       "1  If you can get in the door...go! Go immediatel...           2   \n",
       "2  I just came here for the pastries and they wer...           0   \n",
       "3  We stopped in here for a Saturday morning brea...           0   \n",
       "4  Amazing breakfast in a super cozy environment!...           2   \n",
       "\n",
       "                  user_id                  address  ...   \\\n",
       "0  _L2SZSwf7A6YSrIHy_q4cw  831 E Johnson St, Ste 4  ...    \n",
       "1  dt1n3wmyGvXiLIGav61teg  831 E Johnson St, Ste 4  ...    \n",
       "2  fs8zup-cUxKYwH1q6nlNxg  831 E Johnson St, Ste 4  ...    \n",
       "3  Lx5jVCom4-Y0k8duYbEhnw  831 E Johnson St, Ste 4  ...    \n",
       "4  p6RurvWCPEqR8PP4siwiVA  831 E Johnson St, Ste 4  ...    \n",
       "\n",
       "                                               hours is_open   latitude  \\\n",
       "0  {'Sunday': '8:00-14:00', 'Saturday': '8:00-14:...       0  43.083805   \n",
       "1  {'Sunday': '8:00-14:00', 'Saturday': '8:00-14:...       0  43.083805   \n",
       "2  {'Sunday': '8:00-14:00', 'Saturday': '8:00-14:...       0  43.083805   \n",
       "3  {'Sunday': '8:00-14:00', 'Saturday': '8:00-14:...       0  43.083805   \n",
       "4  {'Sunday': '8:00-14:00', 'Saturday': '8:00-14:...       0  43.083805   \n",
       "\n",
       "   longitude                bus_name     neighborhood  postal_code  \\\n",
       "0 -89.376811  Sophia's Bakery & Cafe  Tenney - Lapham        53703   \n",
       "1 -89.376811  Sophia's Bakery & Cafe  Tenney - Lapham        53703   \n",
       "2 -89.376811  Sophia's Bakery & Cafe  Tenney - Lapham        53703   \n",
       "3 -89.376811  Sophia's Bakery & Cafe  Tenney - Lapham        53703   \n",
       "4 -89.376811  Sophia's Bakery & Cafe  Tenney - Lapham        53703   \n",
       "\n",
       "  bus_rev_count stars state  \n",
       "0           191   4.0    WI  \n",
       "1           191   4.0    WI  \n",
       "2           191   4.0    WI  \n",
       "3           191   4.0    WI  \n",
       "4           191   4.0    WI  \n",
       "\n",
       "[5 rows x 23 columns]"
      ]
     },
     "execution_count": 15,
     "metadata": {},
     "output_type": "execute_result"
    }
   ],
   "source": [
    "df_rev_bus.head()"
   ]
  },
  {
   "cell_type": "code",
   "execution_count": 16,
   "metadata": {
    "collapsed": true
   },
   "outputs": [],
   "source": [
    "# Joining merged review and business table with user table\n",
    "df_rev_bus_user = pd.merge(df_rev_bus, df_user, how='left', on=['user_id', 'user_id'])"
   ]
  },
  {
   "cell_type": "code",
   "execution_count": 17,
   "metadata": {},
   "outputs": [
    {
     "name": "stdout",
     "output_type": "stream",
     "text": [
      "Number of rows for business table for concated business, user and review: 2598115\n"
     ]
    }
   ],
   "source": [
    "print(\"Number of rows for business table for concated business, user and review: {}\".format(len(df_rev_bus_user)))"
   ]
  },
  {
   "cell_type": "code",
   "execution_count": 18,
   "metadata": {},
   "outputs": [
    {
     "data": {
      "text/html": [
       "<div>\n",
       "<style scoped>\n",
       "    .dataframe tbody tr th:only-of-type {\n",
       "        vertical-align: middle;\n",
       "    }\n",
       "\n",
       "    .dataframe tbody tr th {\n",
       "        vertical-align: top;\n",
       "    }\n",
       "\n",
       "    .dataframe thead th {\n",
       "        text-align: right;\n",
       "    }\n",
       "</style>\n",
       "<table border=\"1\" class=\"dataframe\">\n",
       "  <thead>\n",
       "    <tr style=\"text-align: right;\">\n",
       "      <th></th>\n",
       "      <th>business_id</th>\n",
       "      <th>cool_rev</th>\n",
       "      <th>date</th>\n",
       "      <th>funny_rev</th>\n",
       "      <th>review_id</th>\n",
       "      <th>stars_rev</th>\n",
       "      <th>text</th>\n",
       "      <th>useful_rev</th>\n",
       "      <th>user_id</th>\n",
       "      <th>address</th>\n",
       "      <th>...</th>\n",
       "      <th>compliment_writer</th>\n",
       "      <th>cool</th>\n",
       "      <th>elite</th>\n",
       "      <th>fans</th>\n",
       "      <th>friends</th>\n",
       "      <th>funny</th>\n",
       "      <th>user_name</th>\n",
       "      <th>user_rev_count</th>\n",
       "      <th>useful</th>\n",
       "      <th>yelping_since</th>\n",
       "    </tr>\n",
       "  </thead>\n",
       "  <tbody>\n",
       "    <tr>\n",
       "      <th>0</th>\n",
       "      <td>IXXERocY1bqGwRllcy8J2w</td>\n",
       "      <td>0</td>\n",
       "      <td>2009-08-30</td>\n",
       "      <td>0</td>\n",
       "      <td>nsThIz_-TuvgoFh0o9XJfQ</td>\n",
       "      <td>5</td>\n",
       "      <td>Visiting from SF.  Checked yelp and found this...</td>\n",
       "      <td>0</td>\n",
       "      <td>_L2SZSwf7A6YSrIHy_q4cw</td>\n",
       "      <td>831 E Johnson St, Ste 4</td>\n",
       "      <td>...</td>\n",
       "      <td>1</td>\n",
       "      <td>0</td>\n",
       "      <td>[]</td>\n",
       "      <td>1</td>\n",
       "      <td>[]</td>\n",
       "      <td>0</td>\n",
       "      <td>Joshua</td>\n",
       "      <td>47</td>\n",
       "      <td>0</td>\n",
       "      <td>2008-04-13</td>\n",
       "    </tr>\n",
       "    <tr>\n",
       "      <th>1</th>\n",
       "      <td>IXXERocY1bqGwRllcy8J2w</td>\n",
       "      <td>1</td>\n",
       "      <td>2009-08-12</td>\n",
       "      <td>0</td>\n",
       "      <td>naGxxI3feEGAd2osLEPyUw</td>\n",
       "      <td>5</td>\n",
       "      <td>If you can get in the door...go! Go immediatel...</td>\n",
       "      <td>2</td>\n",
       "      <td>dt1n3wmyGvXiLIGav61teg</td>\n",
       "      <td>831 E Johnson St, Ste 4</td>\n",
       "      <td>...</td>\n",
       "      <td>9</td>\n",
       "      <td>72</td>\n",
       "      <td>[2010, 2011, 2009]</td>\n",
       "      <td>13</td>\n",
       "      <td>[EQAyuvxamSfn3MGMjy7dsw, UsXqCXRZwSCSw0AT7y1uB...</td>\n",
       "      <td>62</td>\n",
       "      <td>Stephanie</td>\n",
       "      <td>185</td>\n",
       "      <td>92</td>\n",
       "      <td>2008-04-01</td>\n",
       "    </tr>\n",
       "    <tr>\n",
       "      <th>2</th>\n",
       "      <td>IXXERocY1bqGwRllcy8J2w</td>\n",
       "      <td>0</td>\n",
       "      <td>2017-06-17</td>\n",
       "      <td>0</td>\n",
       "      <td>6JgLyzYpaA1CUx7QUrZJYw</td>\n",
       "      <td>3</td>\n",
       "      <td>I just came here for the pastries and they wer...</td>\n",
       "      <td>0</td>\n",
       "      <td>fs8zup-cUxKYwH1q6nlNxg</td>\n",
       "      <td>831 E Johnson St, Ste 4</td>\n",
       "      <td>...</td>\n",
       "      <td>1</td>\n",
       "      <td>0</td>\n",
       "      <td>[2016, 2017]</td>\n",
       "      <td>1</td>\n",
       "      <td>[wd3xoNaDLib8dhQ7BxUl6g, pJyV8I6JsKG_iSzPLvb5A...</td>\n",
       "      <td>3</td>\n",
       "      <td>Tracy</td>\n",
       "      <td>45</td>\n",
       "      <td>15</td>\n",
       "      <td>2011-06-12</td>\n",
       "    </tr>\n",
       "    <tr>\n",
       "      <th>3</th>\n",
       "      <td>IXXERocY1bqGwRllcy8J2w</td>\n",
       "      <td>0</td>\n",
       "      <td>2013-04-09</td>\n",
       "      <td>0</td>\n",
       "      <td>fdF1ZLdK-wkSx8j9QFoOIw</td>\n",
       "      <td>4</td>\n",
       "      <td>We stopped in here for a Saturday morning brea...</td>\n",
       "      <td>0</td>\n",
       "      <td>Lx5jVCom4-Y0k8duYbEhnw</td>\n",
       "      <td>831 E Johnson St, Ste 4</td>\n",
       "      <td>...</td>\n",
       "      <td>1</td>\n",
       "      <td>0</td>\n",
       "      <td>[]</td>\n",
       "      <td>4</td>\n",
       "      <td>[KDG4BYYAOnzErrjyIPbJJw, n6UrsZu9iMw_RZl9X6j7E...</td>\n",
       "      <td>1</td>\n",
       "      <td>Karrey</td>\n",
       "      <td>41</td>\n",
       "      <td>3</td>\n",
       "      <td>2007-12-04</td>\n",
       "    </tr>\n",
       "    <tr>\n",
       "      <th>4</th>\n",
       "      <td>IXXERocY1bqGwRllcy8J2w</td>\n",
       "      <td>1</td>\n",
       "      <td>2017-01-24</td>\n",
       "      <td>0</td>\n",
       "      <td>OblJyAgrBgjhonvMHzUV3A</td>\n",
       "      <td>5</td>\n",
       "      <td>Amazing breakfast in a super cozy environment!...</td>\n",
       "      <td>2</td>\n",
       "      <td>p6RurvWCPEqR8PP4siwiVA</td>\n",
       "      <td>831 E Johnson St, Ste 4</td>\n",
       "      <td>...</td>\n",
       "      <td>26</td>\n",
       "      <td>101</td>\n",
       "      <td>[2016, 2017, 2015]</td>\n",
       "      <td>28</td>\n",
       "      <td>[4KYNUsdA-tPe-iKKudb0uQ, jynGTC7AOwHWFwc44glMf...</td>\n",
       "      <td>59</td>\n",
       "      <td>Emily</td>\n",
       "      <td>480</td>\n",
       "      <td>166</td>\n",
       "      <td>2012-07-29</td>\n",
       "    </tr>\n",
       "  </tbody>\n",
       "</table>\n",
       "<p>5 rows × 44 columns</p>\n",
       "</div>"
      ],
      "text/plain": [
       "              business_id  cool_rev       date  funny_rev  \\\n",
       "0  IXXERocY1bqGwRllcy8J2w         0 2009-08-30          0   \n",
       "1  IXXERocY1bqGwRllcy8J2w         1 2009-08-12          0   \n",
       "2  IXXERocY1bqGwRllcy8J2w         0 2017-06-17          0   \n",
       "3  IXXERocY1bqGwRllcy8J2w         0 2013-04-09          0   \n",
       "4  IXXERocY1bqGwRllcy8J2w         1 2017-01-24          0   \n",
       "\n",
       "                review_id  stars_rev  \\\n",
       "0  nsThIz_-TuvgoFh0o9XJfQ          5   \n",
       "1  naGxxI3feEGAd2osLEPyUw          5   \n",
       "2  6JgLyzYpaA1CUx7QUrZJYw          3   \n",
       "3  fdF1ZLdK-wkSx8j9QFoOIw          4   \n",
       "4  OblJyAgrBgjhonvMHzUV3A          5   \n",
       "\n",
       "                                                text  useful_rev  \\\n",
       "0  Visiting from SF.  Checked yelp and found this...           0   \n",
       "1  If you can get in the door...go! Go immediatel...           2   \n",
       "2  I just came here for the pastries and they wer...           0   \n",
       "3  We stopped in here for a Saturday morning brea...           0   \n",
       "4  Amazing breakfast in a super cozy environment!...           2   \n",
       "\n",
       "                  user_id                  address      ...       \\\n",
       "0  _L2SZSwf7A6YSrIHy_q4cw  831 E Johnson St, Ste 4      ...        \n",
       "1  dt1n3wmyGvXiLIGav61teg  831 E Johnson St, Ste 4      ...        \n",
       "2  fs8zup-cUxKYwH1q6nlNxg  831 E Johnson St, Ste 4      ...        \n",
       "3  Lx5jVCom4-Y0k8duYbEhnw  831 E Johnson St, Ste 4      ...        \n",
       "4  p6RurvWCPEqR8PP4siwiVA  831 E Johnson St, Ste 4      ...        \n",
       "\n",
       "  compliment_writer cool               elite fans  \\\n",
       "0                 1    0                  []    1   \n",
       "1                 9   72  [2010, 2011, 2009]   13   \n",
       "2                 1    0        [2016, 2017]    1   \n",
       "3                 1    0                  []    4   \n",
       "4                26  101  [2016, 2017, 2015]   28   \n",
       "\n",
       "                                             friends  funny  user_name  \\\n",
       "0                                                 []      0     Joshua   \n",
       "1  [EQAyuvxamSfn3MGMjy7dsw, UsXqCXRZwSCSw0AT7y1uB...     62  Stephanie   \n",
       "2  [wd3xoNaDLib8dhQ7BxUl6g, pJyV8I6JsKG_iSzPLvb5A...      3      Tracy   \n",
       "3  [KDG4BYYAOnzErrjyIPbJJw, n6UrsZu9iMw_RZl9X6j7E...      1     Karrey   \n",
       "4  [4KYNUsdA-tPe-iKKudb0uQ, jynGTC7AOwHWFwc44glMf...     59      Emily   \n",
       "\n",
       "  user_rev_count useful yelping_since  \n",
       "0             47      0    2008-04-13  \n",
       "1            185     92    2008-04-01  \n",
       "2             45     15    2011-06-12  \n",
       "3             41      3    2007-12-04  \n",
       "4            480    166    2012-07-29  \n",
       "\n",
       "[5 rows x 44 columns]"
      ]
     },
     "execution_count": 18,
     "metadata": {},
     "output_type": "execute_result"
    }
   ],
   "source": [
    "df_rev_bus_user.head()"
   ]
  },
  {
   "cell_type": "code",
   "execution_count": 19,
   "metadata": {},
   "outputs": [
    {
     "name": "stdout",
     "output_type": "stream",
     "text": [
      "<class 'pandas.core.frame.DataFrame'>\n",
      "Int64Index: 2598115 entries, 0 to 2598114\n",
      "Data columns (total 44 columns):\n",
      "business_id           object\n",
      "cool_rev              int64\n",
      "date                  datetime64[ns]\n",
      "funny_rev             int64\n",
      "review_id             object\n",
      "stars_rev             int64\n",
      "text                  object\n",
      "useful_rev            int64\n",
      "user_id               object\n",
      "address               object\n",
      "attributes            object\n",
      "categories            object\n",
      "city                  object\n",
      "hours                 object\n",
      "is_open               int64\n",
      "latitude              float64\n",
      "longitude             float64\n",
      "bus_name              object\n",
      "neighborhood          object\n",
      "postal_code           object\n",
      "bus_rev_count         int64\n",
      "stars                 float64\n",
      "state                 object\n",
      "average_stars         float64\n",
      "compliment_cool       int64\n",
      "compliment_cute       int64\n",
      "compliment_funny      int64\n",
      "compliment_hot        int64\n",
      "compliment_list       int64\n",
      "compliment_more       int64\n",
      "compliment_note       int64\n",
      "compliment_photos     int64\n",
      "compliment_plain      int64\n",
      "compliment_profile    int64\n",
      "compliment_writer     int64\n",
      "cool                  int64\n",
      "elite                 object\n",
      "fans                  int64\n",
      "friends               object\n",
      "funny                 int64\n",
      "user_name             object\n",
      "user_rev_count        int64\n",
      "useful                int64\n",
      "yelping_since         object\n",
      "dtypes: datetime64[ns](1), float64(4), int64(22), object(17)\n",
      "memory usage: 892.0+ MB\n"
     ]
    }
   ],
   "source": [
    "df_rev_bus_user.info()"
   ]
  },
  {
   "cell_type": "markdown",
   "metadata": {},
   "source": [
    "#### Pickling table\n",
    "Considering the size of the data, it is a good idea to pickle the resulting table and store it for easy access without going through the same EDA process each time. Most of the heavy lifting was done using a bigger machine on Amazon AWS."
   ]
  },
  {
   "cell_type": "code",
   "execution_count": 20,
   "metadata": {
    "collapsed": true
   },
   "outputs": [],
   "source": [
    "# with open(\"../efs/df_rev_bus_user.pickle\", \"wb\") as f:\n",
    "#     pickle.dump(df_rev_bus_user, f)"
   ]
  },
  {
   "cell_type": "code",
   "execution_count": 35,
   "metadata": {
    "collapsed": true
   },
   "outputs": [],
   "source": [
    "# with open(\"../efs/df_rev_bus_user.pickle\", \"rb\") as f:\n",
    "#     df_loaded = pickle.load(f)\n",
    "\n",
    "with open(\"../../../downloads/df_rev_bus_user.pickle\", \"rb\") as f:\n",
    "    df_loaded = pickle.load(f)"
   ]
  },
  {
   "cell_type": "code",
   "execution_count": 5,
   "metadata": {
    "collapsed": true
   },
   "outputs": [],
   "source": [
    "df_states = df_loaded[[\"state\", \"stars_rev\"]].groupby(\"state\", as_index=False).count().sort_values(by=\"stars_rev\", ascending=False)"
   ]
  },
  {
   "cell_type": "markdown",
   "metadata": {},
   "source": [
    "#### Visualizing the ratings and reviews\n",
    "It seems there are more 5 and 4 star reviews than 3, 2, and 1 in the barchart below. The number of reviews given increases with ratings except for 1 star being a little more than 2 star. The histogram and box plot below shows that the review text length generally ranges between 100 to 1000 words across all 5 rating categories with exception of some outliers."
   ]
  },
  {
   "cell_type": "code",
   "execution_count": 6,
   "metadata": {
    "collapsed": true
   },
   "outputs": [],
   "source": [
    "df_loaded['text length'] = df_loaded['text'].apply(len)"
   ]
  },
  {
   "cell_type": "code",
   "execution_count": 7,
   "metadata": {
    "collapsed": true
   },
   "outputs": [],
   "source": [
    "#Checking how many reviews in the data\n",
    "df_stars=df_loaded[[\"text length\", \"stars_rev\"]].groupby(\"stars_rev\",as_index=False).count()"
   ]
  },
  {
   "cell_type": "code",
   "execution_count": 8,
   "metadata": {},
   "outputs": [
    {
     "data": {
      "text/plain": [
       "<matplotlib.axes._subplots.AxesSubplot at 0x7fa9a7d0a278>"
      ]
     },
     "execution_count": 8,
     "metadata": {},
     "output_type": "execute_result"
    },
    {
     "data": {
      "image/png": "[encoded data removed]",
      "text/plain": [
       "<Figure size 432x288 with 1 Axes>"
      ]
     },
     "metadata": {},
     "output_type": "display_data"
    }
   ],
   "source": [
    "sns.barplot(x=\"stars_rev\", y=\"text length\", data=df_stars)"
   ]
  },
  {
   "cell_type": "code",
   "execution_count": 9,
   "metadata": {},
   "outputs": [
    {
     "data": {
      "text/plain": [
       "array([5, 3, 4, 1, 2])"
      ]
     },
     "execution_count": 9,
     "metadata": {},
     "output_type": "execute_result"
    }
   ],
   "source": [
    "pd.unique(df_loaded[\"stars_rev\"])"
   ]
  },
  {
   "cell_type": "code",
   "execution_count": 10,
   "metadata": {},
   "outputs": [
    {
     "data": {
      "text/plain": [
       "<seaborn.axisgrid.FacetGrid at 0x7fa9feccd908>"
      ]
     },
     "execution_count": 10,
     "metadata": {},
     "output_type": "execute_result"
    },
    {
     "data": {
      "image/png": "[encoded data removed]",
      "text/plain": [
       "<Figure size 1800x360 with 5 Axes>"
      ]
     },
     "metadata": {},
     "output_type": "display_data"
    }
   ],
   "source": [
    "g = sns.FacetGrid(data=df_loaded, col='stars_rev', size=5)\n",
    "g.map(plt.hist, 'text length', bins=50)"
   ]
  },
  {
   "cell_type": "code",
   "execution_count": 11,
   "metadata": {
    "scrolled": true
   },
   "outputs": [
    {
     "data": {
      "text/plain": [
       "<matplotlib.axes._subplots.AxesSubplot at 0x7fa9409ae6d8>"
      ]
     },
     "execution_count": 11,
     "metadata": {},
     "output_type": "execute_result"
    },
    {
     "data": {
      "image/png": "[encoded data removed]",
      "text/plain": [
       "<Figure size 432x288 with 1 Axes>"
      ]
     },
     "metadata": {},
     "output_type": "display_data"
    }
   ],
   "source": [
    "sns.boxplot(x='stars_rev', y='text length', data=df_loaded)"
   ]
  },
  {
   "cell_type": "code",
   "execution_count": 12,
   "metadata": {},
   "outputs": [
    {
     "data": {
      "image/png": "[encoded data removed]",
      "text/plain": [
       "<Figure size 432x288 with 1 Axes>"
      ]
     },
     "metadata": {},
     "output_type": "display_data"
    }
   ],
   "source": [
    "sns.barplot(x=\"state\", y=\"stars_rev\", data=df_states)\n",
    "_=plt.axvline(x=4.5, linewidth=2, color=\"r\")"
   ]
  },
  {
   "cell_type": "code",
   "execution_count": 14,
   "metadata": {},
   "outputs": [
    {
     "name": "stdout",
     "output_type": "stream",
     "text": [
      "Percent of data accounted by states before the line: 95.91%\n"
     ]
    }
   ],
   "source": [
    "num=sum(df_states[\"stars_rev\"].iloc[:5])\n",
    "den=sum(df_states[\"stars_rev\"])\n",
    "print(\"Percent of data accounted by states before the line: {}%\". format(round(num/den * 100, 2)))"
   ]
  },
  {
   "cell_type": "markdown",
   "metadata": {},
   "source": [
    "The plot above shows that most of the review data available are from less than half of the states. Only the data for the states before the vertical line in the plot will be used to build the model as they account for 95.91% of the data and the rest for validation."
   ]
  },
  {
   "cell_type": "code",
   "execution_count": 5,
   "metadata": {
    "collapsed": true
   },
   "outputs": [],
   "source": [
    "#Splitting the data\n",
    "df_build = df_loaded[df_loaded[\"state\"].isin([\"NV\", \"AZ\", \"NC\", \"OH\", \"PA\"])]\n",
    "df_test = df_loaded[df_loaded[\"state\"].isin([\"NV\", \"AZ\", \"NC\", \"OH\", \"PA\"]) == False]"
   ]
  },
  {
   "cell_type": "code",
   "execution_count": 16,
   "metadata": {
    "collapsed": true
   },
   "outputs": [],
   "source": [
    "# with open(\"../efs/df_test.pickle\", \"wb\") as f:\n",
    "#     pickle.dump(df_test, f)"
   ]
  },
  {
   "cell_type": "markdown",
   "metadata": {},
   "source": [
    "#### Preping Data for 1-star 5-star classification\n",
    "The data will tokenized, lemmatized and stripped of stopwords and return as an array of documents. Next, the documents are striped of symbols and words containing numbers. This process allows for only important words that describe the information in that document. "
   ]
  },
  {
   "cell_type": "code",
   "execution_count": 14,
   "metadata": {},
   "outputs": [
    {
     "data": {
      "text/html": [
       "<div>\n",
       "<style scoped>\n",
       "    .dataframe tbody tr th:only-of-type {\n",
       "        vertical-align: middle;\n",
       "    }\n",
       "\n",
       "    .dataframe tbody tr th {\n",
       "        vertical-align: top;\n",
       "    }\n",
       "\n",
       "    .dataframe thead th {\n",
       "        text-align: right;\n",
       "    }\n",
       "</style>\n",
       "<table border=\"1\" class=\"dataframe\">\n",
       "  <thead>\n",
       "    <tr style=\"text-align: right;\">\n",
       "      <th></th>\n",
       "      <th>text</th>\n",
       "      <th>stars_rev</th>\n",
       "    </tr>\n",
       "  </thead>\n",
       "  <tbody>\n",
       "    <tr>\n",
       "      <th>191</th>\n",
       "      <td>We always go to the chevo's in chandler which ...</td>\n",
       "      <td>1</td>\n",
       "    </tr>\n",
       "    <tr>\n",
       "      <th>192</th>\n",
       "      <td>Great grilled chicken burrito which believe it...</td>\n",
       "      <td>5</td>\n",
       "    </tr>\n",
       "    <tr>\n",
       "      <th>193</th>\n",
       "      <td>Everything I've had so far has been great. Not...</td>\n",
       "      <td>5</td>\n",
       "    </tr>\n",
       "    <tr>\n",
       "      <th>195</th>\n",
       "      <td>Can't describe how bad this place is...was hop...</td>\n",
       "      <td>1</td>\n",
       "    </tr>\n",
       "    <tr>\n",
       "      <th>196</th>\n",
       "      <td>Bomb.com\\n\\nWas craving some good Mexican food...</td>\n",
       "      <td>5</td>\n",
       "    </tr>\n",
       "  </tbody>\n",
       "</table>\n",
       "</div>"
      ],
      "text/plain": [
       "                                                  text  stars_rev\n",
       "191  We always go to the chevo's in chandler which ...          1\n",
       "192  Great grilled chicken burrito which believe it...          5\n",
       "193  Everything I've had so far has been great. Not...          5\n",
       "195  Can't describe how bad this place is...was hop...          1\n",
       "196  Bomb.com\\n\\nWas craving some good Mexican food...          5"
      ]
     },
     "execution_count": 14,
     "metadata": {},
     "output_type": "execute_result"
    }
   ],
   "source": [
    "# df = df_loaded[[\"text\", \"stars_rev\"]][df_loaded[\"state\"]==\"WI\"]\n",
    "# df = df[df.stars_rev.isin([1,5])]\n",
    "df = df_build[[\"text\", \"stars_rev\"]]\n",
    "df = df[df.stars_rev.isin([1,5])]\n",
    "df.head()"
   ]
  },
  {
   "cell_type": "code",
   "execution_count": 18,
   "metadata": {
    "collapsed": true
   },
   "outputs": [],
   "source": [
    "y = df[\"stars_rev\"].values\n",
    "corpus = df[\"text\"].values"
   ]
  },
  {
   "cell_type": "code",
   "execution_count": 19,
   "metadata": {},
   "outputs": [
    {
     "name": "stdout",
     "output_type": "stream",
     "text": [
      "Number of words reviews in corpus: 1285808\n"
     ]
    }
   ],
   "source": [
    "print(\"Number of words reviews in corpus: {}\".format(len(corpus)))"
   ]
  },
  {
   "cell_type": "code",
   "execution_count": 22,
   "metadata": {},
   "outputs": [
    {
     "data": {
      "text/plain": [
       "\"We always go to the chevo's in chandler which is delicious, the one in ahwatukee is different for some reason.  Ordered the chicken rolled tacos today there was a tiny lil piece of chicken in each one, so basically I had 3 rolled deep fried tortillas yuck! :( No flavor what so ever.  Also ordered carne asada taco the meat tasted old like it was cooked earlier and just thrown on the grill to get warm.  Very dissapointed!!\""
      ]
     },
     "execution_count": 22,
     "metadata": {},
     "output_type": "execute_result"
    }
   ],
   "source": [
    "#View a document before cleaning\n",
    "corpus[0]"
   ]
  },
  {
   "cell_type": "code",
   "execution_count": 23,
   "metadata": {
    "collapsed": true
   },
   "outputs": [],
   "source": [
    "cleaned = util.clean_stem(corpus)"
   ]
  },
  {
   "cell_type": "code",
   "execution_count": 24,
   "metadata": {},
   "outputs": [
    {
     "data": {
      "text/plain": [
       "\"always go chevo's chandler delicious one ahwatukee different reason ordered chicken rolled taco today tiny lil piece chicken one basically rolled deep fried tortilla yuck flavor ever also ordered carne asada taco meat tasted old like cooked earlier thrown grill get warm dissapointed\""
      ]
     },
     "execution_count": 24,
     "metadata": {},
     "output_type": "execute_result"
    }
   ],
   "source": [
    "#View a document after cleaning\n",
    "cleaned[0]"
   ]
  },
  {
   "cell_type": "code",
   "execution_count": 25,
   "metadata": {},
   "outputs": [
    {
     "name": "stdout",
     "output_type": "stream",
     "text": [
      "Number of words before cleaning, and removing stopwords: 120688125\n",
      "Number of words after cleaning, and removing stopwords: 60817433\n"
     ]
    }
   ],
   "source": [
    "print(\"Number of words before cleaning, and removing stopwords: {}\".format(len(\"\".join(corpus).split())))\n",
    "print(\"Number of words after cleaning, and removing stopwords: {}\".format(len(\"\".join(cleaned).split())))"
   ]
  },
  {
   "cell_type": "code",
   "execution_count": 26,
   "metadata": {
    "collapsed": true
   },
   "outputs": [],
   "source": [
    "X_train, X_test, y_train, y_test = train_test_split(cleaned, y, test_size=0.25, random_state=1)"
   ]
  },
  {
   "cell_type": "markdown",
   "metadata": {},
   "source": [
    "### LogisticRegression Linear model\n",
    "The ReviewClassifier class performs a vectorization on the corpus of cleaned words and builds the feature matrix using TfIDF(Term frequency inverse transform frequency) which is fed to a Logistic Regression model for classification."
   ]
  },
  {
   "cell_type": "code",
   "execution_count": 27,
   "metadata": {
    "collapsed": true
   },
   "outputs": [],
   "source": [
    "model15 = ReviewClassifier()\n",
    "model15.fit(X_train, y_train)\n",
    "y_pred = model15.predict(X_test)"
   ]
  },
  {
   "cell_type": "code",
   "execution_count": 28,
   "metadata": {
    "collapsed": true
   },
   "outputs": [],
   "source": [
    "#Estimating metrics\n",
    "matrix, recall, precision, accuracy = model15.metrics_eval(X_test, y_test)"
   ]
  },
  {
   "cell_type": "code",
   "execution_count": 29,
   "metadata": {},
   "outputs": [
    {
     "data": {
      "text/plain": [
       "array([[246523,   3705],\n",
       "       [  2515,  68709]])"
      ]
     },
     "execution_count": 29,
     "metadata": {},
     "output_type": "execute_result"
    }
   ],
   "source": [
    "#confusion matrix\n",
    "matrix"
   ]
  },
  {
   "cell_type": "code",
   "execution_count": 30,
   "metadata": {},
   "outputs": [
    {
     "name": "stdout",
     "output_type": "stream",
     "text": [
      "Recall: 98.99%\n",
      "Precision: 98.52%\n",
      "Accuracy: 98.07%\n"
     ]
    }
   ],
   "source": [
    "print(\"Recall: {}%\".format(round(recall*100, 2)))\n",
    "print(\"Precision: {}%\".format(round(precision*100, 2)))\n",
    "print(\"Accuracy: {}%\".format(round(accuracy*100, 2)))"
   ]
  },
  {
   "cell_type": "code",
   "execution_count": 16,
   "metadata": {
    "collapsed": true
   },
   "outputs": [],
   "source": [
    "# Positive and negative sentiments\n",
    "pos_terms, neg_terms = model15.feature_importance(40)"
   ]
  },
  {
   "cell_type": "code",
   "execution_count": 32,
   "metadata": {},
   "outputs": [
    {
     "data": {
      "text/plain": [
       "[('delicious', 21.545791791843364),\n",
       " ('amazing', 19.670088894739212),\n",
       " ('great', 17.341812613990015),\n",
       " ('awesome', 16.066073122631803),\n",
       " ('best', 15.799050863989965),\n",
       " ('excellent', 15.782685134741055),\n",
       " ('perfect', 14.34991597611837),\n",
       " ('fantastic', 13.345065296405451),\n",
       " ('love', 12.316899575710048),\n",
       " ('favorite', 11.75256798683862),\n",
       " ('perfectly', 10.752482826416426),\n",
       " ('loved', 10.615953556643225),\n",
       " ('outstanding', 10.193136249755657),\n",
       " ('wonderful', 9.941801726833678),\n",
       " ('yummy', 9.620769890531777),\n",
       " ('perfection', 9.391673367911364),\n",
       " ('friendly', 9.33415481635652),\n",
       " ('incredible', 9.024244237766641),\n",
       " ('definitely', 8.7704367386723),\n",
       " ('notch', 8.499168501919296),\n",
       " ('die', 7.823317516343465),\n",
       " ('phenomenal', 7.7869348216348815),\n",
       " ('beat', 7.764767831512102),\n",
       " ('bomb', 7.646431377163423),\n",
       " ('delish', 7.514748600418767),\n",
       " ('glad', 7.495890092717456),\n",
       " ('highly', 7.38080139357425),\n",
       " ('reasonably', 7.296161201159332),\n",
       " ('superb', 7.1803480334012635),\n",
       " ('enjoyed', 7.167844076417469),\n",
       " ('heaven', 7.141789280710164),\n",
       " ('good', 6.984171517423672),\n",
       " ('fresh', 6.904755546982564),\n",
       " ('tasty', 6.904212564123821),\n",
       " ('fabulous', 6.901912229050777),\n",
       " ('reasonable', 6.900752176389493),\n",
       " ('yum', 6.878332119637591),\n",
       " ('gem', 6.824754553441081),\n",
       " ('exceptional', 6.751395620445817),\n",
       " ('attentive', 6.663824485087053)]"
      ]
     },
     "execution_count": 32,
     "metadata": {},
     "output_type": "execute_result"
    }
   ],
   "source": [
    "pos_terms"
   ]
  },
  {
   "cell_type": "code",
   "execution_count": 17,
   "metadata": {},
   "outputs": [
    {
     "data": {
      "text/plain": [
       "[('worst', -18.632991293801073),\n",
       " ('horrible', -15.411915515187022),\n",
       " ('terrible', -13.823528478977607),\n",
       " ('bland', -12.563329547852629),\n",
       " ('awful', -12.443873899302082),\n",
       " ('mediocre', -12.288587981669574),\n",
       " ('disappointing', -11.876978105735859),\n",
       " ('rude', -11.536995869589457),\n",
       " ('poisoning', -10.941568614432123),\n",
       " ('disgusting', -10.181109854137999),\n",
       " ('poor', -10.155878087034957),\n",
       " ('tasteless', -10.05577823517732),\n",
       " ('worse', -9.55378041759944),\n",
       " ('dry', -9.228186285048212),\n",
       " ('gross', -9.149051948362953),\n",
       " ('waste', -9.14478216352569),\n",
       " ('overpriced', -9.082138286215311),\n",
       " ('disappointment', -9.024991452455488),\n",
       " ('flavorless', -8.471733456821335),\n",
       " ('inedible', -8.280089527339477),\n",
       " ('zero', -7.722555743435734),\n",
       " ('stale', -7.608663219309208),\n",
       " ('slow', -7.395978896685809),\n",
       " ('charged', -7.36738655451742),\n",
       " ('sick', -7.180401627754122),\n",
       " ('unfortunately', -7.163027507017637),\n",
       " ('suck', -7.0723075647015765),\n",
       " ('nasty', -6.995871909583275),\n",
       " ('cold', -6.973533706573698),\n",
       " ('lacked', -6.87836023854492),\n",
       " ('ok', -6.823302626316866),\n",
       " ('dirty', -6.820479283908587),\n",
       " ('yuck', -6.792558148619482),\n",
       " ('overcooked', -6.6817088395468),\n",
       " ('burnt', -6.638574506999747),\n",
       " ('unprofessional', -6.482932535276872),\n",
       " ('barely', -6.404273065820462),\n",
       " ('poorly', -6.380963261575122),\n",
       " ('undercooked', -6.357533801255295),\n",
       " ('unacceptable', -6.301330932785147)]"
      ]
     },
     "execution_count": 17,
     "metadata": {},
     "output_type": "execute_result"
    }
   ],
   "source": [
    "neg_terms"
   ]
  },
  {
   "cell_type": "code",
   "execution_count": 34,
   "metadata": {
    "collapsed": true
   },
   "outputs": [],
   "source": [
    "with open(\"../efs/models/model15.pickle\", \"wb\") as f:\n",
    "    pickle.dump(model15, f)"
   ]
  },
  {
   "cell_type": "code",
   "execution_count": 15,
   "metadata": {
    "collapsed": true
   },
   "outputs": [],
   "source": [
    "with open(\"../efs/models/model15.pickle\", \"rb\") as f:\n",
    "    model15 = pickle.load(f)"
   ]
  },
  {
   "cell_type": "markdown",
   "metadata": {},
   "source": [
    "### Testing"
   ]
  },
  {
   "cell_type": "markdown",
   "metadata": {},
   "source": [
    "#### Building model combination\n",
    "The above results gave a good contrast between a 1-star rating and a 5-star rating, and that is expected because a 1-star rating can be seen as an opposite of a 5-star rating and the the words associated to these ratings have clear opposite connotations. It will be interesting to see how customer experience will vary if as the gap between positive and negative experience closes in. Models for 5-2, 5-3, 5-4, 1-2, 1-3 and 1-4 star ratings will be built to see the effect."
   ]
  },
  {
   "cell_type": "code",
   "execution_count": 9,
   "metadata": {},
   "outputs": [
    {
     "name": "stdout",
     "output_type": "stream",
     "text": [
      "Number of reviews: 1642754 \n",
      "\n",
      "Confusion matrix\n",
      "[[207131  63125]\n",
      " [ 42148  98285]] \n",
      "\n",
      "Recall: 83.09%\n",
      "Precision: 76.64%\n",
      "Accuracy: 74.37%\n"
     ]
    }
   ],
   "source": [
    "#4-star and 5-star ratings\n",
    "model45 = main(df_build, 0, 0.25, 4, 5, state=None)"
   ]
  },
  {
   "cell_type": "code",
   "execution_count": 10,
   "metadata": {
    "collapsed": true
   },
   "outputs": [],
   "source": [
    "# with open(\"../efs/models/model45.pickle\", \"wb\") as f:\n",
    "#     pickle.dump(model45, f)"
   ]
  },
  {
   "cell_type": "code",
   "execution_count": 4,
   "metadata": {
    "collapsed": true
   },
   "outputs": [],
   "source": [
    "# with open(\"../efs/models/model45.pickle\", \"rb\") as f:\n",
    "#     model45 = pickle.load(f)\n",
    "\n",
    "with open(\"../break_week/models/model45.pickle\", \"rb\") as f:\n",
    "    model45 = pickle.load(f)"
   ]
  },
  {
   "cell_type": "code",
   "execution_count": 5,
   "metadata": {
    "collapsed": true
   },
   "outputs": [],
   "source": [
    "# with open(\"../efs/df_test.pickle\", \"rb\") as f:\n",
    "#     df_test = pickle.load(f)\n",
    "\n",
    "with open(\"../break_week/df_test.pickle\", \"rb\") as f:\n",
    "    df_test = pickle.load(f)"
   ]
  },
  {
   "cell_type": "code",
   "execution_count": 24,
   "metadata": {
    "scrolled": false
   },
   "outputs": [
    {
     "name": "stdout",
     "output_type": "stream",
     "text": [
      "Restaurant Name: The Old Fashioned \n",
      "\n",
      "Size of corpus: 1139 \n",
      "\n",
      "Recall: 0.78%\n",
      "Precision: 0.66%\n",
      "Accuracy: 67.34%\n",
      "\n",
      " [('Food', {'overall': 3, 'decent': 7, 'slow': 2, 'reason': 3, 'okay': 1, 'ok': 1, 'bland': 1, 'lacking': 1, 'lacked': 1}), ('Service', {'ok': 2, 'overall': 5, 'spotty': 1, 'meh': 1, 'decent': 6, 'slow': 2}), ('Location', {'ok': 1, 'overall': 2, 'decent': 1, 'reason': 3}), ('Drink', {'decent': 1, 'okay': 1}), ('Cost', {'decent': 5})] \n",
      "\n",
      "\n",
      " [('Food', {'best': 111, 'amazing': 35, 'awesome': 18, 'heaven': 3, 'favorite': 16, 'phenomenal': 3, 'omg': 3, 'unbelievable': 1, 'incredible': 2, 'wow': 2, 'perfection': 1}), ('Service', {'thank': 1, 'awesome': 9, 'amazing': 10, 'best': 6, 'perfection': 1, 'incredible': 3, 'favorite': 1, 'phenomenal': 2}), ('Location', {'favorite': 41, 'best': 23, 'highly': 30, 'awesome': 7, 'phenomenal': 1, 'wow': 1, 'omg': 1, 'amazing': 6}), ('Drink', {'awesome': 9, 'amazing': 8, 'heaven': 2, 'favorite': 8, 'incredible': 3, 'best': 5, 'phenomenal': 1}), ('Cost', {'phenomenal': 1, 'amazing': 2, 'incredible': 1})] \n",
      "\n"
     ]
    },
    {
     "data": {
      "image/png": "[encoded data removed]",
      "text/plain": [
       "<matplotlib.figure.Figure at 0x10d38b6d8>"
      ]
     },
     "metadata": {},
     "output_type": "display_data"
    },
    {
     "data": {
      "image/png": "[encoded data removed]",
      "text/plain": [
       "<matplotlib.figure.Figure at 0x1a38f0ae10>"
      ]
     },
     "metadata": {},
     "output_type": "display_data"
    }
   ],
   "source": [
    "util.vary_ratings(model45, df_test, 4, 5, indx=10, bus_name=\"The Old Fashioned\")"
   ]
  },
  {
   "cell_type": "code",
   "execution_count": 12,
   "metadata": {},
   "outputs": [
    {
     "name": "stdout",
     "output_type": "stream",
     "text": [
      "Number of reviews: 1317891 \n",
      "\n",
      "Confusion matrix\n",
      "[[238521  17604]\n",
      " [ 10082  63266]] \n",
      "\n",
      "Recall: 95.94%\n",
      "Precision: 93.13%\n",
      "Accuracy: 91.6%\n"
     ]
    }
   ],
   "source": [
    "#3-star and 5-star ratings\n",
    "model35 = main(df_build, 0, 0.25, 3, 5, state=None)"
   ]
  },
  {
   "cell_type": "code",
   "execution_count": 13,
   "metadata": {
    "collapsed": true
   },
   "outputs": [],
   "source": [
    "with open(\"../efs/models/model35.pickle\", \"wb\") as f:\n",
    "    pickle.dump(model35, f)"
   ]
  },
  {
   "cell_type": "code",
   "execution_count": 9,
   "metadata": {
    "collapsed": true
   },
   "outputs": [],
   "source": [
    "# with open(\"../efs/models/model35.pickle\", \"rb\") as f:\n",
    "#     model35 = pickle.load(f)\n",
    "    \n",
    "with open(\"../break_week/models/model35.pickle\", \"rb\") as f:\n",
    "    model35 = pickle.load(f)"
   ]
  },
  {
   "cell_type": "code",
   "execution_count": 25,
   "metadata": {
    "scrolled": false
   },
   "outputs": [
    {
     "name": "stdout",
     "output_type": "stream",
     "text": [
      "Restaurant Name: The Old Fashioned \n",
      "\n",
      "Size of corpus: 794 \n",
      "\n",
      "Recall: 0.95%\n",
      "Precision: 0.93%\n",
      "Accuracy: 91.18%\n",
      "\n",
      " [('Food', {'decent': 7, 'mediocre': 2, 'average': 2, 'okay': 3, 'lacking': 1, 'unfortunately': 2, 'ok': 1, 'bland': 1, 'lacked': 2}), ('Service', {'ok': 2, 'alright': 1, 'mediocre': 1, 'okay': 2, 'average': 1, 'worst': 1, 'unfortunately': 1, 'decent': 1}), ('Drink', {'bland': 1, 'decent': 1, 'meh': 1, 'average': 1}), ('Location', {'decent': 4, 'unfortunately': 1, 'average': 1}), ('Cost', {'decent': 1})] \n",
      "\n",
      "\n",
      " [('Food', {'great': 86, 'best': 75, 'excellent': 19, 'amazing': 21, 'wonderful': 4, 'awesome': 14, 'delicious': 24, 'fantastic': 5, 'favorite': 11, 'perfectly': 8, 'perfect': 6, 'incredible': 1, 'perfection': 1}), ('Drink', {'excellent': 11, 'great': 40, 'favorite': 4, 'best': 5, 'delicious': 5, 'perfect': 2, 'incredible': 2, 'wonderful': 2, 'amazing': 5, 'awesome': 4, 'fantastic': 4, 'gem': 1, 'perfectly': 1}), ('Service', {'great': 55, 'perfect': 2, 'delicious': 8, 'excellent': 9, 'awesome': 7, 'best': 5, 'amazing': 10, 'fantastic': 4, 'perfection': 1, 'incredible': 2, 'favorite': 1, 'perfectly': 2}), ('Location', {'great': 82, 'awesome': 5, 'favorite': 30, 'perfect': 11, 'best': 19, 'wonderful': 5, 'fantastic': 4, 'excellent': 4, 'amazing': 4, 'delicious': 3, 'highly': 19}), ('Cost', {'delicious': 3, 'excellent': 1, 'great': 4, 'amazing': 2, 'fantastic': 1})] \n",
      "\n"
     ]
    },
    {
     "data": {
      "image/png": "[encoded data removed]",
      "text/plain": [
       "<matplotlib.figure.Figure at 0x1a2eaa85c0>"
      ]
     },
     "metadata": {},
     "output_type": "display_data"
    },
    {
     "data": {
      "image/png": "[encoded data removed]",
      "text/plain": [
       "<matplotlib.figure.Figure at 0x1a2eaabef0>"
      ]
     },
     "metadata": {},
     "output_type": "display_data"
    }
   ],
   "source": [
    "util.vary_ratings(model35, df_test, 3, 5, indx=33, bus_name=\"The Old Fashioned\")"
   ]
  },
  {
   "cell_type": "code",
   "execution_count": 15,
   "metadata": {},
   "outputs": [
    {
     "name": "stdout",
     "output_type": "stream",
     "text": [
      "Number of reviews: 1230500 \n",
      "\n",
      "Confusion matrix\n",
      "[[244876   6519]\n",
      " [  3636  52594]] \n",
      "\n",
      "Recall: 98.54%\n",
      "Precision: 97.41%\n",
      "Accuracy: 96.7%\n"
     ]
    }
   ],
   "source": [
    "#2-star and 5-star ratings\n",
    "model25 = main(df_build, 0, 0.25, 2, 5, state=None)"
   ]
  },
  {
   "cell_type": "code",
   "execution_count": 16,
   "metadata": {
    "collapsed": true
   },
   "outputs": [],
   "source": [
    "with open(\"../efs/models/model25.pickle\", \"wb\") as f:\n",
    "    pickle.dump(model25, f)"
   ]
  },
  {
   "cell_type": "code",
   "execution_count": 12,
   "metadata": {
    "collapsed": true
   },
   "outputs": [],
   "source": [
    "# with open(\"../efs/models/model25.pickle\", \"rb\") as f:\n",
    "#     model25 = pickle.load(f)\n",
    "    \n",
    "with open(\"../break_week/models/model25.pickle\", \"rb\") as f:\n",
    "    model25 = pickle.load(f)"
   ]
  },
  {
   "cell_type": "code",
   "execution_count": 26,
   "metadata": {
    "scrolled": false
   },
   "outputs": [
    {
     "name": "stdout",
     "output_type": "stream",
     "text": [
      "Restaurant Name: The Old Fashioned \n",
      "\n",
      "Size of corpus: 669 \n",
      "\n",
      "Recall: 0.99%\n",
      "Precision: 0.99%\n",
      "Accuracy: 97.91%\n",
      "\n",
      " [('Food', {'horrible': 1, 'worst': 1, 'terrible': 2, 'ok': 3, 'mediocre': 5, 'bland': 1, 'disappointing': 1, 'overpriced': 1, 'okay': 1}), ('Service', {'okay': 2, 'terrible': 4, 'mediocre': 3, 'bland': 3, 'ok': 1, 'awful': 1, 'disappointing': 1}), ('Location', {'mediocre': 1, 'ok': 1, 'okay': 2}), ('Drink', {'terrible': 1}), ('Cost', {})] \n",
      "\n",
      "\n",
      " [('Food', {'love': 25, 'best': 69, 'perfect': 6, 'great': 78, 'delicious': 19, 'amazing': 18, 'favorite': 11, 'excellent': 17, 'wonderful': 4, 'awesome': 13, 'loved': 4, 'incredible': 1, 'fantastic': 4, 'perfection': 1, 'perfectly': 6}), ('Service', {'great': 56, 'perfect': 2, 'delicious': 6, 'excellent': 10, 'awesome': 6, 'amazing': 10, 'fantastic': 4, 'best': 3, 'perfection': 1, 'incredible': 2, 'loved': 1, 'perfectly': 2, 'love': 1}), ('Drink', {'excellent': 8, 'great': 31, 'favorite': 4, 'best': 4, 'delicious': 5, 'perfect': 2, 'love': 7, 'incredible': 2, 'wonderful': 2, 'amazing': 4, 'awesome': 4, 'fantastic': 4, 'perfectly': 1}), ('Location', {'great': 67, 'amazing': 4, 'awesome': 4, 'love': 33, 'loved': 9, 'wonderful': 5, 'delicious': 3, 'fantastic': 4, 'favorite': 32, 'best': 18, 'excellent': 2, 'perfect': 10}), ('Cost', {'delicious': 3, 'excellent': 1, 'great': 4, 'amazing': 2, 'fantastic': 1})] \n",
      "\n"
     ]
    },
    {
     "data": {
      "image/png": "[encoded data removed]",
      "text/plain": [
       "<matplotlib.figure.Figure at 0x1a2e813ac8>"
      ]
     },
     "metadata": {},
     "output_type": "display_data"
    },
    {
     "data": {
      "image/png": "[encoded data removed]",
      "text/plain": [
       "<matplotlib.figure.Figure at 0x1a17879eb8>"
      ]
     },
     "metadata": {},
     "output_type": "display_data"
    }
   ],
   "source": [
    "util.vary_ratings(model25, df_test, 2, 5, indx=33, bus_name=\"The Old Fashioned\")"
   ]
  },
  {
   "cell_type": "code",
   "execution_count": null,
   "metadata": {
    "collapsed": true
   },
   "outputs": [],
   "source": []
  },
  {
   "cell_type": "code",
   "execution_count": null,
   "metadata": {
    "collapsed": true
   },
   "outputs": [],
   "source": []
  },
  {
   "cell_type": "code",
   "execution_count": 18,
   "metadata": {},
   "outputs": [
    {
     "name": "stdout",
     "output_type": "stream",
     "text": [
      "Number of reviews: 526310 \n",
      "\n",
      "Confusion matrix\n",
      "[[41204 15074]\n",
      " [17553 57747]] \n",
      "\n",
      "Recall: 70.13%\n",
      "Precision: 73.22%\n",
      "Accuracy: 75.2%\n"
     ]
    }
   ],
   "source": [
    "#1-star and 2-star ratings\n",
    "model12 = main(df_build, 0, 0.25, 1, 2, state=None)"
   ]
  },
  {
   "cell_type": "code",
   "execution_count": 19,
   "metadata": {
    "collapsed": true
   },
   "outputs": [],
   "source": [
    "with open(\"../efs/models/model12.pickle\", \"wb\") as f:\n",
    "    pickle.dump(model12, f)"
   ]
  },
  {
   "cell_type": "code",
   "execution_count": 14,
   "metadata": {
    "collapsed": true
   },
   "outputs": [],
   "source": [
    "# with open(\"../efs/models/model12.pickle\", \"rb\") as f:\n",
    "#     model12 = pickle.load(f)\n",
    "    \n",
    "with open(\"../break_week/models/model12.pickle\", \"rb\") as f:\n",
    "    model12 = pickle.load(f)"
   ]
  },
  {
   "cell_type": "code",
   "execution_count": 27,
   "metadata": {
    "scrolled": false
   },
   "outputs": [
    {
     "name": "stdout",
     "output_type": "stream",
     "text": [
      "Restaurant Name: The Old Fashioned \n",
      "\n",
      "Size of corpus: 104 \n",
      "\n",
      "Recall: 0.88%\n",
      "Precision: 0.9%\n",
      "Accuracy: 82.69%\n",
      "\n",
      " [('Service', {'terrible': 4, 'awful': 1, 'waste': 2, 'horrible': 1}), ('Food', {'horrible': 1, 'worst': 1, 'terrible': 3}), ('Drink', {'terrible': 1}), ('Location', {}), ('Cost', {})] \n",
      "\n",
      "\n",
      " [('Service', {'great': 7, 'average': 1, 'okay': 2, 'excellent': 1, 'good': 6, 'ok': 1, 'star': 1}), ('Food', {'great': 6, 'good': 14, 'average': 1, 'ok': 3, 'alright': 1}), ('Location', {'good': 2, 'nice': 4, 'ok': 1, 'great': 3, 'okay': 2}), ('Drink', {'good': 4, 'great': 2, 'decent': 2}), ('Cost', {})] \n",
      "\n"
     ]
    },
    {
     "data": {
      "image/png": "[encoded data removed]",
      "text/plain": [
       "<matplotlib.figure.Figure at 0x1a7288fd30>"
      ]
     },
     "metadata": {},
     "output_type": "display_data"
    },
    {
     "data": {
      "image/png": "[encoded data removed]",
      "text/plain": [
       "<matplotlib.figure.Figure at 0x1a7228ff28>"
      ]
     },
     "metadata": {},
     "output_type": "display_data"
    }
   ],
   "source": [
    "util.vary_ratings(model12, df_test, 1, 2, indx=33, bus_name=\"The Old Fashioned\")"
   ]
  },
  {
   "cell_type": "code",
   "execution_count": 21,
   "metadata": {},
   "outputs": [
    {
     "name": "stdout",
     "output_type": "stream",
     "text": [
      "Number of reviews: 613701 \n",
      "\n",
      "Confusion matrix\n",
      "[[72090  8566]\n",
      " [ 8477 64293]] \n",
      "\n",
      "Recall: 89.48%\n",
      "Precision: 89.38%\n",
      "Accuracy: 88.89%\n"
     ]
    }
   ],
   "source": [
    "#1-star and 3-star ratings\n",
    "model13 = main(df_build, 0, 0.25, 1, 3, state=None)"
   ]
  },
  {
   "cell_type": "code",
   "execution_count": 22,
   "metadata": {
    "collapsed": true
   },
   "outputs": [],
   "source": [
    "with open(\"../efs/models/model13.pickle\", \"wb\") as f:\n",
    "    pickle.dump(model13, f)"
   ]
  },
  {
   "cell_type": "code",
   "execution_count": 16,
   "metadata": {
    "collapsed": true
   },
   "outputs": [],
   "source": [
    "# with open(\"../efs/models/model13.pickle\", \"rb\") as f:\n",
    "#     model13 = pickle.load(f)\n",
    "    \n",
    "with open(\"../break_week/models/model13.pickle\", \"rb\") as f:\n",
    "    model13 = pickle.load(f)"
   ]
  },
  {
   "cell_type": "code",
   "execution_count": 35,
   "metadata": {
    "scrolled": false
   },
   "outputs": [
    {
     "name": "stdout",
     "output_type": "stream",
     "text": [
      "Restaurant Name: The Old Fashioned \n",
      "\n",
      "Size of corpus: 229 \n",
      "\n",
      "Recall: 0.92%\n",
      "Precision: 0.97%\n",
      "Accuracy: 89.96%\n",
      "\n",
      " [('Service', {'disappointment': 1, 'horrible': 1, 'awful': 1, 'worst': 1}), ('Food', {'disappointment': 1, 'awful': 1, 'terrible': 1}), ('Location', {'poor': 1}), ('Drink', {'disappointment': 1}), ('Cost', {})] \n",
      "\n",
      "\n",
      " [('Food', {'bit': 2, 'decent': 6, 'enjoyed': 5, 'good': 35, 'great': 14, 'excellent': 2, 'solid': 1, 'tasty': 3, 'loved': 3, 'amazing': 2, 'delicious': 5, 'awesome': 1, 'fantastic': 1}), ('Service', {'good': 13, 'awesome': 1, 'great': 6, 'delish': 1, 'solid': 1, 'delicious': 2, 'tasty': 1, 'bit': 1}), ('Location', {'great': 18, 'decent': 4, 'awesome': 1, 'enjoyed': 1, 'solid': 3, 'good': 9, 'excellent': 2}), ('Drink', {'great': 12, 'good': 14, 'excellent': 3, 'bit': 1, 'amazing': 1, 'decent': 1, 'enjoyed': 2}), ('Cost', {'good': 2})] \n",
      "\n"
     ]
    },
    {
     "data": {
      "image/png": "[encoded data removed]",
      "text/plain": [
       "<matplotlib.figure.Figure at 0x1a720cee48>"
      ]
     },
     "metadata": {},
     "output_type": "display_data"
    },
    {
     "data": {
      "image/png": "[encoded data removed]",
      "text/plain": [
       "<matplotlib.figure.Figure at 0x1a5205dcc0>"
      ]
     },
     "metadata": {},
     "output_type": "display_data"
    }
   ],
   "source": [
    "util.vary_ratings(model13, df_test, 1, 3, indx=33, bus_name=\"The Old Fashioned\")"
   ]
  },
  {
   "cell_type": "code",
   "execution_count": 6,
   "metadata": {},
   "outputs": [
    {
     "name": "stdout",
     "output_type": "stream",
     "text": [
      "Number of reviews: 938564 \n",
      "\n",
      "Confusion matrix\n",
      "[[158404   4740]\n",
      " [  3708  67789]] \n",
      "\n",
      "Recall: 97.71%\n",
      "Precision: 97.09%\n",
      "Accuracy: 96.4%\n"
     ]
    }
   ],
   "source": [
    "#1-star and 4-star ratings\n",
    "model14 = main(df_build, 0, 0.25, 1, 4, state=None)"
   ]
  },
  {
   "cell_type": "code",
   "execution_count": 7,
   "metadata": {
    "collapsed": true
   },
   "outputs": [],
   "source": [
    "with open(\"../efs/models/model14.pickle\", \"wb\") as f:\n",
    "    pickle.dump(model14, f)"
   ]
  },
  {
   "cell_type": "code",
   "execution_count": 28,
   "metadata": {
    "collapsed": true
   },
   "outputs": [],
   "source": [
    "# with open(\"../efs/models/model14.pickle\", \"rb\") as f:\n",
    "#     model14 = pickle.load(f)\n",
    "\n",
    "with open(\"../break_week/models/model14.pickle\", \"rb\") as f:\n",
    "    model14 = pickle.load(f)"
   ]
  },
  {
   "cell_type": "code",
   "execution_count": 29,
   "metadata": {
    "scrolled": false
   },
   "outputs": [
    {
     "name": "stdout",
     "output_type": "stream",
     "text": [
      "Restaurant Name: The Old Fashioned \n",
      "\n",
      "Size of corpus: 574 \n",
      "\n",
      "Recall: 0.98%\n",
      "Precision: 0.99%\n",
      "Accuracy: 97.91%\n",
      "\n",
      " [('Food', {'disappointing': 2, 'worst': 2, 'mediocre': 2, 'poor': 1, 'terrible': 1, 'bland': 2}), ('Service', {'horrible': 2, 'disappointing': 1, 'poor': 1}), ('Location', {}), ('Drink', {}), ('Cost', {})] \n",
      "\n",
      "\n",
      " [('Food', {'great': 62, 'good': 82, 'amazing': 16, 'enjoyed': 10, 'tasty': 9, 'delicious': 20, 'love': 16, 'awesome': 5, 'loved': 6, 'excellent': 6, 'yummy': 5, 'perfect': 1, 'perfectly': 7, 'fantastic': 2}), ('Location', {'great': 73, 'love': 9, 'good': 18, 'awesome': 3, 'loved': 6, 'delicious': 1, 'excellent': 4, 'perfect': 3, 'fantastic': 3, 'amazing': 2}), ('Drink', {'good': 25, 'excellent': 8, 'great': 26, 'delicious': 7, 'amazing': 4, 'awesome': 5, 'fantastic': 1, 'love': 4, 'loved': 1}), ('Service', {'great': 30, 'good': 30, 'excellent': 3, 'loved': 2, 'delicious': 5, 'awesome': 3, 'tasty': 1, 'love': 1}), ('Cost', {'good': 7, 'delicious': 1, 'great': 3})] \n",
      "\n"
     ]
    },
    {
     "data": {
      "image/png": "[encoded data removed]",
      "text/plain": [
       "<matplotlib.figure.Figure at 0x1a2e8a4198>"
      ]
     },
     "metadata": {},
     "output_type": "display_data"
    },
    {
     "data": {
      "image/png": "[encoded data removed]",
      "text/plain": [
       "<matplotlib.figure.Figure at 0x1a72fff518>"
      ]
     },
     "metadata": {},
     "output_type": "display_data"
    }
   ],
   "source": [
    "util.vary_ratings(model14, df_test, 1, 4, indx=13, bus_name=\"The Old Fashioned\")"
   ]
  },
  {
   "cell_type": "code",
   "execution_count": 64,
   "metadata": {},
   "outputs": [
    {
     "name": "stdout",
     "output_type": "stream",
     "text": [
      "Number of reviews: 1285808 \n",
      "\n",
      "Confusion matrix\n",
      "[[246215   3593]\n",
      " [  2530  69114]] \n",
      "\n",
      "Recall: 98.98%\n",
      "Precision: 98.56%\n",
      "Accuracy: 98.1%\n"
     ]
    }
   ],
   "source": [
    "#1-star and 5-star ratings\n",
    "model15 = main(df_build, 0, 0.25, 1, 5, state=None)"
   ]
  },
  {
   "cell_type": "code",
   "execution_count": 65,
   "metadata": {
    "collapsed": true
   },
   "outputs": [],
   "source": [
    "with open(\"../efs/models/model15.pickle\", \"wb\") as f:\n",
    "    pickle.dump(model15, f)"
   ]
  },
  {
   "cell_type": "code",
   "execution_count": 30,
   "metadata": {
    "collapsed": true
   },
   "outputs": [],
   "source": [
    "# with open(\"../efs/models/model15.pickle\", \"rb\") as f:\n",
    "#     model15 = pickle.load(f)\n",
    "\n",
    "with open(\"../break_week/models/model15.pickle\", \"rb\") as f:\n",
    "    model15 = pickle.load(f)"
   ]
  },
  {
   "cell_type": "code",
   "execution_count": 31,
   "metadata": {
    "scrolled": false
   },
   "outputs": [
    {
     "name": "stdout",
     "output_type": "stream",
     "text": [
      "Restaurant Name: The Old Fashioned \n",
      "\n",
      "Size of corpus: 611 \n",
      "\n",
      "Recall: 0.99%\n",
      "Precision: 1.0%\n",
      "Accuracy: 99.18%\n",
      "\n",
      " [('Food', {'disappointing': 1, 'terrible': 1, 'bland': 1}), ('Service', {'mediocre': 1, 'rude': 1, 'horrible': 1}), ('Location', {}), ('Drink', {}), ('Cost', {})] \n",
      "\n",
      "\n",
      " [('Food', {'love': 22, 'best': 68, 'perfect': 6, 'delicious': 19, 'amazing': 18, 'great': 74, 'favorite': 10, 'excellent': 17, 'wonderful': 4, 'awesome': 13, 'loved': 4, 'fantastic': 4, 'yummy': 1, 'outstanding': 4, 'perfectly': 6}), ('Service', {'great': 49, 'perfect': 2, 'outstanding': 1, 'delicious': 6, 'excellent': 9, 'awesome': 6, 'amazing': 10, 'fantastic': 4, 'yummy': 1, 'best': 3, 'loved': 1, 'perfectly': 2, 'love': 1}), ('Location', {'great': 66, 'amazing': 4, 'awesome': 4, 'love': 32, 'loved': 9, 'wonderful': 4, 'delicious': 3, 'fantastic': 4, 'favorite': 29, 'best': 18, 'excellent': 2, 'perfect': 10}), ('Drink', {'excellent': 8, 'great': 29, 'favorite': 4, 'best': 4, 'delicious': 5, 'perfect': 2, 'love': 6, 'wonderful': 2, 'amazing': 4, 'awesome': 4, 'fantastic': 4, 'perfectly': 1}), ('Cost', {'delicious': 3, 'excellent': 1, 'great': 4, 'amazing': 2, 'fantastic': 1})] \n",
      "\n"
     ]
    },
    {
     "data": {
      "image/png": "[encoded data removed]",
      "text/plain": [
       "<matplotlib.figure.Figure at 0x1a59f4d588>"
      ]
     },
     "metadata": {},
     "output_type": "display_data"
    },
    {
     "data": {
      "image/png": "[encoded data removed]",
      "text/plain": [
       "<matplotlib.figure.Figure at 0x1a72b14be0>"
      ]
     },
     "metadata": {},
     "output_type": "display_data"
    }
   ],
   "source": [
    "util.vary_ratings(model15, df_test, 1, 5, indx=20, bus_name=\"The Old Fashioned\")"
   ]
  },
  {
   "cell_type": "markdown",
   "metadata": {},
   "source": [
    "### Models Accuracy\n",
    "The plot below shows how the accuracy of the models change with each combination in star ratings. Accuracy for 1-star vs all increases as the gap in rating widens towards 5-star rating as well as 5-star vs all accuracy inceasing as gap between ratings widens towards 1-star."
   ]
  },
  {
   "cell_type": "code",
   "execution_count": 32,
   "metadata": {
    "collapsed": true
   },
   "outputs": [],
   "source": [
    "acc_1_vs_all = [[2,75.2], [3,88.89], [4,96.4], [5,98.1]]\n",
    "acc_5_vs_all = [[1,98.1],[2,96.7], [3,91.6], [4,72.95]]\n",
    "star_1 = pd.DataFrame(acc_1_vs_all, columns=[\"Ratings\", \"Accuracy\"])\n",
    "star_5 = pd.DataFrame(acc_5_vs_all, columns=[\"Ratings\", \"Accuracy\"])"
   ]
  },
  {
   "cell_type": "code",
   "execution_count": 40,
   "metadata": {},
   "outputs": [
    {
     "data": {
      "text/plain": [
       "<matplotlib.legend.Legend at 0x1a53e70208>"
      ]
     },
     "execution_count": 40,
     "metadata": {},
     "output_type": "execute_result"
    },
    {
     "data": {
      "image/png": "[encoded data removed]",
      "text/plain": [
       "<matplotlib.figure.Figure at 0x1a51e1f710>"
      ]
     },
     "metadata": {},
     "output_type": "display_data"
    }
   ],
   "source": [
    "plt.style.use('seaborn-colorblind')\n",
    "plt.figure(figsize=(9,8))\n",
    "plt.xticks([1,2,3,4,5])\n",
    "plt.plot(star_5[\"Ratings\"], star_5[\"Accuracy\"], label=\"5-star rating vs all other ratings\", color=\"b\")\n",
    "plt.plot(star_1[\"Ratings\"], star_1[\"Accuracy\"], label=\"1-star rating vs all other ratings\",color=\"r\")\n",
    "plt.xlabel(\"Ratings\")\n",
    "plt.ylabel(\"Accuracy\")\n",
    "plt.title(\"Changes in Accuracy as gap between ratings change\")\n",
    "plt.legend(loc='upper center', bbox_to_anchor=(0.28, 0.14),\n",
    "          fancybox=True, shadow=True)"
   ]
  },
  {
   "cell_type": "code",
   "execution_count": null,
   "metadata": {
    "collapsed": true
   },
   "outputs": [],
   "source": []
  }
 ],
 "metadata": {
  "kernelspec": {
   "display_name": "Python 3",
   "language": "python",
   "name": "python3"
  },
  "language_info": {
   "codemirror_mode": {
    "name": "ipython",
    "version": 3
   },
   "file_extension": ".py",
   "mimetype": "text/x-python",
   "name": "python",
   "nbconvert_exporter": "python",
   "pygments_lexer": "ipython3",
   "version": "3.6.3"
  }
 },
 "nbformat": 4,
 "nbformat_minor": 2
}
