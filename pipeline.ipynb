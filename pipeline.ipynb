{
 "cells": [
  {
   "cell_type": "code",
   "execution_count": 1,
   "metadata": {},
   "outputs": [
    {
     "data": {
      "text/html": [
       "<style>.container { width:100% !important; }</style>"
      ],
      "text/plain": [
       "<IPython.core.display.HTML object>"
      ]
     },
     "metadata": {},
     "output_type": "display_data"
    }
   ],
   "source": [
    "from IPython.core.display import display, HTML\n",
    "display(HTML(\"<style>.container { width:100% !important; }</style>\"))"
   ]
  },
  {
   "cell_type": "code",
   "execution_count": 2,
   "metadata": {
    "collapsed": true
   },
   "outputs": [],
   "source": [
    "import pyspark as ps\n",
    "\n",
    "spark = ps.sql.SparkSession.builder \\\n",
    "        .master(\"local[4]\") \\\n",
    "        .appName(\"df lecture\") \\\n",
    "        .getOrCreate()\n",
    "\n",
    "sc = spark.sparkContext"
   ]
  },
  {
   "cell_type": "code",
   "execution_count": 3,
   "metadata": {
    "collapsed": true
   },
   "outputs": [],
   "source": [
    "import pandas as pd\n",
    "import numpy as np\n",
    "import matplotlib.pyplot as plt\n",
    "import boto3"
   ]
  },
  {
   "cell_type": "code",
   "execution_count": 4,
   "metadata": {
    "collapsed": true
   },
   "outputs": [],
   "source": [
    "s3 = boto3.client(\"s3\")"
   ]
  },
  {
   "cell_type": "code",
   "execution_count": 140,
   "metadata": {},
   "outputs": [],
   "source": [
    "bucket = \"chizzy\"\n",
    "subfolder = \"yelp_data\"\n",
    "file_name = \"yelp_data/business.json\"\n",
    "file_lists = s3.list_objects(Bucket=bucket, Prefix = \"{}/\".format(subfolder), Delimiter='/')[\"Contents\"][1][\"Key\"]\n",
    "file = s3.get_object(Bucket=bucket, Key=\"{}\".format(file_name))"
   ]
  },
  {
   "cell_type": "code",
   "execution_count": 141,
   "metadata": {},
   "outputs": [
    {
     "data": {
      "text/plain": [
       "'yelp_data/business.json'"
      ]
     },
     "execution_count": 141,
     "metadata": {},
     "output_type": "execute_result"
    }
   ],
   "source": [
    "file_lists"
   ]
  },
  {
   "cell_type": "code",
   "execution_count": 142,
   "metadata": {
    "scrolled": true
   },
   "outputs": [],
   "source": [
    "data = file.get(\"Body\").read(512).decode(\"utf-8\")"
   ]
  },
  {
   "cell_type": "code",
   "execution_count": 144,
   "metadata": {},
   "outputs": [
    {
     "name": "stdout",
     "output_type": "stream",
     "text": [
      "{\"business_id\": \"FYWN1wneV18bWNgQjJ2GNg\", \"name\": \"Dental by Design\", \"neighborhood\": \"\", \"address\": \"4855 E Warner Rd, Ste B9\", \"city\": \"Ahwatukee\", \"state\": \"AZ\", \"postal_code\": \"85044\", \"latitude\": 33.3306902, \"longitude\": -111.9785992, \"stars\": 4.0, \"review_count\": 22, \"is_open\": 1, \"attributes\": {\"AcceptsInsurance\": true, \"ByAppointmentOnly\": true, \"BusinessAcceptsCreditCards\": true}, \"categories\": [\"Dentists\", \"General Dentistry\", \"Health & Medical\", \"Oral Surgeons\", \"Cosmetic Dentists\", \"Orthodontist\n"
     ]
    }
   ],
   "source": [
    "print(data[:1663])"
   ]
  },
  {
   "cell_type": "code",
   "execution_count": 139,
   "metadata": {},
   "outputs": [
    {
     "ename": "SyntaxError",
     "evalue": "invalid syntax (<string>, line 2)",
     "output_type": "error",
     "traceback": [
      "Traceback \u001b[0;36m(most recent call last)\u001b[0m:\n",
      "  File \u001b[1;32m\"/anaconda3/lib/python3.6/site-packages/IPython/core/interactiveshell.py\"\u001b[0m, line \u001b[1;32m2862\u001b[0m, in \u001b[1;35mrun_code\u001b[0m\n    exec(code_obj, self.user_global_ns, self.user_ns)\n",
      "\u001b[0;36m  File \u001b[0;32m\"<ipython-input-139-81043c79225c>\"\u001b[0;36m, line \u001b[0;32m1\u001b[0;36m, in \u001b[0;35m<module>\u001b[0;36m\u001b[0m\n\u001b[0;31m    eval(data[:1663])\u001b[0m\n",
      "\u001b[0;36m  File \u001b[0;32m\"<string>\"\u001b[0;36m, line \u001b[0;32m2\u001b[0m\n\u001b[0;31m    {\"business_id\": \"He-G7vWjzVUysIKrfNbPUQ\", \"name\": \"Stephen Szabo Salon\", \"neighborhood\": \"\", \"address\": \"3101 Washington Rd\", \"city\": \"McMurray\", \"state\": \"PA\", \"postal_code\": \"15317\", \"latitude\": 40.2916853, \"longitude\": -80.1048999, \"stars\": 3.0, \"review_count\": 11, \"is_open\": 1, \"attributes\": {\"BusinessParking\": {\"garage\": false, \"street\": false, \"validated\": false, \"lot\": true, \"valet\": false}, \"HairSpecializesIn\": {\"coloring\": true, \"africanamerican\": false, \"curly\": true, \"perms\": true, \"kids\": true, \"extensions\": true, \"asian\": true, \"straightperms\": true}, \"BusinessAcceptsCreditCards\": true, \"RestaurantsPriceRange2\": 3, \"GoodForKids\": true, \"ByAppointmentOnly\": false, \"WheelchairAccessible\": true}, \"categories\": [\"Hair Stylists\", \"Hair Salons\", \"Men's Hair Salons\", \"Blow Dry/Out Services\", \"Hair Extensions\", \"Beauty & Spas\"], \"hours\": {\"Monday\": \"9:00-20:00\", \"Tuesday\": \"9:00-20:00\", \"Friday\": \"9:00-16:00\", \"Wednesday\": \"9:00-20:00\", \"Thursday\": \"9:00-20:00\", \"Saturday\": \"8:00-16:00\"}}\u001b[0m\n\u001b[0m    ^\u001b[0m\n\u001b[0;31mSyntaxError\u001b[0m\u001b[0;31m:\u001b[0m invalid syntax\n"
     ]
    }
   ],
   "source": [
    "eval(data[:1663])"
   ]
  },
  {
   "cell_type": "code",
   "execution_count": 125,
   "metadata": {},
   "outputs": [
    {
     "ename": "TypeError",
     "evalue": "dump() missing 1 required positional argument: 'fp'",
     "output_type": "error",
     "traceback": [
      "\u001b[0;31m---------------------------------------------------------------------------\u001b[0m",
      "\u001b[0;31mTypeError\u001b[0m                                 Traceback (most recent call last)",
      "\u001b[0;32m<ipython-input-125-0170b249cec1>\u001b[0m in \u001b[0;36m<module>\u001b[0;34m()\u001b[0m\n\u001b[1;32m      1\u001b[0m \u001b[0;32mimport\u001b[0m \u001b[0mjson\u001b[0m\u001b[0;34m\u001b[0m\u001b[0m\n\u001b[0;32m----> 2\u001b[0;31m \u001b[0md\u001b[0m \u001b[0;34m=\u001b[0m \u001b[0mjson\u001b[0m\u001b[0;34m.\u001b[0m\u001b[0mdump\u001b[0m\u001b[0;34m(\u001b[0m\u001b[0mdata\u001b[0m\u001b[0;34m[\u001b[0m\u001b[0;34m:\u001b[0m\u001b[0;36m1664\u001b[0m\u001b[0;34m]\u001b[0m\u001b[0;34m)\u001b[0m\u001b[0;34m\u001b[0m\u001b[0m\n\u001b[0m",
      "\u001b[0;31mTypeError\u001b[0m: dump() missing 1 required positional argument: 'fp'"
     ]
    }
   ],
   "source": [
    "import json\n",
    "d = json.dump(data[:1664])"
   ]
  },
  {
   "cell_type": "code",
   "execution_count": 49,
   "metadata": {},
   "outputs": [
    {
     "data": {
      "text/plain": [
       "''"
      ]
     },
     "execution_count": 49,
     "metadata": {},
     "output_type": "execute_result"
    }
   ],
   "source": [
    "content_object = s3.Object('test', 'sample_json.txt')\n",
    "file_content = content_object.get()['Body'].read().decode('utf-8')\n",
    "json_content = json.loads(file_content)\n",
    "print(json_content['Details'])"
   ]
  },
  {
   "cell_type": "code",
   "execution_count": 92,
   "metadata": {},
   "outputs": [
    {
     "data": {
      "text/plain": [
       "{'AcceptRanges': 'bytes',\n",
       " 'Body': <botocore.response.StreamingBody at 0x110801f98>,\n",
       " 'ContentLength': 145175074,\n",
       " 'ContentType': 'application/json',\n",
       " 'ETag': '\"3df0b82b35680f9bcf706076d8ed4b4a-9\"',\n",
       " 'LastModified': datetime.datetime(2018, 8, 4, 1, 7, 15, tzinfo=tzutc()),\n",
       " 'Metadata': {},\n",
       " 'ResponseMetadata': {'HTTPHeaders': {'accept-ranges': 'bytes',\n",
       "   'content-length': '145175074',\n",
       "   'content-type': 'application/json',\n",
       "   'date': 'Sat, 04 Aug 2018 05:17:25 GMT',\n",
       "   'etag': '\"3df0b82b35680f9bcf706076d8ed4b4a-9\"',\n",
       "   'last-modified': 'Sat, 04 Aug 2018 01:07:15 GMT',\n",
       "   'server': 'AmazonS3',\n",
       "   'x-amz-id-2': 'NrqOwE1f6LE2EdHWyJFaiRQc8jUQwpIKk3GRAHsJr2WihFb6A7va8HfyE2JOvqLXDEPJPK9z930=',\n",
       "   'x-amz-request-id': 'C737261C862D5871'},\n",
       "  'HTTPStatusCode': 200,\n",
       "  'HostId': 'NrqOwE1f6LE2EdHWyJFaiRQc8jUQwpIKk3GRAHsJr2WihFb6A7va8HfyE2JOvqLXDEPJPK9z930=',\n",
       "  'RequestId': 'C737261C862D5871',\n",
       "  'RetryAttempts': 0}}"
      ]
     },
     "execution_count": 92,
     "metadata": {},
     "output_type": "execute_result"
    }
   ],
   "source": [
    "file"
   ]
  },
  {
   "cell_type": "code",
   "execution_count": 93,
   "metadata": {
    "collapsed": true
   },
   "outputs": [],
   "source": [
    "man = {'AcceptRanges': 'bytes',\n",
    " 'Body': '<botocore.response.StreamingBody at 0x110801f98>',\n",
    " 'ContentLength': 145175074,\n",
    " 'ContentType': 'application/json',\n",
    " 'ETag': '\"3df0b82b35680f9bcf706076d8ed4b4a-9\"',\n",
    " 'LastModified': 'datetime.datetime(2018, 8, 4, 1, 7, 15, tzinfo=tzutc())'}"
   ]
  },
  {
   "cell_type": "code",
   "execution_count": 119,
   "metadata": {},
   "outputs": [
    {
     "data": {
      "text/plain": [
       "'{\\'AcceptRanges\\': \\'bytes\\', \\'Body\\': \\'<botocore.response.StreamingBody at 0x110801f98>\\', \\'ContentLength\\': 145175074, \\'ContentType\\': \\'application/json\\', \\'ETag\\': \\'\"3df0b82b35680f9bcf706076d8ed4b4a-9\"\\', \\'LastModified\\': \\'datetime.datetime(2018, 8, 4, 1, 7, 15, tzinfo=tzutc())\\'}'"
      ]
     },
     "execution_count": 119,
     "metadata": {},
     "output_type": "execute_result"
    }
   ],
   "source": [
    "s = str(man)\n",
    "s"
   ]
  },
  {
   "cell_type": "code",
   "execution_count": 120,
   "metadata": {},
   "outputs": [
    {
     "data": {
      "text/plain": [
       "{'AcceptRanges': 'bytes',\n",
       " 'Body': '<botocore.response.StreamingBody at 0x110801f98>',\n",
       " 'ContentLength': 145175074,\n",
       " 'ContentType': 'application/json',\n",
       " 'ETag': '\"3df0b82b35680f9bcf706076d8ed4b4a-9\"',\n",
       " 'LastModified': 'datetime.datetime(2018, 8, 4, 1, 7, 15, tzinfo=tzutc())'}"
      ]
     },
     "execution_count": 120,
     "metadata": {},
     "output_type": "execute_result"
    }
   ],
   "source": [
    "eval(s)"
   ]
  },
  {
   "cell_type": "code",
   "execution_count": null,
   "metadata": {
    "collapsed": true
   },
   "outputs": [],
   "source": []
  }
 ],
 "metadata": {
  "kernelspec": {
   "display_name": "Python 3",
   "language": "python",
   "name": "python3"
  },
  "language_info": {
   "codemirror_mode": {
    "name": "ipython",
    "version": 3
   },
   "file_extension": ".py",
   "mimetype": "text/x-python",
   "name": "python",
   "nbconvert_exporter": "python",
   "pygments_lexer": "ipython3",
   "version": "3.6.3"
  }
 },
 "nbformat": 4,
 "nbformat_minor": 2
}
