{
 "cells": [
  {
   "cell_type": "code",
   "execution_count": 1,
   "metadata": {},
   "outputs": [
    {
     "data": {
      "text/html": [
       "<style>.container { width:100% !important; }</style>"
      ],
      "text/plain": [
       "<IPython.core.display.HTML object>"
      ]
     },
     "metadata": {},
     "output_type": "display_data"
    }
   ],
   "source": [
    "from IPython.core.display import display, HTML\n",
    "display(HTML(\"<style>.container { width:100% !important; }</style>\"))"
   ]
  },
  {
   "cell_type": "code",
   "execution_count": 2,
   "metadata": {},
   "outputs": [],
   "source": [
    "import sklearn"
   ]
  },
  {
   "cell_type": "code",
   "execution_count": 2,
   "metadata": {},
   "outputs": [
    {
     "name": "stdout",
     "output_type": "stream",
     "text": [
      "[nltk_data] Downloading package stopwords to\n",
      "[nltk_data]     /home/ec2-user/nltk_data...\n",
      "[nltk_data]   Unzipping corpora/stopwords.zip.\n",
      "[nltk_data] Downloading package wordnet to /home/ec2-user/nltk_data...\n",
      "[nltk_data]   Unzipping corpora/wordnet.zip.\n"
     ]
    }
   ],
   "source": [
    "%load_ext autoreload\n",
    "%autoreload 2\n",
    "from pyspark.sql import SQLContext\n",
    "import boto3\n",
    "import pickle\n",
    "import pandas as pd\n",
    "import numpy as np\n",
    "import matplotlib.pyplot as plt\n",
    "from nltk.tokenize import RegexpTokenizer\n",
    "from nltk.stem.wordnet import WordNetLemmatizer\n",
    "from nltk.corpus import stopwords\n",
    "from sklearn.feature_extraction.text import CountVectorizer, TfidfVectorizer\n",
    "from sklearn.model_selection import train_test_split\n",
    "from sklearn.linear_model import LogisticRegression\n",
    "from sklearn.metrics import confusion_matrix\n",
    "from sk_model import ReviewClassifier, main\n",
    "import util"
   ]
  },
  {
   "cell_type": "code",
   "execution_count": 4,
   "metadata": {},
   "outputs": [],
   "source": [
    "f_path = \"s3://chizzy/yelp_data/\"\n",
    "df_bus = pd.read_json(f_path+\"business.json\", lines=True)\n",
    "df_user = pd.read_json(f_path+\"user.json\", lines=True)\n",
    "df_rev = pd.read_json(f_path+\"review.json\", lines=True)"
   ]
  },
  {
   "cell_type": "code",
   "execution_count": 5,
   "metadata": {
    "scrolled": true
   },
   "outputs": [
    {
     "data": {
      "text/html": [
       "<div>\n",
       "<style scoped>\n",
       "    .dataframe tbody tr th:only-of-type {\n",
       "        vertical-align: middle;\n",
       "    }\n",
       "\n",
       "    .dataframe tbody tr th {\n",
       "        vertical-align: top;\n",
       "    }\n",
       "\n",
       "    .dataframe thead th {\n",
       "        text-align: right;\n",
       "    }\n",
       "</style>\n",
       "<table border=\"1\" class=\"dataframe\">\n",
       "  <thead>\n",
       "    <tr style=\"text-align: right;\">\n",
       "      <th></th>\n",
       "      <th>address</th>\n",
       "      <th>attributes</th>\n",
       "      <th>business_id</th>\n",
       "      <th>categories</th>\n",
       "      <th>city</th>\n",
       "      <th>hours</th>\n",
       "      <th>is_open</th>\n",
       "      <th>latitude</th>\n",
       "      <th>longitude</th>\n",
       "      <th>name</th>\n",
       "      <th>neighborhood</th>\n",
       "      <th>postal_code</th>\n",
       "      <th>review_count</th>\n",
       "      <th>stars</th>\n",
       "      <th>state</th>\n",
       "    </tr>\n",
       "  </thead>\n",
       "  <tbody>\n",
       "    <tr>\n",
       "      <th>0</th>\n",
       "      <td>4855 E Warner Rd, Ste B9</td>\n",
       "      <td>{'AcceptsInsurance': True, 'ByAppointmentOnly'...</td>\n",
       "      <td>FYWN1wneV18bWNgQjJ2GNg</td>\n",
       "      <td>[Dentists, General Dentistry, Health &amp; Medical...</td>\n",
       "      <td>Ahwatukee</td>\n",
       "      <td>{'Friday': '7:30-17:00', 'Tuesday': '7:30-17:0...</td>\n",
       "      <td>1</td>\n",
       "      <td>33.330690</td>\n",
       "      <td>-111.978599</td>\n",
       "      <td>Dental by Design</td>\n",
       "      <td></td>\n",
       "      <td>85044</td>\n",
       "      <td>22</td>\n",
       "      <td>4.0</td>\n",
       "      <td>AZ</td>\n",
       "    </tr>\n",
       "    <tr>\n",
       "      <th>1</th>\n",
       "      <td>3101 Washington Rd</td>\n",
       "      <td>{'BusinessParking': {'garage': False, 'street'...</td>\n",
       "      <td>He-G7vWjzVUysIKrfNbPUQ</td>\n",
       "      <td>[Hair Stylists, Hair Salons, Men's Hair Salons...</td>\n",
       "      <td>McMurray</td>\n",
       "      <td>{'Monday': '9:00-20:00', 'Tuesday': '9:00-20:0...</td>\n",
       "      <td>1</td>\n",
       "      <td>40.291685</td>\n",
       "      <td>-80.104900</td>\n",
       "      <td>Stephen Szabo Salon</td>\n",
       "      <td></td>\n",
       "      <td>15317</td>\n",
       "      <td>11</td>\n",
       "      <td>3.0</td>\n",
       "      <td>PA</td>\n",
       "    </tr>\n",
       "    <tr>\n",
       "      <th>2</th>\n",
       "      <td>6025 N 27th Ave, Ste 1</td>\n",
       "      <td>{}</td>\n",
       "      <td>KQPW8lFf1y5BT2MxiSZ3QA</td>\n",
       "      <td>[Departments of Motor Vehicles, Public Service...</td>\n",
       "      <td>Phoenix</td>\n",
       "      <td>{}</td>\n",
       "      <td>1</td>\n",
       "      <td>33.524903</td>\n",
       "      <td>-112.115310</td>\n",
       "      <td>Western Motor Vehicle</td>\n",
       "      <td></td>\n",
       "      <td>85017</td>\n",
       "      <td>18</td>\n",
       "      <td>1.5</td>\n",
       "      <td>AZ</td>\n",
       "    </tr>\n",
       "    <tr>\n",
       "      <th>3</th>\n",
       "      <td>5000 Arizona Mills Cr, Ste 435</td>\n",
       "      <td>{'BusinessAcceptsCreditCards': True, 'Restaura...</td>\n",
       "      <td>8DShNS-LuFqpEWIp0HxijA</td>\n",
       "      <td>[Sporting Goods, Shopping]</td>\n",
       "      <td>Tempe</td>\n",
       "      <td>{'Monday': '10:00-21:00', 'Tuesday': '10:00-21...</td>\n",
       "      <td>0</td>\n",
       "      <td>33.383147</td>\n",
       "      <td>-111.964725</td>\n",
       "      <td>Sports Authority</td>\n",
       "      <td></td>\n",
       "      <td>85282</td>\n",
       "      <td>9</td>\n",
       "      <td>3.0</td>\n",
       "      <td>AZ</td>\n",
       "    </tr>\n",
       "    <tr>\n",
       "      <th>4</th>\n",
       "      <td>581 Howe Ave</td>\n",
       "      <td>{'Alcohol': 'full_bar', 'HasTV': True, 'NoiseL...</td>\n",
       "      <td>PfOCPjBrlQAnz__NXj9h_w</td>\n",
       "      <td>[American (New), Nightlife, Bars, Sandwiches, ...</td>\n",
       "      <td>Cuyahoga Falls</td>\n",
       "      <td>{'Monday': '11:00-1:00', 'Tuesday': '11:00-1:0...</td>\n",
       "      <td>1</td>\n",
       "      <td>41.119535</td>\n",
       "      <td>-81.475690</td>\n",
       "      <td>Brick House Tavern + Tap</td>\n",
       "      <td></td>\n",
       "      <td>44221</td>\n",
       "      <td>116</td>\n",
       "      <td>3.5</td>\n",
       "      <td>OH</td>\n",
       "    </tr>\n",
       "  </tbody>\n",
       "</table>\n",
       "</div>"
      ],
      "text/plain": [
       "                          address  \\\n",
       "0        4855 E Warner Rd, Ste B9   \n",
       "1              3101 Washington Rd   \n",
       "2          6025 N 27th Ave, Ste 1   \n",
       "3  5000 Arizona Mills Cr, Ste 435   \n",
       "4                    581 Howe Ave   \n",
       "\n",
       "                                          attributes             business_id  \\\n",
       "0  {'AcceptsInsurance': True, 'ByAppointmentOnly'...  FYWN1wneV18bWNgQjJ2GNg   \n",
       "1  {'BusinessParking': {'garage': False, 'street'...  He-G7vWjzVUysIKrfNbPUQ   \n",
       "2                                                 {}  KQPW8lFf1y5BT2MxiSZ3QA   \n",
       "3  {'BusinessAcceptsCreditCards': True, 'Restaura...  8DShNS-LuFqpEWIp0HxijA   \n",
       "4  {'Alcohol': 'full_bar', 'HasTV': True, 'NoiseL...  PfOCPjBrlQAnz__NXj9h_w   \n",
       "\n",
       "                                          categories            city  \\\n",
       "0  [Dentists, General Dentistry, Health & Medical...       Ahwatukee   \n",
       "1  [Hair Stylists, Hair Salons, Men's Hair Salons...        McMurray   \n",
       "2  [Departments of Motor Vehicles, Public Service...         Phoenix   \n",
       "3                         [Sporting Goods, Shopping]           Tempe   \n",
       "4  [American (New), Nightlife, Bars, Sandwiches, ...  Cuyahoga Falls   \n",
       "\n",
       "                                               hours  is_open   latitude  \\\n",
       "0  {'Friday': '7:30-17:00', 'Tuesday': '7:30-17:0...        1  33.330690   \n",
       "1  {'Monday': '9:00-20:00', 'Tuesday': '9:00-20:0...        1  40.291685   \n",
       "2                                                 {}        1  33.524903   \n",
       "3  {'Monday': '10:00-21:00', 'Tuesday': '10:00-21...        0  33.383147   \n",
       "4  {'Monday': '11:00-1:00', 'Tuesday': '11:00-1:0...        1  41.119535   \n",
       "\n",
       "    longitude                      name neighborhood postal_code  \\\n",
       "0 -111.978599          Dental by Design                    85044   \n",
       "1  -80.104900       Stephen Szabo Salon                    15317   \n",
       "2 -112.115310     Western Motor Vehicle                    85017   \n",
       "3 -111.964725          Sports Authority                    85282   \n",
       "4  -81.475690  Brick House Tavern + Tap                    44221   \n",
       "\n",
       "   review_count  stars state  \n",
       "0            22    4.0    AZ  \n",
       "1            11    3.0    PA  \n",
       "2            18    1.5    AZ  \n",
       "3             9    3.0    AZ  \n",
       "4           116    3.5    OH  "
      ]
     },
     "execution_count": 5,
     "metadata": {},
     "output_type": "execute_result"
    }
   ],
   "source": [
    "df_bus.head()"
   ]
  },
  {
   "cell_type": "code",
   "execution_count": 6,
   "metadata": {},
   "outputs": [
    {
     "data": {
      "text/html": [
       "<div>\n",
       "<style scoped>\n",
       "    .dataframe tbody tr th:only-of-type {\n",
       "        vertical-align: middle;\n",
       "    }\n",
       "\n",
       "    .dataframe tbody tr th {\n",
       "        vertical-align: top;\n",
       "    }\n",
       "\n",
       "    .dataframe thead th {\n",
       "        text-align: right;\n",
       "    }\n",
       "</style>\n",
       "<table border=\"1\" class=\"dataframe\">\n",
       "  <thead>\n",
       "    <tr style=\"text-align: right;\">\n",
       "      <th></th>\n",
       "      <th>average_stars</th>\n",
       "      <th>compliment_cool</th>\n",
       "      <th>compliment_cute</th>\n",
       "      <th>compliment_funny</th>\n",
       "      <th>compliment_hot</th>\n",
       "      <th>compliment_list</th>\n",
       "      <th>compliment_more</th>\n",
       "      <th>compliment_note</th>\n",
       "      <th>compliment_photos</th>\n",
       "      <th>compliment_plain</th>\n",
       "      <th>...</th>\n",
       "      <th>cool</th>\n",
       "      <th>elite</th>\n",
       "      <th>fans</th>\n",
       "      <th>friends</th>\n",
       "      <th>funny</th>\n",
       "      <th>name</th>\n",
       "      <th>review_count</th>\n",
       "      <th>useful</th>\n",
       "      <th>user_id</th>\n",
       "      <th>yelping_since</th>\n",
       "    </tr>\n",
       "  </thead>\n",
       "  <tbody>\n",
       "    <tr>\n",
       "      <th>0</th>\n",
       "      <td>4.67</td>\n",
       "      <td>0</td>\n",
       "      <td>0</td>\n",
       "      <td>0</td>\n",
       "      <td>0</td>\n",
       "      <td>0</td>\n",
       "      <td>0</td>\n",
       "      <td>0</td>\n",
       "      <td>0</td>\n",
       "      <td>1</td>\n",
       "      <td>...</td>\n",
       "      <td>0</td>\n",
       "      <td>[]</td>\n",
       "      <td>0</td>\n",
       "      <td>[cvVMmlU1ouS3I5fhutaryQ, nj6UZ8tdGo8YJ9lUMTVWN...</td>\n",
       "      <td>0</td>\n",
       "      <td>Johnny</td>\n",
       "      <td>8</td>\n",
       "      <td>0</td>\n",
       "      <td>oMy_rEb0UBEmMlu-zcxnoQ</td>\n",
       "      <td>2014-11-03</td>\n",
       "    </tr>\n",
       "    <tr>\n",
       "      <th>1</th>\n",
       "      <td>3.70</td>\n",
       "      <td>0</td>\n",
       "      <td>0</td>\n",
       "      <td>0</td>\n",
       "      <td>0</td>\n",
       "      <td>0</td>\n",
       "      <td>0</td>\n",
       "      <td>0</td>\n",
       "      <td>0</td>\n",
       "      <td>0</td>\n",
       "      <td>...</td>\n",
       "      <td>0</td>\n",
       "      <td>[]</td>\n",
       "      <td>0</td>\n",
       "      <td>[0njfJmB-7n84DlIgUByCNw, rFn3Xe3RqHxRSxWOU19Gp...</td>\n",
       "      <td>0</td>\n",
       "      <td>Chris</td>\n",
       "      <td>10</td>\n",
       "      <td>0</td>\n",
       "      <td>JJ-aSuM4pCFPdkfoZ34q0Q</td>\n",
       "      <td>2013-09-24</td>\n",
       "    </tr>\n",
       "    <tr>\n",
       "      <th>2</th>\n",
       "      <td>2.00</td>\n",
       "      <td>0</td>\n",
       "      <td>0</td>\n",
       "      <td>0</td>\n",
       "      <td>0</td>\n",
       "      <td>0</td>\n",
       "      <td>0</td>\n",
       "      <td>0</td>\n",
       "      <td>0</td>\n",
       "      <td>0</td>\n",
       "      <td>...</td>\n",
       "      <td>0</td>\n",
       "      <td>[]</td>\n",
       "      <td>0</td>\n",
       "      <td>[]</td>\n",
       "      <td>0</td>\n",
       "      <td>Tiffy</td>\n",
       "      <td>1</td>\n",
       "      <td>0</td>\n",
       "      <td>uUzsFQn_6cXDh6rPNGbIFA</td>\n",
       "      <td>2017-03-02</td>\n",
       "    </tr>\n",
       "    <tr>\n",
       "      <th>3</th>\n",
       "      <td>4.67</td>\n",
       "      <td>0</td>\n",
       "      <td>0</td>\n",
       "      <td>0</td>\n",
       "      <td>0</td>\n",
       "      <td>0</td>\n",
       "      <td>0</td>\n",
       "      <td>0</td>\n",
       "      <td>0</td>\n",
       "      <td>0</td>\n",
       "      <td>...</td>\n",
       "      <td>0</td>\n",
       "      <td>[]</td>\n",
       "      <td>0</td>\n",
       "      <td>[]</td>\n",
       "      <td>0</td>\n",
       "      <td>Mark</td>\n",
       "      <td>6</td>\n",
       "      <td>0</td>\n",
       "      <td>mBneaEEH5EMyxaVyqS-72A</td>\n",
       "      <td>2015-03-13</td>\n",
       "    </tr>\n",
       "    <tr>\n",
       "      <th>4</th>\n",
       "      <td>4.67</td>\n",
       "      <td>0</td>\n",
       "      <td>0</td>\n",
       "      <td>0</td>\n",
       "      <td>0</td>\n",
       "      <td>0</td>\n",
       "      <td>0</td>\n",
       "      <td>0</td>\n",
       "      <td>0</td>\n",
       "      <td>0</td>\n",
       "      <td>...</td>\n",
       "      <td>0</td>\n",
       "      <td>[]</td>\n",
       "      <td>0</td>\n",
       "      <td>[]</td>\n",
       "      <td>0</td>\n",
       "      <td>Evelyn</td>\n",
       "      <td>3</td>\n",
       "      <td>0</td>\n",
       "      <td>W5mJGs-dcDWRGEhAzUYtoA</td>\n",
       "      <td>2016-09-08</td>\n",
       "    </tr>\n",
       "  </tbody>\n",
       "</table>\n",
       "<p>5 rows × 22 columns</p>\n",
       "</div>"
      ],
      "text/plain": [
       "   average_stars  compliment_cool  compliment_cute  compliment_funny  \\\n",
       "0           4.67                0                0                 0   \n",
       "1           3.70                0                0                 0   \n",
       "2           2.00                0                0                 0   \n",
       "3           4.67                0                0                 0   \n",
       "4           4.67                0                0                 0   \n",
       "\n",
       "   compliment_hot  compliment_list  compliment_more  compliment_note  \\\n",
       "0               0                0                0                0   \n",
       "1               0                0                0                0   \n",
       "2               0                0                0                0   \n",
       "3               0                0                0                0   \n",
       "4               0                0                0                0   \n",
       "\n",
       "   compliment_photos  compliment_plain      ...        cool  elite  fans  \\\n",
       "0                  0                 1      ...           0     []     0   \n",
       "1                  0                 0      ...           0     []     0   \n",
       "2                  0                 0      ...           0     []     0   \n",
       "3                  0                 0      ...           0     []     0   \n",
       "4                  0                 0      ...           0     []     0   \n",
       "\n",
       "                                             friends  funny    name  \\\n",
       "0  [cvVMmlU1ouS3I5fhutaryQ, nj6UZ8tdGo8YJ9lUMTVWN...      0  Johnny   \n",
       "1  [0njfJmB-7n84DlIgUByCNw, rFn3Xe3RqHxRSxWOU19Gp...      0   Chris   \n",
       "2                                                 []      0   Tiffy   \n",
       "3                                                 []      0    Mark   \n",
       "4                                                 []      0  Evelyn   \n",
       "\n",
       "   review_count useful                 user_id  yelping_since  \n",
       "0             8      0  oMy_rEb0UBEmMlu-zcxnoQ     2014-11-03  \n",
       "1            10      0  JJ-aSuM4pCFPdkfoZ34q0Q     2013-09-24  \n",
       "2             1      0  uUzsFQn_6cXDh6rPNGbIFA     2017-03-02  \n",
       "3             6      0  mBneaEEH5EMyxaVyqS-72A     2015-03-13  \n",
       "4             3      0  W5mJGs-dcDWRGEhAzUYtoA     2016-09-08  \n",
       "\n",
       "[5 rows x 22 columns]"
      ]
     },
     "execution_count": 6,
     "metadata": {},
     "output_type": "execute_result"
    }
   ],
   "source": [
    "df_user.head()"
   ]
  },
  {
   "cell_type": "code",
   "execution_count": 7,
   "metadata": {},
   "outputs": [
    {
     "data": {
      "text/html": [
       "<div>\n",
       "<style scoped>\n",
       "    .dataframe tbody tr th:only-of-type {\n",
       "        vertical-align: middle;\n",
       "    }\n",
       "\n",
       "    .dataframe tbody tr th {\n",
       "        vertical-align: top;\n",
       "    }\n",
       "\n",
       "    .dataframe thead th {\n",
       "        text-align: right;\n",
       "    }\n",
       "</style>\n",
       "<table border=\"1\" class=\"dataframe\">\n",
       "  <thead>\n",
       "    <tr style=\"text-align: right;\">\n",
       "      <th></th>\n",
       "      <th>business_id</th>\n",
       "      <th>cool</th>\n",
       "      <th>date</th>\n",
       "      <th>funny</th>\n",
       "      <th>review_id</th>\n",
       "      <th>stars</th>\n",
       "      <th>text</th>\n",
       "      <th>useful</th>\n",
       "      <th>user_id</th>\n",
       "    </tr>\n",
       "  </thead>\n",
       "  <tbody>\n",
       "    <tr>\n",
       "      <th>0</th>\n",
       "      <td>0W4lkclzZThpx3V65bVgig</td>\n",
       "      <td>0</td>\n",
       "      <td>2016-05-28</td>\n",
       "      <td>0</td>\n",
       "      <td>v0i_UHJMo_hPBq9bxWvW4w</td>\n",
       "      <td>5</td>\n",
       "      <td>Love the staff, love the meat, love the place....</td>\n",
       "      <td>0</td>\n",
       "      <td>bv2nCi5Qv5vroFiqKGopiw</td>\n",
       "    </tr>\n",
       "    <tr>\n",
       "      <th>1</th>\n",
       "      <td>AEx2SYEUJmTxVVB18LlCwA</td>\n",
       "      <td>0</td>\n",
       "      <td>2016-05-28</td>\n",
       "      <td>0</td>\n",
       "      <td>vkVSCC7xljjrAI4UGfnKEQ</td>\n",
       "      <td>5</td>\n",
       "      <td>Super simple place but amazing nonetheless. It...</td>\n",
       "      <td>0</td>\n",
       "      <td>bv2nCi5Qv5vroFiqKGopiw</td>\n",
       "    </tr>\n",
       "    <tr>\n",
       "      <th>2</th>\n",
       "      <td>VR6GpWIda3SfvPC-lg9H3w</td>\n",
       "      <td>0</td>\n",
       "      <td>2016-05-28</td>\n",
       "      <td>0</td>\n",
       "      <td>n6QzIUObkYshz4dz2QRJTw</td>\n",
       "      <td>5</td>\n",
       "      <td>Small unassuming place that changes their menu...</td>\n",
       "      <td>0</td>\n",
       "      <td>bv2nCi5Qv5vroFiqKGopiw</td>\n",
       "    </tr>\n",
       "    <tr>\n",
       "      <th>3</th>\n",
       "      <td>CKC0-MOWMqoeWf6s-szl8g</td>\n",
       "      <td>0</td>\n",
       "      <td>2016-05-28</td>\n",
       "      <td>0</td>\n",
       "      <td>MV3CcKScW05u5LVfF6ok0g</td>\n",
       "      <td>5</td>\n",
       "      <td>Lester's is located in a beautiful neighborhoo...</td>\n",
       "      <td>0</td>\n",
       "      <td>bv2nCi5Qv5vroFiqKGopiw</td>\n",
       "    </tr>\n",
       "    <tr>\n",
       "      <th>4</th>\n",
       "      <td>ACFtxLv8pGrrxMm6EgjreA</td>\n",
       "      <td>0</td>\n",
       "      <td>2016-05-28</td>\n",
       "      <td>0</td>\n",
       "      <td>IXvOzsEMYtiJI0CARmj77Q</td>\n",
       "      <td>4</td>\n",
       "      <td>Love coming here. Yes the place always needs t...</td>\n",
       "      <td>0</td>\n",
       "      <td>bv2nCi5Qv5vroFiqKGopiw</td>\n",
       "    </tr>\n",
       "  </tbody>\n",
       "</table>\n",
       "</div>"
      ],
      "text/plain": [
       "              business_id  cool       date  funny               review_id  \\\n",
       "0  0W4lkclzZThpx3V65bVgig     0 2016-05-28      0  v0i_UHJMo_hPBq9bxWvW4w   \n",
       "1  AEx2SYEUJmTxVVB18LlCwA     0 2016-05-28      0  vkVSCC7xljjrAI4UGfnKEQ   \n",
       "2  VR6GpWIda3SfvPC-lg9H3w     0 2016-05-28      0  n6QzIUObkYshz4dz2QRJTw   \n",
       "3  CKC0-MOWMqoeWf6s-szl8g     0 2016-05-28      0  MV3CcKScW05u5LVfF6ok0g   \n",
       "4  ACFtxLv8pGrrxMm6EgjreA     0 2016-05-28      0  IXvOzsEMYtiJI0CARmj77Q   \n",
       "\n",
       "   stars                                               text  useful  \\\n",
       "0      5  Love the staff, love the meat, love the place....       0   \n",
       "1      5  Super simple place but amazing nonetheless. It...       0   \n",
       "2      5  Small unassuming place that changes their menu...       0   \n",
       "3      5  Lester's is located in a beautiful neighborhoo...       0   \n",
       "4      4  Love coming here. Yes the place always needs t...       0   \n",
       "\n",
       "                  user_id  \n",
       "0  bv2nCi5Qv5vroFiqKGopiw  \n",
       "1  bv2nCi5Qv5vroFiqKGopiw  \n",
       "2  bv2nCi5Qv5vroFiqKGopiw  \n",
       "3  bv2nCi5Qv5vroFiqKGopiw  \n",
       "4  bv2nCi5Qv5vroFiqKGopiw  "
      ]
     },
     "execution_count": 7,
     "metadata": {},
     "output_type": "execute_result"
    }
   ],
   "source": [
    "df_rev.head()"
   ]
  },
  {
   "cell_type": "code",
   "execution_count": 8,
   "metadata": {},
   "outputs": [],
   "source": [
    "#Rename colume names \n",
    "df_bus.rename(columns={\"name\":\"bus_name\",\"review_count\":\"bus_rev_count\"}, inplace=True)\n",
    "df_user.rename(columns={\"name\":\"user_name\", \"review_count\":\"user_rev_count\"}, inplace=True)\n",
    "df_rev.rename(columns={\"cool\":\"cool_rev\", \"funny\":\"funny_rev\", \"stars\":\"stars_rev\", \"useful\":\"useful_rev\"}, inplace=True)"
   ]
  },
  {
   "cell_type": "code",
   "execution_count": 9,
   "metadata": {},
   "outputs": [
    {
     "name": "stdout",
     "output_type": "stream",
     "text": [
      "Number of rows for business table: 174567\n",
      "Number of rows for user table: 1326101\n",
      "Number of rows for review table: 5261669\n"
     ]
    }
   ],
   "source": [
    "print(\"Number of rows for business table: {}\".format(len(df_bus)))\n",
    "print(\"Number of rows for user table: {}\".format(len(df_user)))\n",
    "print(\"Number of rows for review table: {}\".format(len(df_rev)))"
   ]
  },
  {
   "cell_type": "code",
   "execution_count": 10,
   "metadata": {},
   "outputs": [],
   "source": [
    "us_states = [\"AL\",\"AK\",\"AZ\",\"AR\",\"CA\",\"CO\",\"CT\",\"DE\",\"FL\",\"GA\",\"HI\",\"ID\",\"IL\",\"IN\",\"IA\",\"KS\", \\\n",
    "            \"KY\",\"LA\",\"ME\",\"MD\",\"MA\",\"MI\",\"MN\",\"MS\",\"MO\",\"MT\",\"NE\",\"NV\",\"NH\",\"NJ\",\"NM\",\"NY\", \\\n",
    "            \"NC\",\"ND\",\"OH\",\"OK\",\"OR\",\"PA\",\"RI\",\"SC\",\"SD\",\"TN\",\"TX\",\"UT\",\"VT\",\"VA\",\"WA\",\"WV\",\"WI\",\"WY\"]\n",
    "\n",
    "#Extracting reviews for only US restaurants\n",
    "df_bus_us = df_bus[df_bus.state.isin (us_states)]"
   ]
  },
  {
   "cell_type": "code",
   "execution_count": 11,
   "metadata": {},
   "outputs": [],
   "source": [
    "#Filtering businesses that are not resturants\n",
    "indx = []\n",
    "for i, lst in enumerate(df_bus_us.categories):\n",
    "    if \"Restaurants\" in lst:\n",
    "        indx.append(i)\n",
    "        \n",
    "\n",
    "df_bus_us = df_bus_us.iloc[indx]"
   ]
  },
  {
   "cell_type": "code",
   "execution_count": 12,
   "metadata": {},
   "outputs": [
    {
     "data": {
      "text/html": [
       "<div>\n",
       "<style scoped>\n",
       "    .dataframe tbody tr th:only-of-type {\n",
       "        vertical-align: middle;\n",
       "    }\n",
       "\n",
       "    .dataframe tbody tr th {\n",
       "        vertical-align: top;\n",
       "    }\n",
       "\n",
       "    .dataframe thead th {\n",
       "        text-align: right;\n",
       "    }\n",
       "</style>\n",
       "<table border=\"1\" class=\"dataframe\">\n",
       "  <thead>\n",
       "    <tr style=\"text-align: right;\">\n",
       "      <th></th>\n",
       "      <th>address</th>\n",
       "      <th>attributes</th>\n",
       "      <th>business_id</th>\n",
       "      <th>categories</th>\n",
       "      <th>city</th>\n",
       "      <th>hours</th>\n",
       "      <th>is_open</th>\n",
       "      <th>latitude</th>\n",
       "      <th>longitude</th>\n",
       "      <th>bus_name</th>\n",
       "      <th>neighborhood</th>\n",
       "      <th>postal_code</th>\n",
       "      <th>bus_rev_count</th>\n",
       "      <th>stars</th>\n",
       "      <th>state</th>\n",
       "    </tr>\n",
       "  </thead>\n",
       "  <tbody>\n",
       "    <tr>\n",
       "      <th>4</th>\n",
       "      <td>581 Howe Ave</td>\n",
       "      <td>{'Alcohol': 'full_bar', 'HasTV': True, 'NoiseL...</td>\n",
       "      <td>PfOCPjBrlQAnz__NXj9h_w</td>\n",
       "      <td>[American (New), Nightlife, Bars, Sandwiches, ...</td>\n",
       "      <td>Cuyahoga Falls</td>\n",
       "      <td>{'Monday': '11:00-1:00', 'Tuesday': '11:00-1:0...</td>\n",
       "      <td>1</td>\n",
       "      <td>41.119535</td>\n",
       "      <td>-81.475690</td>\n",
       "      <td>Brick House Tavern + Tap</td>\n",
       "      <td></td>\n",
       "      <td>44221</td>\n",
       "      <td>116</td>\n",
       "      <td>3.5</td>\n",
       "      <td>OH</td>\n",
       "    </tr>\n",
       "    <tr>\n",
       "      <th>10</th>\n",
       "      <td>737 West Pike St</td>\n",
       "      <td>{'RestaurantsTableService': True, 'GoodForMeal...</td>\n",
       "      <td>XOSRcvtaKc_Q5H1SAzN20A</td>\n",
       "      <td>[Breakfast &amp; Brunch, Gluten-Free, Coffee &amp; Tea...</td>\n",
       "      <td>Houston</td>\n",
       "      <td>{}</td>\n",
       "      <td>0</td>\n",
       "      <td>40.241548</td>\n",
       "      <td>-80.212815</td>\n",
       "      <td>East Coast Coffee</td>\n",
       "      <td></td>\n",
       "      <td>15342</td>\n",
       "      <td>3</td>\n",
       "      <td>4.5</td>\n",
       "      <td>PA</td>\n",
       "    </tr>\n",
       "    <tr>\n",
       "      <th>14</th>\n",
       "      <td>600 E 4th St</td>\n",
       "      <td>{'GoodForMeal': {'dessert': False, 'latenight'...</td>\n",
       "      <td>fNMVV_ZX7CJSDWQGdOM8Nw</td>\n",
       "      <td>[Restaurants, American (Traditional)]</td>\n",
       "      <td>Charlotte</td>\n",
       "      <td>{'Friday': '7:00-15:00', 'Tuesday': '7:00-15:0...</td>\n",
       "      <td>1</td>\n",
       "      <td>35.221647</td>\n",
       "      <td>-80.839345</td>\n",
       "      <td>Showmars Government Center</td>\n",
       "      <td>Uptown</td>\n",
       "      <td>28202</td>\n",
       "      <td>7</td>\n",
       "      <td>3.5</td>\n",
       "      <td>NC</td>\n",
       "    </tr>\n",
       "    <tr>\n",
       "      <th>28</th>\n",
       "      <td>38295 Chestnut Ridge Rd</td>\n",
       "      <td>{'GoodForMeal': {'dessert': False, 'latenight'...</td>\n",
       "      <td>Dj0S-Oe4ytRJzMGUPgYUkw</td>\n",
       "      <td>[Soup, Salad, Sandwiches, Restaurants]</td>\n",
       "      <td>Elyria</td>\n",
       "      <td>{'Monday': '6:30-21:00', 'Tuesday': '6:30-21:0...</td>\n",
       "      <td>1</td>\n",
       "      <td>41.343078</td>\n",
       "      <td>-82.067140</td>\n",
       "      <td>Panera Bread</td>\n",
       "      <td></td>\n",
       "      <td>44035</td>\n",
       "      <td>4</td>\n",
       "      <td>2.0</td>\n",
       "      <td>OH</td>\n",
       "    </tr>\n",
       "    <tr>\n",
       "      <th>29</th>\n",
       "      <td>2429 Hwy 160 W</td>\n",
       "      <td>{'GoodForMeal': {'dessert': False, 'latenight'...</td>\n",
       "      <td>gAy4LYpsScrj8POnCW6btQ</td>\n",
       "      <td>[Food, American (Traditional), Coffee &amp; Tea, R...</td>\n",
       "      <td>Fort Mill</td>\n",
       "      <td>{'Monday': '7:00-15:00', 'Tuesday': '7:00-15:0...</td>\n",
       "      <td>0</td>\n",
       "      <td>35.047287</td>\n",
       "      <td>-80.990559</td>\n",
       "      <td>Toast Cafe</td>\n",
       "      <td></td>\n",
       "      <td>29708</td>\n",
       "      <td>6</td>\n",
       "      <td>3.5</td>\n",
       "      <td>SC</td>\n",
       "    </tr>\n",
       "  </tbody>\n",
       "</table>\n",
       "</div>"
      ],
      "text/plain": [
       "                    address  \\\n",
       "4              581 Howe Ave   \n",
       "10         737 West Pike St   \n",
       "14             600 E 4th St   \n",
       "28  38295 Chestnut Ridge Rd   \n",
       "29           2429 Hwy 160 W   \n",
       "\n",
       "                                           attributes             business_id  \\\n",
       "4   {'Alcohol': 'full_bar', 'HasTV': True, 'NoiseL...  PfOCPjBrlQAnz__NXj9h_w   \n",
       "10  {'RestaurantsTableService': True, 'GoodForMeal...  XOSRcvtaKc_Q5H1SAzN20A   \n",
       "14  {'GoodForMeal': {'dessert': False, 'latenight'...  fNMVV_ZX7CJSDWQGdOM8Nw   \n",
       "28  {'GoodForMeal': {'dessert': False, 'latenight'...  Dj0S-Oe4ytRJzMGUPgYUkw   \n",
       "29  {'GoodForMeal': {'dessert': False, 'latenight'...  gAy4LYpsScrj8POnCW6btQ   \n",
       "\n",
       "                                           categories            city  \\\n",
       "4   [American (New), Nightlife, Bars, Sandwiches, ...  Cuyahoga Falls   \n",
       "10  [Breakfast & Brunch, Gluten-Free, Coffee & Tea...         Houston   \n",
       "14              [Restaurants, American (Traditional)]       Charlotte   \n",
       "28             [Soup, Salad, Sandwiches, Restaurants]          Elyria   \n",
       "29  [Food, American (Traditional), Coffee & Tea, R...       Fort Mill   \n",
       "\n",
       "                                                hours  is_open   latitude  \\\n",
       "4   {'Monday': '11:00-1:00', 'Tuesday': '11:00-1:0...        1  41.119535   \n",
       "10                                                 {}        0  40.241548   \n",
       "14  {'Friday': '7:00-15:00', 'Tuesday': '7:00-15:0...        1  35.221647   \n",
       "28  {'Monday': '6:30-21:00', 'Tuesday': '6:30-21:0...        1  41.343078   \n",
       "29  {'Monday': '7:00-15:00', 'Tuesday': '7:00-15:0...        0  35.047287   \n",
       "\n",
       "    longitude                    bus_name neighborhood postal_code  \\\n",
       "4  -81.475690    Brick House Tavern + Tap                    44221   \n",
       "10 -80.212815           East Coast Coffee                    15342   \n",
       "14 -80.839345  Showmars Government Center       Uptown       28202   \n",
       "28 -82.067140                Panera Bread                    44035   \n",
       "29 -80.990559                  Toast Cafe                    29708   \n",
       "\n",
       "    bus_rev_count  stars state  \n",
       "4             116    3.5    OH  \n",
       "10              3    4.5    PA  \n",
       "14              7    3.5    NC  \n",
       "28              4    2.0    OH  \n",
       "29              6    3.5    SC  "
      ]
     },
     "execution_count": 12,
     "metadata": {},
     "output_type": "execute_result"
    }
   ],
   "source": [
    "df_bus_us.head()"
   ]
  },
  {
   "cell_type": "code",
   "execution_count": 13,
   "metadata": {},
   "outputs": [
    {
     "name": "stdout",
     "output_type": "stream",
     "text": [
      "Number of rows for business table for US states: 32472\n"
     ]
    }
   ],
   "source": [
    "print(\"Number of rows for business table for US states: {}\".format(len(df_bus_us)))"
   ]
  },
  {
   "cell_type": "code",
   "execution_count": 14,
   "metadata": {},
   "outputs": [],
   "source": [
    "df_rev_bus = pd.merge(df_rev, df_bus_us, how='inner', on=['business_id', 'business_id'])"
   ]
  },
  {
   "cell_type": "code",
   "execution_count": 15,
   "metadata": {},
   "outputs": [
    {
     "data": {
      "text/html": [
       "<div>\n",
       "<style scoped>\n",
       "    .dataframe tbody tr th:only-of-type {\n",
       "        vertical-align: middle;\n",
       "    }\n",
       "\n",
       "    .dataframe tbody tr th {\n",
       "        vertical-align: top;\n",
       "    }\n",
       "\n",
       "    .dataframe thead th {\n",
       "        text-align: right;\n",
       "    }\n",
       "</style>\n",
       "<table border=\"1\" class=\"dataframe\">\n",
       "  <thead>\n",
       "    <tr style=\"text-align: right;\">\n",
       "      <th></th>\n",
       "      <th>business_id</th>\n",
       "      <th>cool_rev</th>\n",
       "      <th>date</th>\n",
       "      <th>funny_rev</th>\n",
       "      <th>review_id</th>\n",
       "      <th>stars_rev</th>\n",
       "      <th>text</th>\n",
       "      <th>useful_rev</th>\n",
       "      <th>user_id</th>\n",
       "      <th>address</th>\n",
       "      <th>...</th>\n",
       "      <th>hours</th>\n",
       "      <th>is_open</th>\n",
       "      <th>latitude</th>\n",
       "      <th>longitude</th>\n",
       "      <th>bus_name</th>\n",
       "      <th>neighborhood</th>\n",
       "      <th>postal_code</th>\n",
       "      <th>bus_rev_count</th>\n",
       "      <th>stars</th>\n",
       "      <th>state</th>\n",
       "    </tr>\n",
       "  </thead>\n",
       "  <tbody>\n",
       "    <tr>\n",
       "      <th>0</th>\n",
       "      <td>IXXERocY1bqGwRllcy8J2w</td>\n",
       "      <td>0</td>\n",
       "      <td>2009-08-30</td>\n",
       "      <td>0</td>\n",
       "      <td>nsThIz_-TuvgoFh0o9XJfQ</td>\n",
       "      <td>5</td>\n",
       "      <td>Visiting from SF.  Checked yelp and found this...</td>\n",
       "      <td>0</td>\n",
       "      <td>_L2SZSwf7A6YSrIHy_q4cw</td>\n",
       "      <td>831 E Johnson St, Ste 4</td>\n",
       "      <td>...</td>\n",
       "      <td>{'Sunday': '8:00-14:00', 'Saturday': '8:00-14:...</td>\n",
       "      <td>0</td>\n",
       "      <td>43.083805</td>\n",
       "      <td>-89.376811</td>\n",
       "      <td>Sophia's Bakery &amp; Cafe</td>\n",
       "      <td>Tenney - Lapham</td>\n",
       "      <td>53703</td>\n",
       "      <td>191</td>\n",
       "      <td>4.0</td>\n",
       "      <td>WI</td>\n",
       "    </tr>\n",
       "    <tr>\n",
       "      <th>1</th>\n",
       "      <td>IXXERocY1bqGwRllcy8J2w</td>\n",
       "      <td>1</td>\n",
       "      <td>2009-08-12</td>\n",
       "      <td>0</td>\n",
       "      <td>naGxxI3feEGAd2osLEPyUw</td>\n",
       "      <td>5</td>\n",
       "      <td>If you can get in the door...go! Go immediatel...</td>\n",
       "      <td>2</td>\n",
       "      <td>dt1n3wmyGvXiLIGav61teg</td>\n",
       "      <td>831 E Johnson St, Ste 4</td>\n",
       "      <td>...</td>\n",
       "      <td>{'Sunday': '8:00-14:00', 'Saturday': '8:00-14:...</td>\n",
       "      <td>0</td>\n",
       "      <td>43.083805</td>\n",
       "      <td>-89.376811</td>\n",
       "      <td>Sophia's Bakery &amp; Cafe</td>\n",
       "      <td>Tenney - Lapham</td>\n",
       "      <td>53703</td>\n",
       "      <td>191</td>\n",
       "      <td>4.0</td>\n",
       "      <td>WI</td>\n",
       "    </tr>\n",
       "    <tr>\n",
       "      <th>2</th>\n",
       "      <td>IXXERocY1bqGwRllcy8J2w</td>\n",
       "      <td>0</td>\n",
       "      <td>2017-06-17</td>\n",
       "      <td>0</td>\n",
       "      <td>6JgLyzYpaA1CUx7QUrZJYw</td>\n",
       "      <td>3</td>\n",
       "      <td>I just came here for the pastries and they wer...</td>\n",
       "      <td>0</td>\n",
       "      <td>fs8zup-cUxKYwH1q6nlNxg</td>\n",
       "      <td>831 E Johnson St, Ste 4</td>\n",
       "      <td>...</td>\n",
       "      <td>{'Sunday': '8:00-14:00', 'Saturday': '8:00-14:...</td>\n",
       "      <td>0</td>\n",
       "      <td>43.083805</td>\n",
       "      <td>-89.376811</td>\n",
       "      <td>Sophia's Bakery &amp; Cafe</td>\n",
       "      <td>Tenney - Lapham</td>\n",
       "      <td>53703</td>\n",
       "      <td>191</td>\n",
       "      <td>4.0</td>\n",
       "      <td>WI</td>\n",
       "    </tr>\n",
       "    <tr>\n",
       "      <th>3</th>\n",
       "      <td>IXXERocY1bqGwRllcy8J2w</td>\n",
       "      <td>0</td>\n",
       "      <td>2013-04-09</td>\n",
       "      <td>0</td>\n",
       "      <td>fdF1ZLdK-wkSx8j9QFoOIw</td>\n",
       "      <td>4</td>\n",
       "      <td>We stopped in here for a Saturday morning brea...</td>\n",
       "      <td>0</td>\n",
       "      <td>Lx5jVCom4-Y0k8duYbEhnw</td>\n",
       "      <td>831 E Johnson St, Ste 4</td>\n",
       "      <td>...</td>\n",
       "      <td>{'Sunday': '8:00-14:00', 'Saturday': '8:00-14:...</td>\n",
       "      <td>0</td>\n",
       "      <td>43.083805</td>\n",
       "      <td>-89.376811</td>\n",
       "      <td>Sophia's Bakery &amp; Cafe</td>\n",
       "      <td>Tenney - Lapham</td>\n",
       "      <td>53703</td>\n",
       "      <td>191</td>\n",
       "      <td>4.0</td>\n",
       "      <td>WI</td>\n",
       "    </tr>\n",
       "    <tr>\n",
       "      <th>4</th>\n",
       "      <td>IXXERocY1bqGwRllcy8J2w</td>\n",
       "      <td>1</td>\n",
       "      <td>2017-01-24</td>\n",
       "      <td>0</td>\n",
       "      <td>OblJyAgrBgjhonvMHzUV3A</td>\n",
       "      <td>5</td>\n",
       "      <td>Amazing breakfast in a super cozy environment!...</td>\n",
       "      <td>2</td>\n",
       "      <td>p6RurvWCPEqR8PP4siwiVA</td>\n",
       "      <td>831 E Johnson St, Ste 4</td>\n",
       "      <td>...</td>\n",
       "      <td>{'Sunday': '8:00-14:00', 'Saturday': '8:00-14:...</td>\n",
       "      <td>0</td>\n",
       "      <td>43.083805</td>\n",
       "      <td>-89.376811</td>\n",
       "      <td>Sophia's Bakery &amp; Cafe</td>\n",
       "      <td>Tenney - Lapham</td>\n",
       "      <td>53703</td>\n",
       "      <td>191</td>\n",
       "      <td>4.0</td>\n",
       "      <td>WI</td>\n",
       "    </tr>\n",
       "  </tbody>\n",
       "</table>\n",
       "<p>5 rows × 23 columns</p>\n",
       "</div>"
      ],
      "text/plain": [
       "              business_id  cool_rev       date  funny_rev  \\\n",
       "0  IXXERocY1bqGwRllcy8J2w         0 2009-08-30          0   \n",
       "1  IXXERocY1bqGwRllcy8J2w         1 2009-08-12          0   \n",
       "2  IXXERocY1bqGwRllcy8J2w         0 2017-06-17          0   \n",
       "3  IXXERocY1bqGwRllcy8J2w         0 2013-04-09          0   \n",
       "4  IXXERocY1bqGwRllcy8J2w         1 2017-01-24          0   \n",
       "\n",
       "                review_id  stars_rev  \\\n",
       "0  nsThIz_-TuvgoFh0o9XJfQ          5   \n",
       "1  naGxxI3feEGAd2osLEPyUw          5   \n",
       "2  6JgLyzYpaA1CUx7QUrZJYw          3   \n",
       "3  fdF1ZLdK-wkSx8j9QFoOIw          4   \n",
       "4  OblJyAgrBgjhonvMHzUV3A          5   \n",
       "\n",
       "                                                text  useful_rev  \\\n",
       "0  Visiting from SF.  Checked yelp and found this...           0   \n",
       "1  If you can get in the door...go! Go immediatel...           2   \n",
       "2  I just came here for the pastries and they wer...           0   \n",
       "3  We stopped in here for a Saturday morning brea...           0   \n",
       "4  Amazing breakfast in a super cozy environment!...           2   \n",
       "\n",
       "                  user_id                  address  ...   \\\n",
       "0  _L2SZSwf7A6YSrIHy_q4cw  831 E Johnson St, Ste 4  ...    \n",
       "1  dt1n3wmyGvXiLIGav61teg  831 E Johnson St, Ste 4  ...    \n",
       "2  fs8zup-cUxKYwH1q6nlNxg  831 E Johnson St, Ste 4  ...    \n",
       "3  Lx5jVCom4-Y0k8duYbEhnw  831 E Johnson St, Ste 4  ...    \n",
       "4  p6RurvWCPEqR8PP4siwiVA  831 E Johnson St, Ste 4  ...    \n",
       "\n",
       "                                               hours is_open   latitude  \\\n",
       "0  {'Sunday': '8:00-14:00', 'Saturday': '8:00-14:...       0  43.083805   \n",
       "1  {'Sunday': '8:00-14:00', 'Saturday': '8:00-14:...       0  43.083805   \n",
       "2  {'Sunday': '8:00-14:00', 'Saturday': '8:00-14:...       0  43.083805   \n",
       "3  {'Sunday': '8:00-14:00', 'Saturday': '8:00-14:...       0  43.083805   \n",
       "4  {'Sunday': '8:00-14:00', 'Saturday': '8:00-14:...       0  43.083805   \n",
       "\n",
       "   longitude                bus_name     neighborhood  postal_code  \\\n",
       "0 -89.376811  Sophia's Bakery & Cafe  Tenney - Lapham        53703   \n",
       "1 -89.376811  Sophia's Bakery & Cafe  Tenney - Lapham        53703   \n",
       "2 -89.376811  Sophia's Bakery & Cafe  Tenney - Lapham        53703   \n",
       "3 -89.376811  Sophia's Bakery & Cafe  Tenney - Lapham        53703   \n",
       "4 -89.376811  Sophia's Bakery & Cafe  Tenney - Lapham        53703   \n",
       "\n",
       "  bus_rev_count stars state  \n",
       "0           191   4.0    WI  \n",
       "1           191   4.0    WI  \n",
       "2           191   4.0    WI  \n",
       "3           191   4.0    WI  \n",
       "4           191   4.0    WI  \n",
       "\n",
       "[5 rows x 23 columns]"
      ]
     },
     "execution_count": 15,
     "metadata": {},
     "output_type": "execute_result"
    }
   ],
   "source": [
    "df_rev_bus.head()"
   ]
  },
  {
   "cell_type": "code",
   "execution_count": 16,
   "metadata": {},
   "outputs": [],
   "source": [
    "df_rev_bus_user = pd.merge(df_rev_bus, df_user, how='left', on=['user_id', 'user_id'])"
   ]
  },
  {
   "cell_type": "code",
   "execution_count": 17,
   "metadata": {},
   "outputs": [
    {
     "name": "stdout",
     "output_type": "stream",
     "text": [
      "Number of rows for business table for concated business, user and review: 2598115\n"
     ]
    }
   ],
   "source": [
    "print(\"Number of rows for business table for concated business, user and review: {}\".format(len(df_rev_bus_user)))"
   ]
  },
  {
   "cell_type": "code",
   "execution_count": 18,
   "metadata": {},
   "outputs": [
    {
     "data": {
      "text/html": [
       "<div>\n",
       "<style scoped>\n",
       "    .dataframe tbody tr th:only-of-type {\n",
       "        vertical-align: middle;\n",
       "    }\n",
       "\n",
       "    .dataframe tbody tr th {\n",
       "        vertical-align: top;\n",
       "    }\n",
       "\n",
       "    .dataframe thead th {\n",
       "        text-align: right;\n",
       "    }\n",
       "</style>\n",
       "<table border=\"1\" class=\"dataframe\">\n",
       "  <thead>\n",
       "    <tr style=\"text-align: right;\">\n",
       "      <th></th>\n",
       "      <th>business_id</th>\n",
       "      <th>cool_rev</th>\n",
       "      <th>date</th>\n",
       "      <th>funny_rev</th>\n",
       "      <th>review_id</th>\n",
       "      <th>stars_rev</th>\n",
       "      <th>text</th>\n",
       "      <th>useful_rev</th>\n",
       "      <th>user_id</th>\n",
       "      <th>address</th>\n",
       "      <th>...</th>\n",
       "      <th>compliment_writer</th>\n",
       "      <th>cool</th>\n",
       "      <th>elite</th>\n",
       "      <th>fans</th>\n",
       "      <th>friends</th>\n",
       "      <th>funny</th>\n",
       "      <th>user_name</th>\n",
       "      <th>user_rev_count</th>\n",
       "      <th>useful</th>\n",
       "      <th>yelping_since</th>\n",
       "    </tr>\n",
       "  </thead>\n",
       "  <tbody>\n",
       "    <tr>\n",
       "      <th>0</th>\n",
       "      <td>IXXERocY1bqGwRllcy8J2w</td>\n",
       "      <td>0</td>\n",
       "      <td>2009-08-30</td>\n",
       "      <td>0</td>\n",
       "      <td>nsThIz_-TuvgoFh0o9XJfQ</td>\n",
       "      <td>5</td>\n",
       "      <td>Visiting from SF.  Checked yelp and found this...</td>\n",
       "      <td>0</td>\n",
       "      <td>_L2SZSwf7A6YSrIHy_q4cw</td>\n",
       "      <td>831 E Johnson St, Ste 4</td>\n",
       "      <td>...</td>\n",
       "      <td>1</td>\n",
       "      <td>0</td>\n",
       "      <td>[]</td>\n",
       "      <td>1</td>\n",
       "      <td>[]</td>\n",
       "      <td>0</td>\n",
       "      <td>Joshua</td>\n",
       "      <td>47</td>\n",
       "      <td>0</td>\n",
       "      <td>2008-04-13</td>\n",
       "    </tr>\n",
       "    <tr>\n",
       "      <th>1</th>\n",
       "      <td>IXXERocY1bqGwRllcy8J2w</td>\n",
       "      <td>1</td>\n",
       "      <td>2009-08-12</td>\n",
       "      <td>0</td>\n",
       "      <td>naGxxI3feEGAd2osLEPyUw</td>\n",
       "      <td>5</td>\n",
       "      <td>If you can get in the door...go! Go immediatel...</td>\n",
       "      <td>2</td>\n",
       "      <td>dt1n3wmyGvXiLIGav61teg</td>\n",
       "      <td>831 E Johnson St, Ste 4</td>\n",
       "      <td>...</td>\n",
       "      <td>9</td>\n",
       "      <td>72</td>\n",
       "      <td>[2010, 2011, 2009]</td>\n",
       "      <td>13</td>\n",
       "      <td>[EQAyuvxamSfn3MGMjy7dsw, UsXqCXRZwSCSw0AT7y1uB...</td>\n",
       "      <td>62</td>\n",
       "      <td>Stephanie</td>\n",
       "      <td>185</td>\n",
       "      <td>92</td>\n",
       "      <td>2008-04-01</td>\n",
       "    </tr>\n",
       "    <tr>\n",
       "      <th>2</th>\n",
       "      <td>IXXERocY1bqGwRllcy8J2w</td>\n",
       "      <td>0</td>\n",
       "      <td>2017-06-17</td>\n",
       "      <td>0</td>\n",
       "      <td>6JgLyzYpaA1CUx7QUrZJYw</td>\n",
       "      <td>3</td>\n",
       "      <td>I just came here for the pastries and they wer...</td>\n",
       "      <td>0</td>\n",
       "      <td>fs8zup-cUxKYwH1q6nlNxg</td>\n",
       "      <td>831 E Johnson St, Ste 4</td>\n",
       "      <td>...</td>\n",
       "      <td>1</td>\n",
       "      <td>0</td>\n",
       "      <td>[2016, 2017]</td>\n",
       "      <td>1</td>\n",
       "      <td>[wd3xoNaDLib8dhQ7BxUl6g, pJyV8I6JsKG_iSzPLvb5A...</td>\n",
       "      <td>3</td>\n",
       "      <td>Tracy</td>\n",
       "      <td>45</td>\n",
       "      <td>15</td>\n",
       "      <td>2011-06-12</td>\n",
       "    </tr>\n",
       "    <tr>\n",
       "      <th>3</th>\n",
       "      <td>IXXERocY1bqGwRllcy8J2w</td>\n",
       "      <td>0</td>\n",
       "      <td>2013-04-09</td>\n",
       "      <td>0</td>\n",
       "      <td>fdF1ZLdK-wkSx8j9QFoOIw</td>\n",
       "      <td>4</td>\n",
       "      <td>We stopped in here for a Saturday morning brea...</td>\n",
       "      <td>0</td>\n",
       "      <td>Lx5jVCom4-Y0k8duYbEhnw</td>\n",
       "      <td>831 E Johnson St, Ste 4</td>\n",
       "      <td>...</td>\n",
       "      <td>1</td>\n",
       "      <td>0</td>\n",
       "      <td>[]</td>\n",
       "      <td>4</td>\n",
       "      <td>[KDG4BYYAOnzErrjyIPbJJw, n6UrsZu9iMw_RZl9X6j7E...</td>\n",
       "      <td>1</td>\n",
       "      <td>Karrey</td>\n",
       "      <td>41</td>\n",
       "      <td>3</td>\n",
       "      <td>2007-12-04</td>\n",
       "    </tr>\n",
       "    <tr>\n",
       "      <th>4</th>\n",
       "      <td>IXXERocY1bqGwRllcy8J2w</td>\n",
       "      <td>1</td>\n",
       "      <td>2017-01-24</td>\n",
       "      <td>0</td>\n",
       "      <td>OblJyAgrBgjhonvMHzUV3A</td>\n",
       "      <td>5</td>\n",
       "      <td>Amazing breakfast in a super cozy environment!...</td>\n",
       "      <td>2</td>\n",
       "      <td>p6RurvWCPEqR8PP4siwiVA</td>\n",
       "      <td>831 E Johnson St, Ste 4</td>\n",
       "      <td>...</td>\n",
       "      <td>26</td>\n",
       "      <td>101</td>\n",
       "      <td>[2016, 2017, 2015]</td>\n",
       "      <td>28</td>\n",
       "      <td>[4KYNUsdA-tPe-iKKudb0uQ, jynGTC7AOwHWFwc44glMf...</td>\n",
       "      <td>59</td>\n",
       "      <td>Emily</td>\n",
       "      <td>480</td>\n",
       "      <td>166</td>\n",
       "      <td>2012-07-29</td>\n",
       "    </tr>\n",
       "  </tbody>\n",
       "</table>\n",
       "<p>5 rows × 44 columns</p>\n",
       "</div>"
      ],
      "text/plain": [
       "              business_id  cool_rev       date  funny_rev  \\\n",
       "0  IXXERocY1bqGwRllcy8J2w         0 2009-08-30          0   \n",
       "1  IXXERocY1bqGwRllcy8J2w         1 2009-08-12          0   \n",
       "2  IXXERocY1bqGwRllcy8J2w         0 2017-06-17          0   \n",
       "3  IXXERocY1bqGwRllcy8J2w         0 2013-04-09          0   \n",
       "4  IXXERocY1bqGwRllcy8J2w         1 2017-01-24          0   \n",
       "\n",
       "                review_id  stars_rev  \\\n",
       "0  nsThIz_-TuvgoFh0o9XJfQ          5   \n",
       "1  naGxxI3feEGAd2osLEPyUw          5   \n",
       "2  6JgLyzYpaA1CUx7QUrZJYw          3   \n",
       "3  fdF1ZLdK-wkSx8j9QFoOIw          4   \n",
       "4  OblJyAgrBgjhonvMHzUV3A          5   \n",
       "\n",
       "                                                text  useful_rev  \\\n",
       "0  Visiting from SF.  Checked yelp and found this...           0   \n",
       "1  If you can get in the door...go! Go immediatel...           2   \n",
       "2  I just came here for the pastries and they wer...           0   \n",
       "3  We stopped in here for a Saturday morning brea...           0   \n",
       "4  Amazing breakfast in a super cozy environment!...           2   \n",
       "\n",
       "                  user_id                  address      ...       \\\n",
       "0  _L2SZSwf7A6YSrIHy_q4cw  831 E Johnson St, Ste 4      ...        \n",
       "1  dt1n3wmyGvXiLIGav61teg  831 E Johnson St, Ste 4      ...        \n",
       "2  fs8zup-cUxKYwH1q6nlNxg  831 E Johnson St, Ste 4      ...        \n",
       "3  Lx5jVCom4-Y0k8duYbEhnw  831 E Johnson St, Ste 4      ...        \n",
       "4  p6RurvWCPEqR8PP4siwiVA  831 E Johnson St, Ste 4      ...        \n",
       "\n",
       "  compliment_writer cool               elite fans  \\\n",
       "0                 1    0                  []    1   \n",
       "1                 9   72  [2010, 2011, 2009]   13   \n",
       "2                 1    0        [2016, 2017]    1   \n",
       "3                 1    0                  []    4   \n",
       "4                26  101  [2016, 2017, 2015]   28   \n",
       "\n",
       "                                             friends  funny  user_name  \\\n",
       "0                                                 []      0     Joshua   \n",
       "1  [EQAyuvxamSfn3MGMjy7dsw, UsXqCXRZwSCSw0AT7y1uB...     62  Stephanie   \n",
       "2  [wd3xoNaDLib8dhQ7BxUl6g, pJyV8I6JsKG_iSzPLvb5A...      3      Tracy   \n",
       "3  [KDG4BYYAOnzErrjyIPbJJw, n6UrsZu9iMw_RZl9X6j7E...      1     Karrey   \n",
       "4  [4KYNUsdA-tPe-iKKudb0uQ, jynGTC7AOwHWFwc44glMf...     59      Emily   \n",
       "\n",
       "  user_rev_count useful yelping_since  \n",
       "0             47      0    2008-04-13  \n",
       "1            185     92    2008-04-01  \n",
       "2             45     15    2011-06-12  \n",
       "3             41      3    2007-12-04  \n",
       "4            480    166    2012-07-29  \n",
       "\n",
       "[5 rows x 44 columns]"
      ]
     },
     "execution_count": 18,
     "metadata": {},
     "output_type": "execute_result"
    }
   ],
   "source": [
    "df_rev_bus_user.head()"
   ]
  },
  {
   "cell_type": "code",
   "execution_count": 19,
   "metadata": {},
   "outputs": [
    {
     "name": "stdout",
     "output_type": "stream",
     "text": [
      "<class 'pandas.core.frame.DataFrame'>\n",
      "Int64Index: 2598115 entries, 0 to 2598114\n",
      "Data columns (total 44 columns):\n",
      "business_id           object\n",
      "cool_rev              int64\n",
      "date                  datetime64[ns]\n",
      "funny_rev             int64\n",
      "review_id             object\n",
      "stars_rev             int64\n",
      "text                  object\n",
      "useful_rev            int64\n",
      "user_id               object\n",
      "address               object\n",
      "attributes            object\n",
      "categories            object\n",
      "city                  object\n",
      "hours                 object\n",
      "is_open               int64\n",
      "latitude              float64\n",
      "longitude             float64\n",
      "bus_name              object\n",
      "neighborhood          object\n",
      "postal_code           object\n",
      "bus_rev_count         int64\n",
      "stars                 float64\n",
      "state                 object\n",
      "average_stars         float64\n",
      "compliment_cool       int64\n",
      "compliment_cute       int64\n",
      "compliment_funny      int64\n",
      "compliment_hot        int64\n",
      "compliment_list       int64\n",
      "compliment_more       int64\n",
      "compliment_note       int64\n",
      "compliment_photos     int64\n",
      "compliment_plain      int64\n",
      "compliment_profile    int64\n",
      "compliment_writer     int64\n",
      "cool                  int64\n",
      "elite                 object\n",
      "fans                  int64\n",
      "friends               object\n",
      "funny                 int64\n",
      "user_name             object\n",
      "user_rev_count        int64\n",
      "useful                int64\n",
      "yelping_since         object\n",
      "dtypes: datetime64[ns](1), float64(4), int64(22), object(17)\n",
      "memory usage: 892.0+ MB\n"
     ]
    }
   ],
   "source": [
    "df_rev_bus_user.info()"
   ]
  },
  {
   "cell_type": "code",
   "execution_count": 20,
   "metadata": {},
   "outputs": [],
   "source": [
    "# with open(\"../efs/df_rev_bus_user.pickle\", \"wb\") as f:\n",
    "#     pickle.dump(df_rev_bus_user, f)"
   ]
  },
  {
   "cell_type": "code",
   "execution_count": 3,
   "metadata": {},
   "outputs": [],
   "source": [
    "with open(\"../efs/df_rev_bus_user.pickle\", \"rb\") as f:\n",
    "    df_loaded = pickle.load(f)"
   ]
  },
  {
   "cell_type": "code",
   "execution_count": 7,
   "metadata": {},
   "outputs": [
    {
     "data": {
      "text/html": [
       "<div>\n",
       "<style scoped>\n",
       "    .dataframe tbody tr th:only-of-type {\n",
       "        vertical-align: middle;\n",
       "    }\n",
       "\n",
       "    .dataframe tbody tr th {\n",
       "        vertical-align: top;\n",
       "    }\n",
       "\n",
       "    .dataframe thead th {\n",
       "        text-align: right;\n",
       "    }\n",
       "</style>\n",
       "<table border=\"1\" class=\"dataframe\">\n",
       "  <thead>\n",
       "    <tr style=\"text-align: right;\">\n",
       "      <th></th>\n",
       "      <th>stars_rev</th>\n",
       "    </tr>\n",
       "    <tr>\n",
       "      <th>state</th>\n",
       "      <th></th>\n",
       "    </tr>\n",
       "  </thead>\n",
       "  <tbody>\n",
       "    <tr>\n",
       "      <th>AK</th>\n",
       "      <td>21</td>\n",
       "    </tr>\n",
       "    <tr>\n",
       "      <th>AZ</th>\n",
       "      <td>920258</td>\n",
       "    </tr>\n",
       "    <tr>\n",
       "      <th>CA</th>\n",
       "      <td>4</td>\n",
       "    </tr>\n",
       "    <tr>\n",
       "      <th>CO</th>\n",
       "      <td>6</td>\n",
       "    </tr>\n",
       "    <tr>\n",
       "      <th>IL</th>\n",
       "      <td>24174</td>\n",
       "    </tr>\n",
       "    <tr>\n",
       "      <th>IN</th>\n",
       "      <td>25</td>\n",
       "    </tr>\n",
       "    <tr>\n",
       "      <th>NC</th>\n",
       "      <td>201416</td>\n",
       "    </tr>\n",
       "    <tr>\n",
       "      <th>NV</th>\n",
       "      <td>1041803</td>\n",
       "    </tr>\n",
       "    <tr>\n",
       "      <th>NY</th>\n",
       "      <td>79</td>\n",
       "    </tr>\n",
       "    <tr>\n",
       "      <th>OH</th>\n",
       "      <td>169961</td>\n",
       "    </tr>\n",
       "    <tr>\n",
       "      <th>PA</th>\n",
       "      <td>158518</td>\n",
       "    </tr>\n",
       "    <tr>\n",
       "      <th>SC</th>\n",
       "      <td>6808</td>\n",
       "    </tr>\n",
       "    <tr>\n",
       "      <th>VA</th>\n",
       "      <td>3</td>\n",
       "    </tr>\n",
       "    <tr>\n",
       "      <th>WI</th>\n",
       "      <td>75039</td>\n",
       "    </tr>\n",
       "  </tbody>\n",
       "</table>\n",
       "</div>"
      ],
      "text/plain": [
       "       stars_rev\n",
       "state           \n",
       "AK            21\n",
       "AZ        920258\n",
       "CA             4\n",
       "CO             6\n",
       "IL         24174\n",
       "IN            25\n",
       "NC        201416\n",
       "NV       1041803\n",
       "NY            79\n",
       "OH        169961\n",
       "PA        158518\n",
       "SC          6808\n",
       "VA             3\n",
       "WI         75039"
      ]
     },
     "execution_count": 7,
     "metadata": {},
     "output_type": "execute_result"
    }
   ],
   "source": [
    "df_loaded[[\"state\", \"stars_rev\"]].groupby(\"state\").count()"
   ]
  },
  {
   "cell_type": "code",
   "execution_count": 67,
   "metadata": {},
   "outputs": [
    {
     "data": {
      "text/html": [
       "<div>\n",
       "<style scoped>\n",
       "    .dataframe tbody tr th:only-of-type {\n",
       "        vertical-align: middle;\n",
       "    }\n",
       "\n",
       "    .dataframe tbody tr th {\n",
       "        vertical-align: top;\n",
       "    }\n",
       "\n",
       "    .dataframe thead th {\n",
       "        text-align: right;\n",
       "    }\n",
       "</style>\n",
       "<table border=\"1\" class=\"dataframe\">\n",
       "  <thead>\n",
       "    <tr style=\"text-align: right;\">\n",
       "      <th></th>\n",
       "      <th>text</th>\n",
       "      <th>stars_rev</th>\n",
       "    </tr>\n",
       "  </thead>\n",
       "  <tbody>\n",
       "    <tr>\n",
       "      <th>0</th>\n",
       "      <td>Visiting from SF.  Checked yelp and found this...</td>\n",
       "      <td>5</td>\n",
       "    </tr>\n",
       "    <tr>\n",
       "      <th>1</th>\n",
       "      <td>If you can get in the door...go! Go immediatel...</td>\n",
       "      <td>5</td>\n",
       "    </tr>\n",
       "    <tr>\n",
       "      <th>4</th>\n",
       "      <td>Amazing breakfast in a super cozy environment!...</td>\n",
       "      <td>5</td>\n",
       "    </tr>\n",
       "    <tr>\n",
       "      <th>5</th>\n",
       "      <td>My boyfriend and I just moved a few blocks awa...</td>\n",
       "      <td>5</td>\n",
       "    </tr>\n",
       "    <tr>\n",
       "      <th>6</th>\n",
       "      <td>Great food!! I am a big fan of pancakes..they ...</td>\n",
       "      <td>5</td>\n",
       "    </tr>\n",
       "  </tbody>\n",
       "</table>\n",
       "</div>"
      ],
      "text/plain": [
       "                                                text  stars_rev\n",
       "0  Visiting from SF.  Checked yelp and found this...          5\n",
       "1  If you can get in the door...go! Go immediatel...          5\n",
       "4  Amazing breakfast in a super cozy environment!...          5\n",
       "5  My boyfriend and I just moved a few blocks awa...          5\n",
       "6  Great food!! I am a big fan of pancakes..they ...          5"
      ]
     },
     "execution_count": 67,
     "metadata": {},
     "output_type": "execute_result"
    }
   ],
   "source": [
    "# df = df_loaded[[\"text\", \"stars_rev\"]][df_loaded[\"state\"]==\"WI\"]\n",
    "# df = df[df.stars_rev.isin([1,5])]\n",
    "df = df_loaded[[\"text\", \"stars_rev\"]]\n",
    "df = df[df.stars_rev.isin([1,5])]\n",
    "df.head()"
   ]
  },
  {
   "cell_type": "code",
   "execution_count": 68,
   "metadata": {},
   "outputs": [],
   "source": [
    "y = df[\"stars_rev\"].values\n",
    "corpus = df[\"text\"].values"
   ]
  },
  {
   "cell_type": "code",
   "execution_count": 69,
   "metadata": {},
   "outputs": [
    {
     "name": "stdout",
     "output_type": "stream",
     "text": [
      "Number of words reviews in corpus: 1333392\n"
     ]
    }
   ],
   "source": [
    "print(\"Number of words reviews in corpus: {}\".format(len(corpus)))"
   ]
  },
  {
   "cell_type": "code",
   "execution_count": 70,
   "metadata": {},
   "outputs": [
    {
     "data": {
      "text/plain": [
       "'If you can get in the door...go! Go immediately. Everything here is good. Literally, everything.\\n\\nCute little neighborhoody spot with excellent homemade food. What more do you need?'"
      ]
     },
     "execution_count": 70,
     "metadata": {},
     "output_type": "execute_result"
    }
   ],
   "source": [
    "corpus[1]"
   ]
  },
  {
   "cell_type": "code",
   "execution_count": 11,
   "metadata": {},
   "outputs": [],
   "source": [
    "# nltk.download('stopwords')\n",
    "# nltk.download('wordnet')"
   ]
  },
  {
   "cell_type": "code",
   "execution_count": 72,
   "metadata": {},
   "outputs": [],
   "source": [
    "sw = set(stopwords.words(\"english\"))\n",
    "tokenizer = RegexpTokenizer(\"[\\w']+\")\n",
    "lemma = WordNetLemmatizer()"
   ]
  },
  {
   "cell_type": "code",
   "execution_count": 73,
   "metadata": {},
   "outputs": [],
   "source": [
    "cleaned = util.clean_stem(corpus, tokenizer, lemma, sw)"
   ]
  },
  {
   "cell_type": "code",
   "execution_count": 74,
   "metadata": {},
   "outputs": [
    {
     "data": {
      "text/plain": [
       "'get door go go immediately everything good literally everything cute little neighborhoody spot excellent homemade food need'"
      ]
     },
     "execution_count": 74,
     "metadata": {},
     "output_type": "execute_result"
    }
   ],
   "source": [
    "cleaned[1]"
   ]
  },
  {
   "cell_type": "code",
   "execution_count": 75,
   "metadata": {},
   "outputs": [
    {
     "name": "stdout",
     "output_type": "stream",
     "text": [
      "Number of words before cleaning, and removing stopwords: 176\n",
      "Number of words after cleaning, and removing stopwords: 80\n"
     ]
    }
   ],
   "source": [
    "print(\"Number of words before cleaning, and removing stopwords: {}\".format(len(corpus[3].split())))\n",
    "print(\"Number of words after cleaning, and removing stopwords: {}\".format(len(cleaned[3].split())))"
   ]
  },
  {
   "cell_type": "code",
   "execution_count": 76,
   "metadata": {},
   "outputs": [],
   "source": [
    "X_train, X_test, y_train, y_test = train_test_split(cleaned, y, test_size=0.25, random_state=1)"
   ]
  },
  {
   "cell_type": "markdown",
   "metadata": {},
   "source": [
    "### LogisticRegression Linear model"
   ]
  },
  {
   "cell_type": "code",
   "execution_count": 77,
   "metadata": {},
   "outputs": [],
   "source": [
    "model = ReviewClassifier()\n",
    "model.fit(X_train, y_train)\n",
    "y_pred = model.predict(X_test)"
   ]
  },
  {
   "cell_type": "code",
   "execution_count": 78,
   "metadata": {},
   "outputs": [],
   "source": [
    "#Estimating metrics\n",
    "matrix, recall, precision, accuracy = model.metrics_eval(X_test, y_test)"
   ]
  },
  {
   "cell_type": "code",
   "execution_count": 79,
   "metadata": {},
   "outputs": [
    {
     "data": {
      "text/plain": [
       "array([[255274,   3901],\n",
       "       [  2566,  71607]])"
      ]
     },
     "execution_count": 79,
     "metadata": {},
     "output_type": "execute_result"
    }
   ],
   "source": [
    "#confusion matrix\n",
    "matrix"
   ]
  },
  {
   "cell_type": "code",
   "execution_count": 80,
   "metadata": {},
   "outputs": [
    {
     "name": "stdout",
     "output_type": "stream",
     "text": [
      "Recall: 99.0%\n",
      "Precision: 98.49%\n",
      "Accuracy: 98.06%\n"
     ]
    }
   ],
   "source": [
    "print(\"Recall: {}%\".format(round(recall*100, 2)))\n",
    "print(\"Precision: {}%\".format(round(precision*100, 2)))\n",
    "print(\"Accuracy: {}%\".format(round(accuracy*100, 2)))"
   ]
  },
  {
   "cell_type": "code",
   "execution_count": 81,
   "metadata": {},
   "outputs": [],
   "source": [
    "# terms = tfidf_vectorizer.get_feature_names()\n",
    "pos_terms, neg_terms = model.feature_importance(40)"
   ]
  },
  {
   "cell_type": "code",
   "execution_count": 82,
   "metadata": {},
   "outputs": [
    {
     "data": {
      "text/plain": [
       "[('delicious', 21.907895896996532),\n",
       " ('amazing', 19.941502729670848),\n",
       " ('great', 17.328696439146178),\n",
       " ('awesome', 16.323070996175893),\n",
       " ('best', 15.7029888851213),\n",
       " ('excellent', 15.685342412147268),\n",
       " ('perfect', 14.07499566575072),\n",
       " ('fantastic', 13.181518296180395),\n",
       " ('love', 12.21985402478072),\n",
       " ('favorite', 11.529367617442674),\n",
       " ('perfectly', 10.796652133746242),\n",
       " ('loved', 10.62227889480379),\n",
       " ('outstanding', 10.407354886970666),\n",
       " ('wonderful', 10.162567149029119),\n",
       " ('incredible', 9.379758643074732),\n",
       " ('yummy', 9.166963476859186),\n",
       " ('perfection', 9.153501601766243),\n",
       " ('friendly', 9.14665815631191),\n",
       " ('definitely', 8.53218483315898),\n",
       " ('phenomenal', 8.531889387056607),\n",
       " ('notch', 8.226132993607221),\n",
       " ('delish', 7.914570884630174),\n",
       " ('die', 7.7913050765965775),\n",
       " ('beat', 7.71627908118869),\n",
       " ('highly', 7.444209011228428),\n",
       " ('bomb', 7.246937875577759),\n",
       " ('enjoyed', 7.233016719622932),\n",
       " ('reasonably', 7.232563531243512),\n",
       " ('exceptional', 7.167702327390241),\n",
       " ('glad', 7.1659153737273735),\n",
       " ('fabulous', 7.147540022018181),\n",
       " ('yum', 7.118123289492619),\n",
       " ('heaven', 7.116887076986189),\n",
       " ('fresh', 7.107533007570921),\n",
       " ('reasonable', 7.087052089878869),\n",
       " ('tasty', 7.055887174255559),\n",
       " ('good', 7.040235761392081),\n",
       " ('superb', 6.956223003626172),\n",
       " ('gem', 6.579708436633534),\n",
       " ('thank', 6.5088702256622)]"
      ]
     },
     "execution_count": 82,
     "metadata": {},
     "output_type": "execute_result"
    }
   ],
   "source": [
    "pos_terms"
   ]
  },
  {
   "cell_type": "code",
   "execution_count": 83,
   "metadata": {},
   "outputs": [
    {
     "data": {
      "text/plain": [
       "[('worst', -19.02406240487657),\n",
       " ('horrible', -15.003827980036629),\n",
       " ('terrible', -13.784926316116898),\n",
       " ('awful', -12.683680287455104),\n",
       " ('bland', -12.496316738934732),\n",
       " ('mediocre', -12.261823921315298),\n",
       " ('rude', -11.75428630909572),\n",
       " ('disappointing', -11.568170741482577),\n",
       " ('poisoning', -10.78776997172581),\n",
       " ('disgusting', -10.781917072260025),\n",
       " ('poor', -10.073994884535757),\n",
       " ('tasteless', -10.012189176948466),\n",
       " ('worse', -9.516614865580204),\n",
       " ('overpriced', -9.340054819944667),\n",
       " ('disappointment', -9.122499971990512),\n",
       " ('dry', -9.098890823035136),\n",
       " ('waste', -9.02263249639779),\n",
       " ('gross', -8.833825970904611),\n",
       " ('flavorless', -8.80751360544101),\n",
       " ('inedible', -8.632586903002961),\n",
       " ('stale', -7.723959858859278),\n",
       " ('zero', -7.663857302018227),\n",
       " ('lacked', -7.481471784800768),\n",
       " ('charged', -7.408053096885287),\n",
       " ('slow', -7.289481904888676),\n",
       " ('yuck', -7.171541150140958),\n",
       " ('dirty', -7.0708592343832875),\n",
       " ('cold', -6.942404100655327),\n",
       " ('ok', -6.8616844556776835),\n",
       " ('barely', -6.824055328911407),\n",
       " ('suck', -6.796890762177704),\n",
       " ('sick', -6.794816066815432),\n",
       " ('nasty', -6.7869186090430675),\n",
       " ('unprofessional', -6.7564217600995),\n",
       " ('undercooked', -6.727972752314091),\n",
       " ('unfortunately', -6.56844079211906),\n",
       " ('unacceptable', -6.315277186245113),\n",
       " ('downhill', -6.287538307780479),\n",
       " ('overcooked', -6.265465067493316),\n",
       " ('ignored', -6.259868563090113)]"
      ]
     },
     "execution_count": 83,
     "metadata": {},
     "output_type": "execute_result"
    }
   ],
   "source": [
    "neg_terms"
   ]
  },
  {
   "cell_type": "markdown",
   "metadata": {},
   "source": [
    "# Auto Run Model\n",
    "Making the same model for different states to compare the results"
   ]
  },
  {
   "cell_type": "code",
   "execution_count": 27,
   "metadata": {},
   "outputs": [
    {
     "name": "stdout",
     "output_type": "stream",
     "text": [
      "Results for Wisconsin \n",
      " \n",
      " \n",
      "\n",
      "Number of reviews: 32850 \n",
      "\n",
      "Confusion matrix\n",
      "[[6422  205]\n",
      " [  53 1533]] \n",
      "\n",
      "Recall: 99.18%\n",
      "Precision: 96.91%\n",
      "Accuracy: 96.86%\n",
      "\n",
      " \n",
      " \n",
      "\n",
      "Words customers who gave 5-star reviews used to describe their experience\n",
      "-------------------------------------------------------------------------\n",
      "\n",
      "[('great', 9.694020156293043), ('delicious', 9.42099016068381), ('amazing', 8.03409664691146), ('best', 7.7847343570378955), ('excellent', 6.723273783724667), ('love', 6.357252897008816), ('favorite', 5.59564096502881), ('awesome', 5.579386084429867), ('perfect', 5.0887806854673405), ('fantastic', 5.0141227462639515), ('friendly', 4.8196928268763495), ('definitely', 4.535679425022136), ('madison', 4.267084800425995), ('loved', 4.135158298544346), ('good', 4.031479672488428)]\n",
      "\n",
      " Words customers who gave 1-star reviews used to describe their experience\n",
      "-------------------------------------------------------------------------\n",
      "\n",
      "[('worst', -7.708157812500361), ('terrible', -6.247592888839275), ('horrible', -5.809398260686177), ('awful', -5.146174791388567), ('bland', -5.1156110090199505), ('disappointing', -4.652141258200749), ('rude', -4.510165399216412), ('mediocre', -4.42354663482986), ('bad', -4.306000802629371), ('poor', -4.289706565571163), ('minute', -4.126752436004274), ('told', -3.9278107454189817), ('ok', -3.8394358417748533), ('disgusting', -3.816785195481804), ('asked', -3.781267334082203)]\n"
     ]
    }
   ],
   "source": [
    "main(df, tokenizer, lemma, sw, 0, 0.25, length=15, state=\"Wisconsin\")"
   ]
  },
  {
   "cell_type": "code",
   "execution_count": 28,
   "metadata": {},
   "outputs": [
    {
     "name": "stdout",
     "output_type": "stream",
     "text": [
      "Results for Arizona \n",
      " \n",
      " \n",
      "\n",
      "Number of reviews: 492259 \n",
      "\n",
      "Confusion matrix\n",
      "[[94065  1581]\n",
      " [ 1003 26416]] \n",
      "\n",
      "Recall: 98.94%\n",
      "Precision: 98.35%\n",
      "Accuracy: 97.9%\n",
      "\n",
      " \n",
      " \n",
      "\n",
      "Words customers who gave 5-star reviews used to describe their experience\n",
      "-------------------------------------------------------------------------\n",
      "\n",
      "[('delicious', 18.53455077386326), ('amazing', 17.099025040430913), ('great', 16.624531683104106), ('best', 14.048812983427174), ('awesome', 13.686762301188095), ('excellent', 13.206300385486013), ('love', 11.995089022302551), ('perfect', 11.495817451674906), ('fantastic', 11.017616691596762), ('favorite', 10.153777519458671), ('friendly', 9.02369423964492), ('loved', 8.851279282029395), ('wonderful', 8.73576916239734), ('perfectly', 8.519126978900214), ('definitely', 8.13683130216891)]\n",
      "\n",
      " Words customers who gave 1-star reviews used to describe their experience\n",
      "-------------------------------------------------------------------------\n",
      "\n",
      "[('worst', -15.100535064772084), ('horrible', -12.631185769333534), ('terrible', -11.565771397804019), ('bland', -10.980118009679297), ('awful', -10.931664676465767), ('rude', -10.68433742037401), ('mediocre', -9.830950013074094), ('disappointing', -9.682096728795063), ('poor', -8.64946964644638), ('poisoning', -8.131082870814781), ('overpriced', -8.062339862289157), ('dry', -7.918903589390859), ('disgusting', -7.847512897596594), ('disappointment', -7.7103055756367285), ('tasteless', -7.69571843082624)]\n"
     ]
    }
   ],
   "source": [
    "#Model for the state of Arizona\n",
    "df_AZ = df_loaded[[\"text\", \"stars_rev\"]][df_loaded[\"state\"]==\"AZ\"]\n",
    "df_AZ = df_AZ[df_AZ.stars_rev.isin([1,5])]\n",
    "main(df_AZ, tokenizer, lemma, sw, 0, 0.25, length=15, state=\"Arizona\")"
   ]
  },
  {
   "cell_type": "code",
   "execution_count": 29,
   "metadata": {},
   "outputs": [
    {
     "name": "stdout",
     "output_type": "stream",
     "text": [
      "Results for Ohio \n",
      " \n",
      " \n",
      "\n",
      "Number of reviews: 82870 \n",
      "\n",
      "Confusion matrix\n",
      "[[15410   385]\n",
      " [  185  4738]] \n",
      "\n",
      "Recall: 98.81%\n",
      "Precision: 97.56%\n",
      "Accuracy: 97.25%\n",
      "\n",
      " \n",
      " \n",
      "\n",
      "Words customers who gave 5-star reviews used to describe their experience\n",
      "-------------------------------------------------------------------------\n",
      "\n",
      "[('great', 12.346662761107147), ('delicious', 12.01142874712973), ('amazing', 11.196129690535182), ('best', 9.578571192451701), ('excellent', 8.881195775919833), ('awesome', 8.226874001884669), ('love', 7.785504949508523), ('perfect', 7.042176029879033), ('favorite', 7.0068150776944735), ('fantastic', 6.903268176624895), ('friendly', 6.701924384588933), ('wonderful', 5.670123586881779), ('definitely', 5.5709433928960905), ('fresh', 5.15160736759073), ('loved', 4.927601368634254), ('outstanding', 4.825314913849139), ('cleveland', 4.684024130560078), ('perfectly', 4.677369705978705), ('good', 4.634655727046368), ('happy', 4.131344925722604), ('attentive', 4.06139946411022), ('incredible', 3.9659275274506376), ('highly', 3.8365373675893832), ('nice', 3.6915309068790054), ('enjoyed', 3.6636324032420586)]\n",
      "\n",
      " Words customers who gave 1-star reviews used to describe their experience\n",
      "-------------------------------------------------------------------------\n",
      "\n",
      "[('worst', -9.96088681513222), ('terrible', -8.298871236100302), ('horrible', -8.070662858740924), ('bland', -6.7909245021333176), ('rude', -6.727301384391904), ('disappointing', -6.248460263501979), ('mediocre', -6.031112050742273), ('awful', -6.013782684479047), ('poor', -5.85169242606351), ('cold', -5.741183348003344), ('slow', -5.21004850010341), ('told', -5.138757546192366), ('disgusting', -5.112307282882913), ('dry', -5.02684436886365), ('overpriced', -5.013991355776046), ('money', -4.889198317553535), ('tasted', -4.636172624101454), ('minute', -4.449366714933507), ('bad', -4.355283147478126), ('tasteless', -4.341119816299773), ('asked', -4.2989563521108245), ('dirty', -4.2922158378542905), ('disappointment', -4.240355065333164), ('worse', -4.219474101328075), ('waste', -4.156205746113849)]\n"
     ]
    }
   ],
   "source": [
    "#Model for the state of Ohio\n",
    "df_OH = df_loaded[[\"text\", \"stars_rev\"]][df_loaded[\"state\"]==\"OH\"]\n",
    "df_OH = df_OH[df_OH.stars_rev.isin([1,5])]\n",
    "main(df_OH, tokenizer, lemma, sw, 0, 0.25, length=25, state=\"Ohio\")"
   ]
  },
  {
   "cell_type": "code",
   "execution_count": null,
   "metadata": {},
   "outputs": [],
   "source": []
  },
  {
   "cell_type": "markdown",
   "metadata": {},
   "source": [
    "### Testing"
   ]
  },
  {
   "cell_type": "code",
   "execution_count": 27,
   "metadata": {},
   "outputs": [
    {
     "data": {
      "text/plain": [
       "32472"
      ]
     },
     "execution_count": 27,
     "metadata": {},
     "output_type": "execute_result"
    }
   ],
   "source": [
    "unique_id = pd.unique(df_loaded[\"business_id\"])\n",
    "len(unique_id)"
   ]
  },
  {
   "cell_type": "code",
   "execution_count": 28,
   "metadata": {},
   "outputs": [],
   "source": [
    "#Selecting restaurant by restaurant ID\n",
    "df_rest = df_loaded[[\"text\", \"stars_rev\"]][df_loaded[\"business_id\"]==unique_id[100]]\n",
    "df_rest = df_rest[df_rest.stars_rev.isin([2,5])]\n",
    "y_rest = df_rest[\"stars_rev\"].values\n",
    "rest_corpus = util.clean_stem(df_rest[\"text\"].values, tokenizer, lemma, sw)"
   ]
  },
  {
   "cell_type": "code",
   "execution_count": 29,
   "metadata": {},
   "outputs": [
    {
     "data": {
      "text/plain": [
       "353"
      ]
     },
     "execution_count": 29,
     "metadata": {},
     "output_type": "execute_result"
    }
   ],
   "source": [
    "len(rest_corpus)"
   ]
  },
  {
   "cell_type": "code",
   "execution_count": 30,
   "metadata": {},
   "outputs": [
    {
     "data": {
      "text/plain": [
       "'really enjoyed food drink buck rider atmosphere great staff friendly knowledgeable cocktail laura gm checked u made sure everything fine honest spot probably best cocktail phoenix area highly recommend spot great food drink plus whole lot friendly beautiful people'"
      ]
     },
     "execution_count": 30,
     "metadata": {},
     "output_type": "execute_result"
    }
   ],
   "source": [
    "rest_corpus[3]"
   ]
  },
  {
   "cell_type": "code",
   "execution_count": 26,
   "metadata": {},
   "outputs": [],
   "source": [
    "def vary_ratings(model, df, first_star, second_star, indx=1, bus_name=None):\n",
    "    #Selecting restaurant by restaurant ID\n",
    "    unique_id = pd.unique(df[\"business_id\"])\n",
    "    if bus_name:\n",
    "        df_rest = df[[\"bus_name\",\"text\", \"stars_rev\"]][df[\"bus_name\"]==bus_name]\n",
    "    else:\n",
    "        df_rest = df[[\"bus_name\",\"text\", \"stars_rev\"]][df[\"business_id\"]==unique_id[indx]]\n",
    "    \n",
    "    print(\"Restaurant Name: {} \\n\".format(df_rest[\"bus_name\"].iloc[0]))\n",
    "    \n",
    "    df_rest = df_rest[df_rest.stars_rev.isin([first_star, second_star])]\n",
    "    df_rest = df_rest[[\"text\", \"stars_rev\"]].astype(str)\n",
    "    df_rest = util.to_binary(df_rest, str(first_star), str(second_star))\n",
    "    y_rest = df_rest[\"stars_rev\"].values\n",
    "    rest_corpus = util.clean_stem(df_rest[\"text\"].values)\n",
    "    print(\"Size of corpus: {}\".format(len(rest_corpus)), \"\\n\")\n",
    "    pos_term, neg_term = model.feature_importance(15)\n",
    "    matrix, recall, precision, accuracy = model.metrics_eval(rest_corpus, y_rest)\n",
    "    print(\"Recall: {}%\".format(round(recall, 2)))\n",
    "    print(\"Precision: {}%\".format(round(precision, 2)))\n",
    "    print(\"Accuracy: {}%\".format(round(accuracy*100, 2)))\n",
    "    df_neg, lst_neg = util.service_section(rest_corpus, neg_term)\n",
    "    df_pos, lst_pos = util.service_section(rest_corpus, pos_term)\n",
    "    print(\"\\n\",lst_neg[:15], \"\\n\")\n",
    "    print(\"\\n\", lst_pos[:15], \"\\n\")\n",
    "    df_neg.plot(\"Section\", \"Level of experience\", kind=\"barh\", figsize=(14,7))\n",
    "    df_pos.plot(\"Section\", \"Level of experience\", kind=\"barh\", figsize=(14,7))\n",
    "    \n",
    "    #Estimating metrics\n",
    "#     print(\"Words customers who gave 5-star reviews used to describe their experience\")\n",
    "#     print(\"-------------------------------------------------------------------------\\n\")\n",
    "#     print(pos_term)\n",
    "#     print(\"\\n Words customers who gave 1-star reviews used to describe their experience\")\n",
    "#     print(\"-------------------------------------------------------------------------\\n\")\n",
    "#     print(neg_term)"
   ]
  },
  {
   "cell_type": "code",
   "execution_count": 18,
   "metadata": {},
   "outputs": [],
   "source": [
    "df = df_loaded[[\"text\", \"stars_rev\"]][df_loaded[\"state\"]==\"NY\"]"
   ]
  },
  {
   "cell_type": "code",
   "execution_count": 19,
   "metadata": {},
   "outputs": [
    {
     "data": {
      "text/html": [
       "<div>\n",
       "<style scoped>\n",
       "    .dataframe tbody tr th:only-of-type {\n",
       "        vertical-align: middle;\n",
       "    }\n",
       "\n",
       "    .dataframe tbody tr th {\n",
       "        vertical-align: top;\n",
       "    }\n",
       "\n",
       "    .dataframe thead th {\n",
       "        text-align: right;\n",
       "    }\n",
       "</style>\n",
       "<table border=\"1\" class=\"dataframe\">\n",
       "  <thead>\n",
       "    <tr style=\"text-align: right;\">\n",
       "      <th></th>\n",
       "      <th>text</th>\n",
       "      <th>stars_rev</th>\n",
       "    </tr>\n",
       "  </thead>\n",
       "  <tbody>\n",
       "    <tr>\n",
       "      <th>2025383</th>\n",
       "      <td>We had the Mexican pizza for lunch today and i...</td>\n",
       "      <td>4</td>\n",
       "    </tr>\n",
       "    <tr>\n",
       "      <th>2025384</th>\n",
       "      <td>While on vacation, we went here twice.  The fi...</td>\n",
       "      <td>3</td>\n",
       "    </tr>\n",
       "    <tr>\n",
       "      <th>2025385</th>\n",
       "      <td>Basic menu fare. The waitstaff was nice and se...</td>\n",
       "      <td>4</td>\n",
       "    </tr>\n",
       "    <tr>\n",
       "      <th>2025386</th>\n",
       "      <td>Hoping to b good\\nIt was packed there\\nGood co...</td>\n",
       "      <td>3</td>\n",
       "    </tr>\n",
       "    <tr>\n",
       "      <th>2025387</th>\n",
       "      <td>Basic family friendly menu.  Italian items wer...</td>\n",
       "      <td>3</td>\n",
       "    </tr>\n",
       "  </tbody>\n",
       "</table>\n",
       "</div>"
      ],
      "text/plain": [
       "                                                      text  stars_rev\n",
       "2025383  We had the Mexican pizza for lunch today and i...          4\n",
       "2025384  While on vacation, we went here twice.  The fi...          3\n",
       "2025385  Basic menu fare. The waitstaff was nice and se...          4\n",
       "2025386  Hoping to b good\\nIt was packed there\\nGood co...          3\n",
       "2025387  Basic family friendly menu.  Italian items wer...          3"
      ]
     },
     "execution_count": 19,
     "metadata": {},
     "output_type": "execute_result"
    }
   ],
   "source": [
    "df.head()"
   ]
  },
  {
   "cell_type": "code",
   "execution_count": 14,
   "metadata": {},
   "outputs": [
    {
     "name": "stdout",
     "output_type": "stream",
     "text": [
      "Results for NV \n",
      " \n",
      " \n",
      "\n",
      "Number of reviews: 687882 \n",
      "\n",
      "Confusion matrix\n",
      "[[88741 26179]\n",
      " [16969 40082]] \n",
      "\n",
      "Recall: 83.95%\n",
      "Precision: 77.22%\n",
      "Accuracy: 74.91%\n"
     ]
    }
   ],
   "source": [
    "#4-star and 5-star ratings\n",
    "models = main(df_loaded, 0, 0.25, 4, 5, length=89, state=\"NV\")"
   ]
  },
  {
   "cell_type": "code",
   "execution_count": 22,
   "metadata": {},
   "outputs": [],
   "source": [
    "# with open(\"models.pickle\", \"wb\") as f:\n",
    "#     pickle.dump(models, f)"
   ]
  },
  {
   "cell_type": "code",
   "execution_count": 5,
   "metadata": {},
   "outputs": [],
   "source": [
    "with open(\"models.pickle\", \"rb\") as f:\n",
    "    models = pickle.load(f)"
   ]
  },
  {
   "cell_type": "code",
   "execution_count": 18,
   "metadata": {
    "scrolled": false
   },
   "outputs": [
    {
     "name": "stdout",
     "output_type": "stream",
     "text": [
      "Restaurant Name: LBS Burger \n",
      "\n",
      "Size of corpus: 137 \n",
      "\n",
      "Recall: 64.0%\n",
      "Precision: 60.38%\n",
      "Accuracy: 71.53%\n",
      "\n",
      " [('really', array(['overall', 'slow'], dtype='<U13')), ('burger', array(['solid', 'decent'], dtype='<U13')), ('great', array(['overall', 'overall'], dtype='<U13')), ('place', array(['overall', 'solid'], dtype='<U13')), ('especially', array(['decent'], dtype='<U13')), ('give', array(['reason'], dtype='<U13')), ('service', array(['slow'], dtype='<U13')), ('draft', array(['decent'], dtype='<U13')), ('point', array(['inconsistent'], dtype='<U13')), ('pretty', array(['overall'], dtype='<U13')), ('hardly', array(['decent'], dtype='<U13')), ('enough', array(['ok'], dtype='<U13')), ('wow', array(['decent'], dtype='<U13')), ('competition', array(['decent'], dtype='<U13')), ('food', array(['overall'], dtype='<U13'))] \n",
      "\n",
      "\n",
      " [('burger', array(['favorite', 'perfect', 'perfect', 'perfect', 'best', 'perfect',\n",
      "       'perfect', 'perfect', 'best', 'best', 'perfect', 'best', 'perfect',\n",
      "       'perfect', 'perfect', 'perfect', 'perfect', 'perfect', 'perfect',\n",
      "       'best', 'best', 'perfect', 'perfect', 'best', 'best', 'best',\n",
      "       'best', 'perfect', 'perfect', 'amazing', 'favorite', 'perfect',\n",
      "       'best', 'best', 'perfect', 'best', 'perfect', 'awesome', 'amazing',\n",
      "       'perfect', 'best', 'best', 'best', 'best', 'incredible', 'best',\n",
      "       'amazing', 'perfect', 'best'], dtype='<U12')), ('recommend', array(['highly', 'highly', 'highly', 'highly', 'perfect', 'highly'],\n",
      "      dtype='<U12')), (\"i've\", array(['best', 'perfect', 'best', 'best', 'best'], dtype='<U12')), ('food', array(['amazing', 'awesome', 'best'], dtype='<U12')), ('gruyere', array(['perfection', 'wow', 'perfection'], dtype='<U12')), ('service', array(['awesome', 'amazing'], dtype='<U12')), ('oreo', array(['amazing', 'best'], dtype='<U12')), ('deal', array(['best', 'amazing'], dtype='<U12')), ('also', array(['heaven', 'perfection'], dtype='<U12')), ('beer', array(['favorite', 'awesome'], dtype='<U12')), ('place', array(['omg', 'favorite'], dtype='<U12')), ('hope', array(['awesome'], dtype='<U12')), ('edible', array(['awesome'], dtype='<U12')), ('dish', array(['best'], dtype='<U12')), ('table', array(['awesome'], dtype='<U12'))] \n",
      "\n"
     ]
    },
    {
     "data": {
      "image/png": "[encoded data removed]",
      "text/plain": [
       "<Figure size 1008x504 with 1 Axes>"
      ]
     },
     "metadata": {},
     "output_type": "display_data"
    },
    {
     "data": {
      "image/png": "[encoded data removed]",
      "text/plain": [
       "<Figure size 1008x504 with 1 Axes>"
      ]
     },
     "metadata": {},
     "output_type": "display_data"
    }
   ],
   "source": [
    "vary_ratings(models, df_loaded, 4, 5, indx=995, bus_name=None)"
   ]
  },
  {
   "cell_type": "code",
   "execution_count": 16,
   "metadata": {},
   "outputs": [
    {
     "name": "stdout",
     "output_type": "stream",
     "text": [
      "Results for NV \n",
      " \n",
      " \n",
      "\n",
      "Number of reviews: 561239 \n",
      "\n",
      "Confusion matrix\n",
      "[[101555   7696]\n",
      " [  4324  26735]] \n",
      "\n",
      "Recall: 95.92%\n",
      "Precision: 92.96%\n",
      "Accuracy: 91.43%\n"
     ]
    }
   ],
   "source": [
    "#3-star and 5-star ratings\n",
    "models3 = main(df_loaded, 0, 0.25, 3, 5, length=89, state=\"NV\")"
   ]
  },
  {
   "cell_type": "code",
   "execution_count": 23,
   "metadata": {},
   "outputs": [],
   "source": [
    "# with open(\"models3.pickle\", \"wb\") as f:\n",
    "#     pickle.dump(models3, f)"
   ]
  },
  {
   "cell_type": "code",
   "execution_count": 12,
   "metadata": {},
   "outputs": [],
   "source": [
    "with open(\"models3.pickle\", \"rb\") as f:\n",
    "    models3 = pickle.load(f)"
   ]
  },
  {
   "cell_type": "code",
   "execution_count": 13,
   "metadata": {
    "scrolled": false
   },
   "outputs": [
    {
     "name": "stdout",
     "output_type": "stream",
     "text": [
      "Restaurant Name: LBS Burger \n",
      "\n",
      "Size of corpus: 93 \n",
      "\n",
      "Recall: 96.0%\n",
      "Precision: 85.71%\n",
      "Accuracy: 89.25%\n",
      "\n",
      " [('burger', array(['ok', 'decent', 'average', 'okay', 'decent', 'average', 'decent'],\n",
      "      dtype='<U13')), ('sauce', array(['average', 'mediocre'], dtype='<U13')), ('flavor', array(['lacking', 'decent'], dtype='<U13')), ('service', array(['unfortunately', 'decent'], dtype='<U13')), ('turkey', array(['decent', 'worst'], dtype='<U13')), ('onion', array(['ok', 'meh'], dtype='<U13')), ('typical', array(['okay'], dtype='<U13')), ('price', array(['decent'], dtype='<U13')), ('quality', array(['average'], dtype='<U13')), ('hardly', array(['decent'], dtype='<U13')), ('disappoint', array(['overpriced'], dtype='<U13')), ('course', array(['ok'], dtype='<U13')), ('bit', array(['ok'], dtype='<U13')), ('liked', array(['disappointing'], dtype='<U13')), ('would', array(['average'], dtype='<U13'))] \n",
      "\n",
      "\n",
      " [('burger', array(['favorite', 'excellent', 'perfect', 'perfect', 'best', 'great',\n",
      "       'perfect', 'best', 'great', 'best', 'perfect', 'excellent', 'best',\n",
      "       'perfect', 'perfect', 'best', 'great', 'great', 'perfect',\n",
      "       'delicious', 'perfect', 'great', 'best', 'perfect', 'perfect',\n",
      "       'perfect', 'love', 'excellent', 'amazing', 'perfect', 'best',\n",
      "       'excellent', 'favorite', 'awesome', 'great', 'favorite', 'perfect',\n",
      "       'best', 'best', 'perfect', 'best', 'perfect', 'best', 'great',\n",
      "       'favorite', 'awesome', 'great', 'perfect', 'best', 'best', 'best',\n",
      "       'best', 'incredible', 'best', 'amazing', 'great', 'great', 'best',\n",
      "       'fantastic'], dtype='<U10')), ('place', array(['love', 'love', 'love', 'love', 'love', 'love', 'love', 'favorite'],\n",
      "      dtype='<U10')), ('recommend', array(['highly', 'highly', 'highly', 'perfect', 'highly'], dtype='<U10')), ('service', array(['awesome', 'great', 'amazing', 'great', 'great'], dtype='<U10')), ('beer', array(['excellent', 'favorite', 'great', 'favorite', 'awesome'],\n",
      "      dtype='<U10')), ('food', array(['amazing', 'great', 'awesome', 'great'], dtype='<U10')), ('staff', array(['excellent', 'great', 'great'], dtype='<U10')), (\"i've\", array(['best', 'best', 'best'], dtype='<U10')), ('flavor', array(['great', 'great', 'delicious'], dtype='<U10')), ('addition', array(['great', 'great'], dtype='<U10')), ('oreo', array(['amazing', 'best'], dtype='<U10')), ('onion', array(['delicious', 'great'], dtype='<U10')), ('cooked', array(['perfectly', 'perfectly'], dtype='<U10')), ('well', array(['excellent', 'amazing'], dtype='<U10')), ('ghost', array(['amazing', 'love'], dtype='<U10'))] \n",
      "\n"
     ]
    },
    {
     "data": {
      "image/png": "[encoded data removed]",
      "text/plain": [
       "<Figure size 1008x504 with 1 Axes>"
      ]
     },
     "metadata": {},
     "output_type": "display_data"
    },
    {
     "data": {
      "image/png": "[encoded data removed]",
      "text/plain": [
       "<Figure size 1008x504 with 1 Axes>"
      ]
     },
     "metadata": {},
     "output_type": "display_data"
    }
   ],
   "source": [
    "vary_ratings(models3, df_loaded, 3, 5, indx=995, bus_name=None)"
   ]
  },
  {
   "cell_type": "code",
   "execution_count": 62,
   "metadata": {},
   "outputs": [],
   "source": [
    "#2-star and 5-star ratings\n",
    "models2 = main(df_loaded, 0, 0.25, 2, 5, length=95, state=\"NV\")"
   ]
  },
  {
   "cell_type": "code",
   "execution_count": 25,
   "metadata": {},
   "outputs": [],
   "source": [
    "# with open(\"models2.pickle\", \"wb\") as f:\n",
    "#     pickle.dump(models2, f)"
   ]
  },
  {
   "cell_type": "code",
   "execution_count": 15,
   "metadata": {},
   "outputs": [],
   "source": [
    "with open(\"models2.pickle\", \"rb\") as f:\n",
    "    models2 = pickle.load(f)"
   ]
  },
  {
   "cell_type": "code",
   "execution_count": 16,
   "metadata": {
    "scrolled": false
   },
   "outputs": [
    {
     "name": "stdout",
     "output_type": "stream",
     "text": [
      "Restaurant Name: LBS Burger \n",
      "\n",
      "Size of corpus: 75 \n",
      "\n",
      "Recall: 98.0%\n",
      "Precision: 90.74%\n",
      "Accuracy: 92.0%\n",
      "\n",
      " [('aged', array(['dry', 'dry', 'dry'], dtype='<U13')), ('burger', array(['worst', 'overpriced'], dtype='<U13')), ('better', array(['okay'], dtype='<U13')), ('get', array(['dry'], dtype='<U13')), ('maybe', array(['okay'], dtype='<U13')), ('total', array(['terrible'], dtype='<U13')), ('bad', array(['overpriced'], dtype='<U13')), ('appetizer', array(['unfortunately'], dtype='<U13')), ('nothing', array(['okay'], dtype='<U13')), ('like', array(['ok'], dtype='<U13')), ('juicy', array(['dry'], dtype='<U13')), ('except', array(['dry'], dtype='<U13')), ('three', array(['unfortunately'], dtype='<U13')), ('poor', array(['average'], dtype='<U13')), ('never', array(['bland'], dtype='<U13'))] \n",
      "\n",
      "\n",
      " [('burger', array(['favorite', 'excellent', 'amazing', 'perfect', 'best', 'great',\n",
      "       'perfect', 'best', 'great', 'best', 'excellent', 'best', 'perfect',\n",
      "       'perfect', 'perfect', 'great', 'best', 'perfect', 'perfect',\n",
      "       'perfect', 'perfect', 'great', 'loved', 'love', 'excellent',\n",
      "       'amazing', 'excellent', 'favorite', 'great', 'best', 'perfect',\n",
      "       'best', 'perfect', 'perfect', 'perfect', 'great', 'awesome',\n",
      "       'perfect', 'perfect', 'best', 'best', 'best', 'best', 'incredible',\n",
      "       'best', 'amazing', 'great', 'best', 'fantastic', 'perfect'],\n",
      "      dtype='<U10')), ('place', array(['loved', 'love', 'love', 'love', 'love', 'loved', 'love', 'love',\n",
      "       'love', 'favorite', 'great'], dtype='<U10')), ('food', array(['amazing', 'great', 'awesome', 'love', 'great', 'great'],\n",
      "      dtype='<U10')), ('service', array(['awesome', 'great', 'amazing', 'great'], dtype='<U10')), ('beer', array(['excellent', 'great', 'favorite', 'awesome'], dtype='<U10')), ('staff', array(['excellent', 'great', 'great'], dtype='<U10')), ('recommend', array(['definitely', 'definitely', 'perfect'], dtype='<U10')), (\"i've\", array(['best', 'best', 'best'], dtype='<U10')), ('decor', array(['delicious', 'great', 'love'], dtype='<U10')), ('addition', array(['great', 'great'], dtype='<U10')), ('oreo', array(['amazing', 'best'], dtype='<U10')), ('onion', array(['delicious', 'perfect'], dtype='<U10')), ('cooked', array(['perfectly', 'perfectly'], dtype='<U10')), ('well', array(['excellent', 'amazing'], dtype='<U10')), ('thing', array(['amazing', 'best'], dtype='<U10'))] \n",
      "\n"
     ]
    },
    {
     "data": {
      "image/png": "[encoded data removed]",
      "text/plain": [
       "<Figure size 1008x504 with 1 Axes>"
      ]
     },
     "metadata": {},
     "output_type": "display_data"
    },
    {
     "data": {
      "image/png": "[encoded data removed]",
      "text/plain": [
       "<Figure size 1008x504 with 1 Axes>"
      ]
     },
     "metadata": {},
     "output_type": "display_data"
    }
   ],
   "source": [
    "vary_ratings(models2, df_loaded, 2, 5, indx=995, bus_name=None)"
   ]
  },
  {
   "cell_type": "code",
   "execution_count": 54,
   "metadata": {},
   "outputs": [],
   "source": [
    "#1-star and 5-star ratings\n",
    "models1 = main(df_loaded, 0, 0.25, 1, 5, length=29, state=\"NV\")"
   ]
  },
  {
   "cell_type": "code",
   "execution_count": 26,
   "metadata": {},
   "outputs": [],
   "source": [
    "# with open(\"models1.pickle\", \"wb\") as f:\n",
    "#     pickle.dump(models1, f)"
   ]
  },
  {
   "cell_type": "code",
   "execution_count": 9,
   "metadata": {},
   "outputs": [],
   "source": [
    "with open(\"models1.pickle\", \"rb\") as f:\n",
    "    models1 = pickle.load(f)"
   ]
  },
  {
   "cell_type": "code",
   "execution_count": 17,
   "metadata": {
    "scrolled": false
   },
   "outputs": [
    {
     "name": "stdout",
     "output_type": "stream",
     "text": [
      "Restaurant Name: LBS Burger \n",
      "\n",
      "Size of corpus: 66 \n",
      "\n",
      "Recall: 98.0%\n",
      "Precision: 98.0%\n",
      "Accuracy: 96.97%\n",
      "\n",
      " [('service', array(['worst', 'terrible', 'poor', 'worst', 'worst'], dtype='<U14')), ('experience', array(['awful'], dtype='<U14')), ('wished', array(['disappointment'], dtype='<U14')), ('veggie', array(['disgusting'], dtype='<U14')), ('never', array(['terrible'], dtype='<U14')), ('quality', array(['poor'], dtype='<U14')), ('hamburger', array(['worst'], dtype='<U14')), ('part', array(['worst'], dtype='<U14'))] \n",
      "\n",
      "\n",
      " [('burger', array(['favorite', 'excellent', 'perfect', 'best', 'great', 'perfect',\n",
      "       'best', 'great', 'best', 'excellent', 'best', 'perfect', 'perfect',\n",
      "       'perfect', 'great', 'best', 'great', 'loved', 'love', 'excellent',\n",
      "       'amazing', 'excellent', 'favorite', 'great', 'best', 'perfect',\n",
      "       'best', 'perfect', 'awesome', 'great', 'perfect', 'best', 'best',\n",
      "       'best', 'best', 'best', 'amazing', 'great', 'best', 'fantastic'],\n",
      "      dtype='<U10')), ('place', array(['loved', 'love', 'love', 'love', 'love', 'loved', 'love', 'love',\n",
      "       'great', 'love', 'favorite', 'love'], dtype='<U10')), ('service', array(['awesome', 'friendly', 'great', 'amazing', 'great'], dtype='<U10')), ('beer', array(['excellent', 'great', 'favorite', 'awesome'], dtype='<U10')), ('staff', array(['excellent', 'great', 'great'], dtype='<U10')), ('recommend', array(['definitely', 'definitely', 'perfect'], dtype='<U10')), ('food', array(['amazing', 'great', 'awesome'], dtype='<U10')), (\"i've\", array(['best', 'best', 'best'], dtype='<U10')), ('addition', array(['great', 'great'], dtype='<U10')), ('oreo', array(['amazing', 'best'], dtype='<U10')), ('cooked', array(['perfectly', 'perfectly'], dtype='<U10')), ('well', array(['excellent', 'amazing'], dtype='<U10')), ('perfect', array(['love', 'great'], dtype='<U10')), ('decor', array(['delicious', 'great'], dtype='<U10')), ('choice', array(['excellent', 'great'], dtype='<U10'))] \n",
      "\n"
     ]
    },
    {
     "data": {
      "image/png": "[encoded data removed]",
      "text/plain": [
       "<Figure size 1008x504 with 1 Axes>"
      ]
     },
     "metadata": {},
     "output_type": "display_data"
    },
    {
     "data": {
      "image/png": "[encoded data removed]",
      "text/plain": [
       "<Figure size 1008x504 with 1 Axes>"
      ]
     },
     "metadata": {},
     "output_type": "display_data"
    }
   ],
   "source": [
    "vary_ratings(models1, df_loaded, 1, 5, indx=995, bus_name=None)"
   ]
  },
  {
   "cell_type": "code",
   "execution_count": null,
   "metadata": {},
   "outputs": [],
   "source": []
  },
  {
   "cell_type": "code",
   "execution_count": null,
   "metadata": {},
   "outputs": [],
   "source": []
  },
  {
   "cell_type": "code",
   "execution_count": null,
   "metadata": {},
   "outputs": [],
   "source": []
  },
  {
   "cell_type": "code",
   "execution_count": null,
   "metadata": {},
   "outputs": [],
   "source": []
  },
  {
   "cell_type": "code",
   "execution_count": null,
   "metadata": {},
   "outputs": [],
   "source": []
  },
  {
   "cell_type": "code",
   "execution_count": null,
   "metadata": {},
   "outputs": [],
   "source": []
  },
  {
   "cell_type": "code",
   "execution_count": 20,
   "metadata": {},
   "outputs": [
    {
     "name": "stdout",
     "output_type": "stream",
     "text": [
      "Results for NV \n",
      " \n",
      " \n",
      "\n",
      "Number of reviews: 215647 \n",
      "\n",
      "Confusion matrix\n",
      "[[16675  6084]\n",
      " [ 7211 23942]] \n",
      "\n",
      "Recall: 69.81%\n",
      "Precision: 73.27%\n",
      "Accuracy: 75.34%\n"
     ]
    }
   ],
   "source": [
    "#4-star and 5-star ratings\n",
    "models22 = main(df_loaded, 0, 0.25, 1, 2, length=89, state=\"NV\")"
   ]
  },
  {
   "cell_type": "code",
   "execution_count": 22,
   "metadata": {},
   "outputs": [],
   "source": [
    "# with open(\"../efs/models/models22.pickle\", \"wb\") as f:\n",
    "#     pickle.dump(models22, f)"
   ]
  },
  {
   "cell_type": "code",
   "execution_count": 24,
   "metadata": {},
   "outputs": [],
   "source": [
    "with open(\"../efs/models/models22.pickle\", \"rb\") as f:\n",
    "    models22 = pickle.load(f)"
   ]
  },
  {
   "cell_type": "code",
   "execution_count": 25,
   "metadata": {
    "scrolled": false
   },
   "outputs": [
    {
     "name": "stdout",
     "output_type": "stream",
     "text": [
      "Restaurant Name: LBS Burger \n",
      "\n",
      "Size of corpus: 41 \n",
      "\n",
      "Recall: 84.0%\n",
      "Precision: 91.3%\n",
      "Accuracy: 85.37%\n",
      "\n",
      " [('service', array(['worst', 'terrible', 'worst', 'worst'], dtype='<U10')), ('experience', array(['awful'], dtype='<U10')), ('burger', array(['worst'], dtype='<U10')), ('total', array(['terrible'], dtype='<U10')), ('veggie', array(['disgusting'], dtype='<U10')), ('never', array(['terrible'], dtype='<U10')), ('anytime', array(['negative'], dtype='<U10')), ('hamburger', array(['worst'], dtype='<U10')), ('part', array(['worst'], dtype='<U10'))] \n",
      "\n",
      "\n",
      " [('burger', array(['great', 'good', 'good', 'great', 'good', 'great', 'great',\n",
      "       'decent', 'good', 'good', 'good'], dtype='<U9')), ('service', array(['good', 'good', 'decent', 'good'], dtype='<U9')), ('nothing', array(['okay', 'alright', 'ok', 'okay'], dtype='<U9')), ('tell', array(['nice', 'delicious', 'good'], dtype='<U9')), ('good', array(['good', 'nice', 'good'], dtype='<U9')), ('enough', array(['nice', 'good', 'decent'], dtype='<U9')), ('place', array(['nice', 'great', 'great'], dtype='<U9')), ('food', array(['decent', 'great', 'great'], dtype='<U9')), ('thick', array(['nice', 'pretty'], dtype='<U9')), ('experience', array(['good', 'good'], dtype='<U9')), ('vegi', array(['good', 'great'], dtype='<U9')), (\"can't\", array(['good', 'ok'], dtype='<U9')), ('really', array(['great', 'good'], dtype='<U9')), ('server', array(['good'], dtype='<U9')), ('friendly', array(['nice'], dtype='<U9'))] \n",
      "\n"
     ]
    },
    {
     "data": {
      "image/png": "[encoded data removed]",
      "text/plain": [
       "<Figure size 1008x504 with 1 Axes>"
      ]
     },
     "metadata": {},
     "output_type": "display_data"
    },
    {
     "data": {
      "image/png": "[encoded data removed]",
      "text/plain": [
       "<Figure size 1008x504 with 1 Axes>"
      ]
     },
     "metadata": {},
     "output_type": "display_data"
    }
   ],
   "source": [
    "vary_ratings(models22, df_loaded, 1, 2, indx=995, bus_name=None)"
   ]
  },
  {
   "cell_type": "code",
   "execution_count": 28,
   "metadata": {},
   "outputs": [
    {
     "name": "stdout",
     "output_type": "stream",
     "text": [
      "Results for NV \n",
      " \n",
      " \n",
      "\n",
      "Number of reviews: 258358 \n",
      "\n",
      "Confusion matrix\n",
      "[[31070  3653]\n",
      " [ 3560 26307]] \n",
      "\n",
      "Recall: 89.72%\n",
      "Precision: 89.48%\n",
      "Accuracy: 88.83%\n"
     ]
    }
   ],
   "source": [
    "#3-star and 5-star ratings\n",
    "models13 = main(df_loaded, 0, 0.25, 1, 3, length=89, state=\"NV\")"
   ]
  },
  {
   "cell_type": "code",
   "execution_count": 29,
   "metadata": {},
   "outputs": [],
   "source": [
    "# with open(\"../efs/models/models13.pickle\", \"wb\") as f:\n",
    "#     pickle.dump(models13, f)"
   ]
  },
  {
   "cell_type": "code",
   "execution_count": 30,
   "metadata": {},
   "outputs": [],
   "source": [
    "with open(\"../efs/models/models13.pickle\", \"rb\") as f:\n",
    "    models13 = pickle.load(f)"
   ]
  },
  {
   "cell_type": "code",
   "execution_count": 31,
   "metadata": {
    "scrolled": false
   },
   "outputs": [
    {
     "name": "stdout",
     "output_type": "stream",
     "text": [
      "Restaurant Name: LBS Burger \n",
      "\n",
      "Size of corpus: 59 \n",
      "\n",
      "Recall: 0.98%\n",
      "Precision: 0.95%\n",
      "Accuracy: 94.92%\n",
      "\n",
      " [('service', array(['worst', 'terrible', 'poor', 'worst', 'worst'], dtype='<U14')), ('experience', array(['awful'], dtype='<U14')), ('great', array(['awful'], dtype='<U14')), ('side', array(['tasteless'], dtype='<U14')), ('turkey', array(['worst'], dtype='<U14')), ('found', array(['awful'], dtype='<U14')), ('veggie', array(['disgusting'], dtype='<U14')), ('never', array(['terrible'], dtype='<U14')), ('quality', array(['poor'], dtype='<U14')), ('ordered', array(['horrible'], dtype='<U14')), (\"i'm\", array(['worse'], dtype='<U14')), ('line', array(['waste'], dtype='<U14')), ('hamburger', array(['worst'], dtype='<U14')), ('beef', array(['gross'], dtype='<U14')), ('part', array(['worst'], dtype='<U14'))] \n",
      "\n",
      "\n",
      " [('burger', array(['perfect', 'perfect', 'good', 'good', 'great', 'great', 'good',\n",
      "       'delicious', 'decent', 'perfect', 'perfect', 'perfect', 'great',\n",
      "       'perfect', 'yummy', 'perfect', 'good', 'good', 'awesome',\n",
      "       'perfect', 'decent', 'good', 'great', 'great', 'great', 'decent',\n",
      "       'great'], dtype='<U9')), ('service', array(['good', 'good', 'good', 'good', 'great', 'decent', 'good'],\n",
      "      dtype='<U9')), ('good', array(['pretty', 'pretty', 'pretty', 'pretty', 'pretty', 'tasty'],\n",
      "      dtype='<U9')), ('flavor', array(['great', 'great', 'little', 'decent', 'delicious', 'good'],\n",
      "      dtype='<U9')), ('meal', array(['enjoyed', 'good', 'good'], dtype='<U9')), ('overall', array(['good', 'excellent', 'good'], dtype='<U9')), ('greasy', array(['bit', 'little', 'bit'], dtype='<U9')), ('sweet', array(['good', 'loved', 'amazing'], dtype='<U9')), ('price', array(['decent', 'tasty'], dtype='<U9')), ('server', array(['good', 'awesome'], dtype='<U9')), ('next', array(['tasty', 'good'], dtype='<U9')), ('feel', array(['great', 'great'], dtype='<U9')), ('turkey', array(['decent', 'good'], dtype='<U9')), ('nice', array(['good', 'great'], dtype='<U9')), ('much', array(['little', 'pretty'], dtype='<U9'))] \n",
      "\n"
     ]
    },
    {
     "data": {
      "image/png": "[encoded data removed]",
      "text/plain": [
       "<Figure size 1008x504 with 1 Axes>"
      ]
     },
     "metadata": {},
     "output_type": "display_data"
    },
    {
     "data": {
      "image/png": "[encoded data removed]",
      "text/plain": [
       "<Figure size 1008x504 with 1 Axes>"
      ]
     },
     "metadata": {},
     "output_type": "display_data"
    }
   ],
   "source": [
    "vary_ratings(models13, df_loaded, 1, 3, indx=995, bus_name=None)"
   ]
  },
  {
   "cell_type": "code",
   "execution_count": 49,
   "metadata": {},
   "outputs": [
    {
     "name": "stdout",
     "output_type": "stream",
     "text": [
      "Results for NV \n",
      " \n",
      " \n",
      "\n",
      "Number of reviews: 385001 \n",
      "\n",
      "Confusion matrix\n",
      "[[64712  2164]\n",
      " [ 1603 27772]] \n",
      "\n",
      "Recall: 97.58%\n",
      "Precision: 96.76%\n",
      "Accuracy: 96.09%\n"
     ]
    }
   ],
   "source": [
    "#2-star and 5-star ratings\n",
    "models14 = main(df_loaded, 0, 0.25, 1, 4, length=95, state=\"NV\")"
   ]
  },
  {
   "cell_type": "code",
   "execution_count": 46,
   "metadata": {},
   "outputs": [],
   "source": [
    "# with open(\"../efs/models/models14.pickle\", \"wb\") as f:\n",
    "#     pickle.dump(models14, f)"
   ]
  },
  {
   "cell_type": "code",
   "execution_count": 47,
   "metadata": {},
   "outputs": [],
   "source": [
    "with open(\"../efs/models/models14.pickle\", \"rb\") as f:\n",
    "    models14 = pickle.load(f)"
   ]
  },
  {
   "cell_type": "code",
   "execution_count": 48,
   "metadata": {
    "scrolled": false
   },
   "outputs": [
    {
     "name": "stdout",
     "output_type": "stream",
     "text": [
      "Restaurant Name: LBS Burger \n",
      "\n",
      "Size of corpus: 103 \n",
      "\n",
      "Recall: 0.99%\n",
      "Precision: 0.97%\n",
      "Accuracy: 96.12%\n",
      "\n",
      " [('service', array(['worst', 'terrible', 'poor', 'worst', 'worst'], dtype='<U14')), ('way', array(['disappointed'], dtype='<U14')), ('experience', array(['awful'], dtype='<U14')), ('interesting', array(['disappointed'], dtype='<U14')), ('veggie', array(['disgusting'], dtype='<U14')), ('never', array(['terrible'], dtype='<U14')), ('booth', array(['terrible'], dtype='<U14')), ('quality', array(['poor'], dtype='<U14')), ('execution', array(['disappointed'], dtype='<U14')), ('manager', array(['horrible'], dtype='<U14')), ('hamburger', array(['worst'], dtype='<U14')), ('part', array(['worst'], dtype='<U14')), ('one', array(['horrible'], dtype='<U14'))] \n",
      "\n",
      "\n",
      " [('burger', array(['perfect', 'perfect', 'yummy', 'perfect', 'perfect', 'good',\n",
      "       'perfect', 'perfect', 'excellent', 'good', 'good', 'perfect',\n",
      "       'perfect', 'perfect', 'great', 'perfect', 'good', 'perfect',\n",
      "       'good', 'tasty', 'great', 'perfect', 'tasty', 'great', 'perfect',\n",
      "       'good', 'great', 'good', 'fantastic', 'great', 'perfect', 'great',\n",
      "       'good', 'great', 'love', 'amazing', 'good', 'delicious', 'good',\n",
      "       'perfect', 'good', 'good'], dtype='<U9')), ('service', array(['friendly', 'good', 'good', 'great', 'great', 'great', 'excellent',\n",
      "       'great', 'good', 'great', 'friendly', 'good', 'good', 'good',\n",
      "       'friendly'], dtype='<U9')), ('place', array(['great', 'great', 'great', 'good', 'great', 'love', 'love', 'good',\n",
      "       'great', 'great', 'great', 'love'], dtype='<U9')), ('food', array(['great', 'good', 'great', 'great', 'good', 'good', 'good', 'good',\n",
      "       'enjoyed', 'great', 'friendly'], dtype='<U9')), ('staff', array(['friendly', 'great', 'good', 'great', 'great', 'great', 'good'],\n",
      "      dtype='<U9')), ('cooked', array(['perfectly', 'awesome', 'perfectly', 'perfectly', 'perfectly',\n",
      "       'great'], dtype='<U9')), ('selection', array(['good', 'good', 'good', 'good', 'good'], dtype='<U9')), ('beer', array(['good', 'good', 'delicious', 'good', 'good'], dtype='<U9')), ('good', array(['great', 'love', 'great'], dtype='<U9')), ('perfectly', array(['perfect', 'tasty', 'delicious'], dtype='<U9')), ('complaint', array(['awesome', 'yummy', 'loved'], dtype='<U9')), ('atmosphere', array(['perfect', 'good', 'great'], dtype='<U9')), ('helpful', array(['friendly', 'friendly', 'great'], dtype='<U9')), ('choice', array(['good', 'good', 'good'], dtype='<U9')), ('overall', array(['excellent', 'great', 'friendly'], dtype='<U9'))] \n",
      "\n"
     ]
    },
    {
     "data": {
      "image/png": "[encoded data removed]",
      "text/plain": [
       "<Figure size 1008x504 with 1 Axes>"
      ]
     },
     "metadata": {},
     "output_type": "display_data"
    },
    {
     "data": {
      "image/png": "[encoded data removed]",
      "text/plain": [
       "<Figure size 1008x504 with 1 Axes>"
      ]
     },
     "metadata": {},
     "output_type": "display_data"
    }
   ],
   "source": [
    "util.vary_ratings(models14, df_loaded, 1, 4, indx=995, bus_name=None)"
   ]
  },
  {
   "cell_type": "code",
   "execution_count": 4,
   "metadata": {},
   "outputs": [
    {
     "data": {
      "text/plain": [
       "\"Devoted to the ground round, LBS serves half-pound 21-day dry aged Organic Hereford New York/Sirloin patties with solid beef flavor. A little saltier and chewier than other gourmet burgers I've tried, and plenty sloppy, they do come on nice soft egg buns with several cheese options (goat, brie, pepperjack, gruyere) and other good add-ons like smoked bacon.\\n\\nIn all honesty, those who think this place is awesome...need to try some of the other burgers in the same price range in town (though there's nothing else on this level in Summerlin, of which I'm aware anyhow)\""
      ]
     },
     "execution_count": 4,
     "metadata": {},
     "output_type": "execute_result"
    }
   ],
   "source": [
    "df_loaded[(df_loaded[\"bus_name\"]==\"LBS Burger\") & (df_loaded[\"stars_rev\"]==3)][[\"text\",\"stars_rev\"]].iloc[1,0]"
   ]
  },
  {
   "cell_type": "code",
   "execution_count": null,
   "metadata": {},
   "outputs": [],
   "source": []
  }
 ],
 "metadata": {
  "kernelspec": {
   "display_name": "conda_python3",
   "language": "python",
   "name": "conda_python3"
  },
  "language_info": {
   "codemirror_mode": {
    "name": "ipython",
    "version": 3
   },
   "file_extension": ".py",
   "mimetype": "text/x-python",
   "name": "python",
   "nbconvert_exporter": "python",
   "pygments_lexer": "ipython3",
   "version": "3.6.4"
  }
 },
 "nbformat": 4,
 "nbformat_minor": 2
}
