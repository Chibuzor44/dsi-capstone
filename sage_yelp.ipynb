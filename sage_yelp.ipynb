{
 "cells": [
  {
   "cell_type": "code",
   "execution_count": 1,
   "metadata": {},
   "outputs": [
    {
     "data": {
      "text/html": [
       "<style>.container { width:100% !important; }</style>"
      ],
      "text/plain": [
       "<IPython.core.display.HTML object>"
      ]
     },
     "metadata": {},
     "output_type": "display_data"
    }
   ],
   "source": [
    "from IPython.core.display import display, HTML\n",
    "display(HTML(\"<style>.container { width:100% !important; }</style>\"))"
   ]
  },
  {
   "cell_type": "code",
   "execution_count": 2,
   "metadata": {},
   "outputs": [],
   "source": [
    "%load_ext autoreload\n",
    "%autoreload 2\n",
    "from pyspark.sql import SQLContext\n",
    "import boto3\n",
    "import pickle\n",
    "import pandas as pd\n",
    "import numpy as np\n",
    "import matplotlib.pyplot as plt\n",
    "import nltk\n",
    "from nltk.tokenize import RegexpTokenizer\n",
    "from nltk.stem.wordnet import WordNetLemmatizer\n",
    "from nltk.corpus import stopwords\n",
    "from sklearn.feature_extraction.text import CountVectorizer, TfidfVectorizer\n",
    "from sklearn.model_selection import train_test_split\n",
    "from sklearn.linear_model import LogisticRegression\n",
    "from sklearn.metrics import confusion_matrix\n",
    "from sk_model import ReviewClassifier, main\n",
    "import util"
   ]
  },
  {
   "cell_type": "code",
   "execution_count": 3,
   "metadata": {},
   "outputs": [],
   "source": [
    "f_path = \"s3://chizzy/yelp_data/\"\n",
    "df_bus = pd.read_json(f_path+\"business.json\", lines=True)\n",
    "df_user = pd.read_json(f_path+\"user.json\", lines=True)\n",
    "df_rev = pd.read_json(f_path+\"review.json\", lines=True)"
   ]
  },
  {
   "cell_type": "code",
   "execution_count": 4,
   "metadata": {
    "scrolled": true
   },
   "outputs": [
    {
     "data": {
      "text/html": [
       "<div>\n",
       "<style scoped>\n",
       "    .dataframe tbody tr th:only-of-type {\n",
       "        vertical-align: middle;\n",
       "    }\n",
       "\n",
       "    .dataframe tbody tr th {\n",
       "        vertical-align: top;\n",
       "    }\n",
       "\n",
       "    .dataframe thead th {\n",
       "        text-align: right;\n",
       "    }\n",
       "</style>\n",
       "<table border=\"1\" class=\"dataframe\">\n",
       "  <thead>\n",
       "    <tr style=\"text-align: right;\">\n",
       "      <th></th>\n",
       "      <th>address</th>\n",
       "      <th>attributes</th>\n",
       "      <th>business_id</th>\n",
       "      <th>categories</th>\n",
       "      <th>city</th>\n",
       "      <th>hours</th>\n",
       "      <th>is_open</th>\n",
       "      <th>latitude</th>\n",
       "      <th>longitude</th>\n",
       "      <th>name</th>\n",
       "      <th>neighborhood</th>\n",
       "      <th>postal_code</th>\n",
       "      <th>review_count</th>\n",
       "      <th>stars</th>\n",
       "      <th>state</th>\n",
       "    </tr>\n",
       "  </thead>\n",
       "  <tbody>\n",
       "    <tr>\n",
       "      <th>0</th>\n",
       "      <td>4855 E Warner Rd, Ste B9</td>\n",
       "      <td>{'AcceptsInsurance': True, 'ByAppointmentOnly'...</td>\n",
       "      <td>FYWN1wneV18bWNgQjJ2GNg</td>\n",
       "      <td>[Dentists, General Dentistry, Health &amp; Medical...</td>\n",
       "      <td>Ahwatukee</td>\n",
       "      <td>{'Friday': '7:30-17:00', 'Tuesday': '7:30-17:0...</td>\n",
       "      <td>1</td>\n",
       "      <td>33.330690</td>\n",
       "      <td>-111.978599</td>\n",
       "      <td>Dental by Design</td>\n",
       "      <td></td>\n",
       "      <td>85044</td>\n",
       "      <td>22</td>\n",
       "      <td>4.0</td>\n",
       "      <td>AZ</td>\n",
       "    </tr>\n",
       "    <tr>\n",
       "      <th>1</th>\n",
       "      <td>3101 Washington Rd</td>\n",
       "      <td>{'BusinessParking': {'garage': False, 'street'...</td>\n",
       "      <td>He-G7vWjzVUysIKrfNbPUQ</td>\n",
       "      <td>[Hair Stylists, Hair Salons, Men's Hair Salons...</td>\n",
       "      <td>McMurray</td>\n",
       "      <td>{'Monday': '9:00-20:00', 'Tuesday': '9:00-20:0...</td>\n",
       "      <td>1</td>\n",
       "      <td>40.291685</td>\n",
       "      <td>-80.104900</td>\n",
       "      <td>Stephen Szabo Salon</td>\n",
       "      <td></td>\n",
       "      <td>15317</td>\n",
       "      <td>11</td>\n",
       "      <td>3.0</td>\n",
       "      <td>PA</td>\n",
       "    </tr>\n",
       "    <tr>\n",
       "      <th>2</th>\n",
       "      <td>6025 N 27th Ave, Ste 1</td>\n",
       "      <td>{}</td>\n",
       "      <td>KQPW8lFf1y5BT2MxiSZ3QA</td>\n",
       "      <td>[Departments of Motor Vehicles, Public Service...</td>\n",
       "      <td>Phoenix</td>\n",
       "      <td>{}</td>\n",
       "      <td>1</td>\n",
       "      <td>33.524903</td>\n",
       "      <td>-112.115310</td>\n",
       "      <td>Western Motor Vehicle</td>\n",
       "      <td></td>\n",
       "      <td>85017</td>\n",
       "      <td>18</td>\n",
       "      <td>1.5</td>\n",
       "      <td>AZ</td>\n",
       "    </tr>\n",
       "    <tr>\n",
       "      <th>3</th>\n",
       "      <td>5000 Arizona Mills Cr, Ste 435</td>\n",
       "      <td>{'BusinessAcceptsCreditCards': True, 'Restaura...</td>\n",
       "      <td>8DShNS-LuFqpEWIp0HxijA</td>\n",
       "      <td>[Sporting Goods, Shopping]</td>\n",
       "      <td>Tempe</td>\n",
       "      <td>{'Monday': '10:00-21:00', 'Tuesday': '10:00-21...</td>\n",
       "      <td>0</td>\n",
       "      <td>33.383147</td>\n",
       "      <td>-111.964725</td>\n",
       "      <td>Sports Authority</td>\n",
       "      <td></td>\n",
       "      <td>85282</td>\n",
       "      <td>9</td>\n",
       "      <td>3.0</td>\n",
       "      <td>AZ</td>\n",
       "    </tr>\n",
       "    <tr>\n",
       "      <th>4</th>\n",
       "      <td>581 Howe Ave</td>\n",
       "      <td>{'Alcohol': 'full_bar', 'HasTV': True, 'NoiseL...</td>\n",
       "      <td>PfOCPjBrlQAnz__NXj9h_w</td>\n",
       "      <td>[American (New), Nightlife, Bars, Sandwiches, ...</td>\n",
       "      <td>Cuyahoga Falls</td>\n",
       "      <td>{'Monday': '11:00-1:00', 'Tuesday': '11:00-1:0...</td>\n",
       "      <td>1</td>\n",
       "      <td>41.119535</td>\n",
       "      <td>-81.475690</td>\n",
       "      <td>Brick House Tavern + Tap</td>\n",
       "      <td></td>\n",
       "      <td>44221</td>\n",
       "      <td>116</td>\n",
       "      <td>3.5</td>\n",
       "      <td>OH</td>\n",
       "    </tr>\n",
       "  </tbody>\n",
       "</table>\n",
       "</div>"
      ],
      "text/plain": [
       "                          address  \\\n",
       "0        4855 E Warner Rd, Ste B9   \n",
       "1              3101 Washington Rd   \n",
       "2          6025 N 27th Ave, Ste 1   \n",
       "3  5000 Arizona Mills Cr, Ste 435   \n",
       "4                    581 Howe Ave   \n",
       "\n",
       "                                          attributes             business_id  \\\n",
       "0  {'AcceptsInsurance': True, 'ByAppointmentOnly'...  FYWN1wneV18bWNgQjJ2GNg   \n",
       "1  {'BusinessParking': {'garage': False, 'street'...  He-G7vWjzVUysIKrfNbPUQ   \n",
       "2                                                 {}  KQPW8lFf1y5BT2MxiSZ3QA   \n",
       "3  {'BusinessAcceptsCreditCards': True, 'Restaura...  8DShNS-LuFqpEWIp0HxijA   \n",
       "4  {'Alcohol': 'full_bar', 'HasTV': True, 'NoiseL...  PfOCPjBrlQAnz__NXj9h_w   \n",
       "\n",
       "                                          categories            city  \\\n",
       "0  [Dentists, General Dentistry, Health & Medical...       Ahwatukee   \n",
       "1  [Hair Stylists, Hair Salons, Men's Hair Salons...        McMurray   \n",
       "2  [Departments of Motor Vehicles, Public Service...         Phoenix   \n",
       "3                         [Sporting Goods, Shopping]           Tempe   \n",
       "4  [American (New), Nightlife, Bars, Sandwiches, ...  Cuyahoga Falls   \n",
       "\n",
       "                                               hours  is_open   latitude  \\\n",
       "0  {'Friday': '7:30-17:00', 'Tuesday': '7:30-17:0...        1  33.330690   \n",
       "1  {'Monday': '9:00-20:00', 'Tuesday': '9:00-20:0...        1  40.291685   \n",
       "2                                                 {}        1  33.524903   \n",
       "3  {'Monday': '10:00-21:00', 'Tuesday': '10:00-21...        0  33.383147   \n",
       "4  {'Monday': '11:00-1:00', 'Tuesday': '11:00-1:0...        1  41.119535   \n",
       "\n",
       "    longitude                      name neighborhood postal_code  \\\n",
       "0 -111.978599          Dental by Design                    85044   \n",
       "1  -80.104900       Stephen Szabo Salon                    15317   \n",
       "2 -112.115310     Western Motor Vehicle                    85017   \n",
       "3 -111.964725          Sports Authority                    85282   \n",
       "4  -81.475690  Brick House Tavern + Tap                    44221   \n",
       "\n",
       "   review_count  stars state  \n",
       "0            22    4.0    AZ  \n",
       "1            11    3.0    PA  \n",
       "2            18    1.5    AZ  \n",
       "3             9    3.0    AZ  \n",
       "4           116    3.5    OH  "
      ]
     },
     "execution_count": 4,
     "metadata": {},
     "output_type": "execute_result"
    }
   ],
   "source": [
    "df_bus.head()"
   ]
  },
  {
   "cell_type": "code",
   "execution_count": 5,
   "metadata": {},
   "outputs": [
    {
     "data": {
      "text/html": [
       "<div>\n",
       "<style scoped>\n",
       "    .dataframe tbody tr th:only-of-type {\n",
       "        vertical-align: middle;\n",
       "    }\n",
       "\n",
       "    .dataframe tbody tr th {\n",
       "        vertical-align: top;\n",
       "    }\n",
       "\n",
       "    .dataframe thead th {\n",
       "        text-align: right;\n",
       "    }\n",
       "</style>\n",
       "<table border=\"1\" class=\"dataframe\">\n",
       "  <thead>\n",
       "    <tr style=\"text-align: right;\">\n",
       "      <th></th>\n",
       "      <th>average_stars</th>\n",
       "      <th>compliment_cool</th>\n",
       "      <th>compliment_cute</th>\n",
       "      <th>compliment_funny</th>\n",
       "      <th>compliment_hot</th>\n",
       "      <th>compliment_list</th>\n",
       "      <th>compliment_more</th>\n",
       "      <th>compliment_note</th>\n",
       "      <th>compliment_photos</th>\n",
       "      <th>compliment_plain</th>\n",
       "      <th>...</th>\n",
       "      <th>cool</th>\n",
       "      <th>elite</th>\n",
       "      <th>fans</th>\n",
       "      <th>friends</th>\n",
       "      <th>funny</th>\n",
       "      <th>name</th>\n",
       "      <th>review_count</th>\n",
       "      <th>useful</th>\n",
       "      <th>user_id</th>\n",
       "      <th>yelping_since</th>\n",
       "    </tr>\n",
       "  </thead>\n",
       "  <tbody>\n",
       "    <tr>\n",
       "      <th>0</th>\n",
       "      <td>4.67</td>\n",
       "      <td>0</td>\n",
       "      <td>0</td>\n",
       "      <td>0</td>\n",
       "      <td>0</td>\n",
       "      <td>0</td>\n",
       "      <td>0</td>\n",
       "      <td>0</td>\n",
       "      <td>0</td>\n",
       "      <td>1</td>\n",
       "      <td>...</td>\n",
       "      <td>0</td>\n",
       "      <td>[]</td>\n",
       "      <td>0</td>\n",
       "      <td>[cvVMmlU1ouS3I5fhutaryQ, nj6UZ8tdGo8YJ9lUMTVWN...</td>\n",
       "      <td>0</td>\n",
       "      <td>Johnny</td>\n",
       "      <td>8</td>\n",
       "      <td>0</td>\n",
       "      <td>oMy_rEb0UBEmMlu-zcxnoQ</td>\n",
       "      <td>2014-11-03</td>\n",
       "    </tr>\n",
       "    <tr>\n",
       "      <th>1</th>\n",
       "      <td>3.70</td>\n",
       "      <td>0</td>\n",
       "      <td>0</td>\n",
       "      <td>0</td>\n",
       "      <td>0</td>\n",
       "      <td>0</td>\n",
       "      <td>0</td>\n",
       "      <td>0</td>\n",
       "      <td>0</td>\n",
       "      <td>0</td>\n",
       "      <td>...</td>\n",
       "      <td>0</td>\n",
       "      <td>[]</td>\n",
       "      <td>0</td>\n",
       "      <td>[0njfJmB-7n84DlIgUByCNw, rFn3Xe3RqHxRSxWOU19Gp...</td>\n",
       "      <td>0</td>\n",
       "      <td>Chris</td>\n",
       "      <td>10</td>\n",
       "      <td>0</td>\n",
       "      <td>JJ-aSuM4pCFPdkfoZ34q0Q</td>\n",
       "      <td>2013-09-24</td>\n",
       "    </tr>\n",
       "    <tr>\n",
       "      <th>2</th>\n",
       "      <td>2.00</td>\n",
       "      <td>0</td>\n",
       "      <td>0</td>\n",
       "      <td>0</td>\n",
       "      <td>0</td>\n",
       "      <td>0</td>\n",
       "      <td>0</td>\n",
       "      <td>0</td>\n",
       "      <td>0</td>\n",
       "      <td>0</td>\n",
       "      <td>...</td>\n",
       "      <td>0</td>\n",
       "      <td>[]</td>\n",
       "      <td>0</td>\n",
       "      <td>[]</td>\n",
       "      <td>0</td>\n",
       "      <td>Tiffy</td>\n",
       "      <td>1</td>\n",
       "      <td>0</td>\n",
       "      <td>uUzsFQn_6cXDh6rPNGbIFA</td>\n",
       "      <td>2017-03-02</td>\n",
       "    </tr>\n",
       "    <tr>\n",
       "      <th>3</th>\n",
       "      <td>4.67</td>\n",
       "      <td>0</td>\n",
       "      <td>0</td>\n",
       "      <td>0</td>\n",
       "      <td>0</td>\n",
       "      <td>0</td>\n",
       "      <td>0</td>\n",
       "      <td>0</td>\n",
       "      <td>0</td>\n",
       "      <td>0</td>\n",
       "      <td>...</td>\n",
       "      <td>0</td>\n",
       "      <td>[]</td>\n",
       "      <td>0</td>\n",
       "      <td>[]</td>\n",
       "      <td>0</td>\n",
       "      <td>Mark</td>\n",
       "      <td>6</td>\n",
       "      <td>0</td>\n",
       "      <td>mBneaEEH5EMyxaVyqS-72A</td>\n",
       "      <td>2015-03-13</td>\n",
       "    </tr>\n",
       "    <tr>\n",
       "      <th>4</th>\n",
       "      <td>4.67</td>\n",
       "      <td>0</td>\n",
       "      <td>0</td>\n",
       "      <td>0</td>\n",
       "      <td>0</td>\n",
       "      <td>0</td>\n",
       "      <td>0</td>\n",
       "      <td>0</td>\n",
       "      <td>0</td>\n",
       "      <td>0</td>\n",
       "      <td>...</td>\n",
       "      <td>0</td>\n",
       "      <td>[]</td>\n",
       "      <td>0</td>\n",
       "      <td>[]</td>\n",
       "      <td>0</td>\n",
       "      <td>Evelyn</td>\n",
       "      <td>3</td>\n",
       "      <td>0</td>\n",
       "      <td>W5mJGs-dcDWRGEhAzUYtoA</td>\n",
       "      <td>2016-09-08</td>\n",
       "    </tr>\n",
       "  </tbody>\n",
       "</table>\n",
       "<p>5 rows × 22 columns</p>\n",
       "</div>"
      ],
      "text/plain": [
       "   average_stars  compliment_cool  compliment_cute  compliment_funny  \\\n",
       "0           4.67                0                0                 0   \n",
       "1           3.70                0                0                 0   \n",
       "2           2.00                0                0                 0   \n",
       "3           4.67                0                0                 0   \n",
       "4           4.67                0                0                 0   \n",
       "\n",
       "   compliment_hot  compliment_list  compliment_more  compliment_note  \\\n",
       "0               0                0                0                0   \n",
       "1               0                0                0                0   \n",
       "2               0                0                0                0   \n",
       "3               0                0                0                0   \n",
       "4               0                0                0                0   \n",
       "\n",
       "   compliment_photos  compliment_plain      ...        cool  elite  fans  \\\n",
       "0                  0                 1      ...           0     []     0   \n",
       "1                  0                 0      ...           0     []     0   \n",
       "2                  0                 0      ...           0     []     0   \n",
       "3                  0                 0      ...           0     []     0   \n",
       "4                  0                 0      ...           0     []     0   \n",
       "\n",
       "                                             friends  funny    name  \\\n",
       "0  [cvVMmlU1ouS3I5fhutaryQ, nj6UZ8tdGo8YJ9lUMTVWN...      0  Johnny   \n",
       "1  [0njfJmB-7n84DlIgUByCNw, rFn3Xe3RqHxRSxWOU19Gp...      0   Chris   \n",
       "2                                                 []      0   Tiffy   \n",
       "3                                                 []      0    Mark   \n",
       "4                                                 []      0  Evelyn   \n",
       "\n",
       "   review_count useful                 user_id  yelping_since  \n",
       "0             8      0  oMy_rEb0UBEmMlu-zcxnoQ     2014-11-03  \n",
       "1            10      0  JJ-aSuM4pCFPdkfoZ34q0Q     2013-09-24  \n",
       "2             1      0  uUzsFQn_6cXDh6rPNGbIFA     2017-03-02  \n",
       "3             6      0  mBneaEEH5EMyxaVyqS-72A     2015-03-13  \n",
       "4             3      0  W5mJGs-dcDWRGEhAzUYtoA     2016-09-08  \n",
       "\n",
       "[5 rows x 22 columns]"
      ]
     },
     "execution_count": 5,
     "metadata": {},
     "output_type": "execute_result"
    }
   ],
   "source": [
    "df_user.head()"
   ]
  },
  {
   "cell_type": "code",
   "execution_count": 6,
   "metadata": {},
   "outputs": [
    {
     "data": {
      "text/html": [
       "<div>\n",
       "<style scoped>\n",
       "    .dataframe tbody tr th:only-of-type {\n",
       "        vertical-align: middle;\n",
       "    }\n",
       "\n",
       "    .dataframe tbody tr th {\n",
       "        vertical-align: top;\n",
       "    }\n",
       "\n",
       "    .dataframe thead th {\n",
       "        text-align: right;\n",
       "    }\n",
       "</style>\n",
       "<table border=\"1\" class=\"dataframe\">\n",
       "  <thead>\n",
       "    <tr style=\"text-align: right;\">\n",
       "      <th></th>\n",
       "      <th>business_id</th>\n",
       "      <th>cool</th>\n",
       "      <th>date</th>\n",
       "      <th>funny</th>\n",
       "      <th>review_id</th>\n",
       "      <th>stars</th>\n",
       "      <th>text</th>\n",
       "      <th>useful</th>\n",
       "      <th>user_id</th>\n",
       "    </tr>\n",
       "  </thead>\n",
       "  <tbody>\n",
       "    <tr>\n",
       "      <th>0</th>\n",
       "      <td>0W4lkclzZThpx3V65bVgig</td>\n",
       "      <td>0</td>\n",
       "      <td>2016-05-28</td>\n",
       "      <td>0</td>\n",
       "      <td>v0i_UHJMo_hPBq9bxWvW4w</td>\n",
       "      <td>5</td>\n",
       "      <td>Love the staff, love the meat, love the place....</td>\n",
       "      <td>0</td>\n",
       "      <td>bv2nCi5Qv5vroFiqKGopiw</td>\n",
       "    </tr>\n",
       "    <tr>\n",
       "      <th>1</th>\n",
       "      <td>AEx2SYEUJmTxVVB18LlCwA</td>\n",
       "      <td>0</td>\n",
       "      <td>2016-05-28</td>\n",
       "      <td>0</td>\n",
       "      <td>vkVSCC7xljjrAI4UGfnKEQ</td>\n",
       "      <td>5</td>\n",
       "      <td>Super simple place but amazing nonetheless. It...</td>\n",
       "      <td>0</td>\n",
       "      <td>bv2nCi5Qv5vroFiqKGopiw</td>\n",
       "    </tr>\n",
       "    <tr>\n",
       "      <th>2</th>\n",
       "      <td>VR6GpWIda3SfvPC-lg9H3w</td>\n",
       "      <td>0</td>\n",
       "      <td>2016-05-28</td>\n",
       "      <td>0</td>\n",
       "      <td>n6QzIUObkYshz4dz2QRJTw</td>\n",
       "      <td>5</td>\n",
       "      <td>Small unassuming place that changes their menu...</td>\n",
       "      <td>0</td>\n",
       "      <td>bv2nCi5Qv5vroFiqKGopiw</td>\n",
       "    </tr>\n",
       "    <tr>\n",
       "      <th>3</th>\n",
       "      <td>CKC0-MOWMqoeWf6s-szl8g</td>\n",
       "      <td>0</td>\n",
       "      <td>2016-05-28</td>\n",
       "      <td>0</td>\n",
       "      <td>MV3CcKScW05u5LVfF6ok0g</td>\n",
       "      <td>5</td>\n",
       "      <td>Lester's is located in a beautiful neighborhoo...</td>\n",
       "      <td>0</td>\n",
       "      <td>bv2nCi5Qv5vroFiqKGopiw</td>\n",
       "    </tr>\n",
       "    <tr>\n",
       "      <th>4</th>\n",
       "      <td>ACFtxLv8pGrrxMm6EgjreA</td>\n",
       "      <td>0</td>\n",
       "      <td>2016-05-28</td>\n",
       "      <td>0</td>\n",
       "      <td>IXvOzsEMYtiJI0CARmj77Q</td>\n",
       "      <td>4</td>\n",
       "      <td>Love coming here. Yes the place always needs t...</td>\n",
       "      <td>0</td>\n",
       "      <td>bv2nCi5Qv5vroFiqKGopiw</td>\n",
       "    </tr>\n",
       "  </tbody>\n",
       "</table>\n",
       "</div>"
      ],
      "text/plain": [
       "              business_id  cool       date  funny               review_id  \\\n",
       "0  0W4lkclzZThpx3V65bVgig     0 2016-05-28      0  v0i_UHJMo_hPBq9bxWvW4w   \n",
       "1  AEx2SYEUJmTxVVB18LlCwA     0 2016-05-28      0  vkVSCC7xljjrAI4UGfnKEQ   \n",
       "2  VR6GpWIda3SfvPC-lg9H3w     0 2016-05-28      0  n6QzIUObkYshz4dz2QRJTw   \n",
       "3  CKC0-MOWMqoeWf6s-szl8g     0 2016-05-28      0  MV3CcKScW05u5LVfF6ok0g   \n",
       "4  ACFtxLv8pGrrxMm6EgjreA     0 2016-05-28      0  IXvOzsEMYtiJI0CARmj77Q   \n",
       "\n",
       "   stars                                               text  useful  \\\n",
       "0      5  Love the staff, love the meat, love the place....       0   \n",
       "1      5  Super simple place but amazing nonetheless. It...       0   \n",
       "2      5  Small unassuming place that changes their menu...       0   \n",
       "3      5  Lester's is located in a beautiful neighborhoo...       0   \n",
       "4      4  Love coming here. Yes the place always needs t...       0   \n",
       "\n",
       "                  user_id  \n",
       "0  bv2nCi5Qv5vroFiqKGopiw  \n",
       "1  bv2nCi5Qv5vroFiqKGopiw  \n",
       "2  bv2nCi5Qv5vroFiqKGopiw  \n",
       "3  bv2nCi5Qv5vroFiqKGopiw  \n",
       "4  bv2nCi5Qv5vroFiqKGopiw  "
      ]
     },
     "execution_count": 6,
     "metadata": {},
     "output_type": "execute_result"
    }
   ],
   "source": [
    "df_rev.head()"
   ]
  },
  {
   "cell_type": "code",
   "execution_count": 7,
   "metadata": {},
   "outputs": [],
   "source": [
    "#Rename colume names \n",
    "df_bus.rename(columns={\"name\":\"bus_name\",\"review_count\":\"bus_rev_count\"}, inplace=True)\n",
    "df_user.rename(columns={\"name\":\"user_name\", \"review_count\":\"user_rev_count\"}, inplace=True)\n",
    "df_rev.rename(columns={\"cool\":\"cool_rev\", \"funny\":\"funny_rev\", \"stars\":\"stars_rev\", \"useful\":\"useful_rev\"}, inplace=True)"
   ]
  },
  {
   "cell_type": "code",
   "execution_count": 8,
   "metadata": {},
   "outputs": [
    {
     "name": "stdout",
     "output_type": "stream",
     "text": [
      "Number of rows for business table: 174567\n",
      "Number of rows for user table: 1326101\n",
      "Number of rows for review table: 5261669\n"
     ]
    }
   ],
   "source": [
    "print(\"Number of rows for business table: {}\".format(len(df_bus)))\n",
    "print(\"Number of rows for user table: {}\".format(len(df_user)))\n",
    "print(\"Number of rows for review table: {}\".format(len(df_rev)))"
   ]
  },
  {
   "cell_type": "code",
   "execution_count": 9,
   "metadata": {},
   "outputs": [],
   "source": [
    "us_states = [\"AL\",\"AK\",\"AZ\",\"AR\",\"CA\",\"CO\",\"CT\",\"DE\",\"FL\",\"GA\",\"HI\",\"ID\",\"IL\",\"IN\",\"IA\",\"KS\", \\\n",
    "            \"KY\",\"LA\",\"ME\",\"MD\",\"MA\",\"MI\",\"MN\",\"MS\",\"MO\",\"MT\",\"NE\",\"NV\",\"NH\",\"NJ\",\"NM\",\"NY\", \\\n",
    "            \"NC\",\"ND\",\"OH\",\"OK\",\"OR\",\"PA\",\"RI\",\"SC\",\"SD\",\"TN\",\"TX\",\"UT\",\"VT\",\"VA\",\"WA\",\"WV\",\"WI\",\"WY\"]\n",
    "\n",
    "#Extracting reviews for only US restaurants\n",
    "df_bus_us = df_bus[df_bus.state.isin (us_states)]"
   ]
  },
  {
   "cell_type": "code",
   "execution_count": 10,
   "metadata": {},
   "outputs": [],
   "source": [
    "#Filtering businesses that are not resturants\n",
    "indx = []\n",
    "for i, lst in enumerate(df_bus_us.categories):\n",
    "    if \"Restaurants\" in lst:\n",
    "        indx.append(i)\n",
    "        \n",
    "\n",
    "df_bus_us = df_bus_us.iloc[indx]"
   ]
  },
  {
   "cell_type": "code",
   "execution_count": 11,
   "metadata": {},
   "outputs": [
    {
     "data": {
      "text/html": [
       "<div>\n",
       "<style scoped>\n",
       "    .dataframe tbody tr th:only-of-type {\n",
       "        vertical-align: middle;\n",
       "    }\n",
       "\n",
       "    .dataframe tbody tr th {\n",
       "        vertical-align: top;\n",
       "    }\n",
       "\n",
       "    .dataframe thead th {\n",
       "        text-align: right;\n",
       "    }\n",
       "</style>\n",
       "<table border=\"1\" class=\"dataframe\">\n",
       "  <thead>\n",
       "    <tr style=\"text-align: right;\">\n",
       "      <th></th>\n",
       "      <th>address</th>\n",
       "      <th>attributes</th>\n",
       "      <th>business_id</th>\n",
       "      <th>categories</th>\n",
       "      <th>city</th>\n",
       "      <th>hours</th>\n",
       "      <th>is_open</th>\n",
       "      <th>latitude</th>\n",
       "      <th>longitude</th>\n",
       "      <th>bus_name</th>\n",
       "      <th>neighborhood</th>\n",
       "      <th>postal_code</th>\n",
       "      <th>bus_rev_count</th>\n",
       "      <th>stars</th>\n",
       "      <th>state</th>\n",
       "    </tr>\n",
       "  </thead>\n",
       "  <tbody>\n",
       "    <tr>\n",
       "      <th>4</th>\n",
       "      <td>581 Howe Ave</td>\n",
       "      <td>{'Alcohol': 'full_bar', 'HasTV': True, 'NoiseL...</td>\n",
       "      <td>PfOCPjBrlQAnz__NXj9h_w</td>\n",
       "      <td>[American (New), Nightlife, Bars, Sandwiches, ...</td>\n",
       "      <td>Cuyahoga Falls</td>\n",
       "      <td>{'Monday': '11:00-1:00', 'Tuesday': '11:00-1:0...</td>\n",
       "      <td>1</td>\n",
       "      <td>41.119535</td>\n",
       "      <td>-81.475690</td>\n",
       "      <td>Brick House Tavern + Tap</td>\n",
       "      <td></td>\n",
       "      <td>44221</td>\n",
       "      <td>116</td>\n",
       "      <td>3.5</td>\n",
       "      <td>OH</td>\n",
       "    </tr>\n",
       "    <tr>\n",
       "      <th>10</th>\n",
       "      <td>737 West Pike St</td>\n",
       "      <td>{'RestaurantsTableService': True, 'GoodForMeal...</td>\n",
       "      <td>XOSRcvtaKc_Q5H1SAzN20A</td>\n",
       "      <td>[Breakfast &amp; Brunch, Gluten-Free, Coffee &amp; Tea...</td>\n",
       "      <td>Houston</td>\n",
       "      <td>{}</td>\n",
       "      <td>0</td>\n",
       "      <td>40.241548</td>\n",
       "      <td>-80.212815</td>\n",
       "      <td>East Coast Coffee</td>\n",
       "      <td></td>\n",
       "      <td>15342</td>\n",
       "      <td>3</td>\n",
       "      <td>4.5</td>\n",
       "      <td>PA</td>\n",
       "    </tr>\n",
       "    <tr>\n",
       "      <th>14</th>\n",
       "      <td>600 E 4th St</td>\n",
       "      <td>{'GoodForMeal': {'dessert': False, 'latenight'...</td>\n",
       "      <td>fNMVV_ZX7CJSDWQGdOM8Nw</td>\n",
       "      <td>[Restaurants, American (Traditional)]</td>\n",
       "      <td>Charlotte</td>\n",
       "      <td>{'Friday': '7:00-15:00', 'Tuesday': '7:00-15:0...</td>\n",
       "      <td>1</td>\n",
       "      <td>35.221647</td>\n",
       "      <td>-80.839345</td>\n",
       "      <td>Showmars Government Center</td>\n",
       "      <td>Uptown</td>\n",
       "      <td>28202</td>\n",
       "      <td>7</td>\n",
       "      <td>3.5</td>\n",
       "      <td>NC</td>\n",
       "    </tr>\n",
       "    <tr>\n",
       "      <th>28</th>\n",
       "      <td>38295 Chestnut Ridge Rd</td>\n",
       "      <td>{'GoodForMeal': {'dessert': False, 'latenight'...</td>\n",
       "      <td>Dj0S-Oe4ytRJzMGUPgYUkw</td>\n",
       "      <td>[Soup, Salad, Sandwiches, Restaurants]</td>\n",
       "      <td>Elyria</td>\n",
       "      <td>{'Monday': '6:30-21:00', 'Tuesday': '6:30-21:0...</td>\n",
       "      <td>1</td>\n",
       "      <td>41.343078</td>\n",
       "      <td>-82.067140</td>\n",
       "      <td>Panera Bread</td>\n",
       "      <td></td>\n",
       "      <td>44035</td>\n",
       "      <td>4</td>\n",
       "      <td>2.0</td>\n",
       "      <td>OH</td>\n",
       "    </tr>\n",
       "    <tr>\n",
       "      <th>29</th>\n",
       "      <td>2429 Hwy 160 W</td>\n",
       "      <td>{'GoodForMeal': {'dessert': False, 'latenight'...</td>\n",
       "      <td>gAy4LYpsScrj8POnCW6btQ</td>\n",
       "      <td>[Food, American (Traditional), Coffee &amp; Tea, R...</td>\n",
       "      <td>Fort Mill</td>\n",
       "      <td>{'Monday': '7:00-15:00', 'Tuesday': '7:00-15:0...</td>\n",
       "      <td>0</td>\n",
       "      <td>35.047287</td>\n",
       "      <td>-80.990559</td>\n",
       "      <td>Toast Cafe</td>\n",
       "      <td></td>\n",
       "      <td>29708</td>\n",
       "      <td>6</td>\n",
       "      <td>3.5</td>\n",
       "      <td>SC</td>\n",
       "    </tr>\n",
       "  </tbody>\n",
       "</table>\n",
       "</div>"
      ],
      "text/plain": [
       "                    address  \\\n",
       "4              581 Howe Ave   \n",
       "10         737 West Pike St   \n",
       "14             600 E 4th St   \n",
       "28  38295 Chestnut Ridge Rd   \n",
       "29           2429 Hwy 160 W   \n",
       "\n",
       "                                           attributes             business_id  \\\n",
       "4   {'Alcohol': 'full_bar', 'HasTV': True, 'NoiseL...  PfOCPjBrlQAnz__NXj9h_w   \n",
       "10  {'RestaurantsTableService': True, 'GoodForMeal...  XOSRcvtaKc_Q5H1SAzN20A   \n",
       "14  {'GoodForMeal': {'dessert': False, 'latenight'...  fNMVV_ZX7CJSDWQGdOM8Nw   \n",
       "28  {'GoodForMeal': {'dessert': False, 'latenight'...  Dj0S-Oe4ytRJzMGUPgYUkw   \n",
       "29  {'GoodForMeal': {'dessert': False, 'latenight'...  gAy4LYpsScrj8POnCW6btQ   \n",
       "\n",
       "                                           categories            city  \\\n",
       "4   [American (New), Nightlife, Bars, Sandwiches, ...  Cuyahoga Falls   \n",
       "10  [Breakfast & Brunch, Gluten-Free, Coffee & Tea...         Houston   \n",
       "14              [Restaurants, American (Traditional)]       Charlotte   \n",
       "28             [Soup, Salad, Sandwiches, Restaurants]          Elyria   \n",
       "29  [Food, American (Traditional), Coffee & Tea, R...       Fort Mill   \n",
       "\n",
       "                                                hours  is_open   latitude  \\\n",
       "4   {'Monday': '11:00-1:00', 'Tuesday': '11:00-1:0...        1  41.119535   \n",
       "10                                                 {}        0  40.241548   \n",
       "14  {'Friday': '7:00-15:00', 'Tuesday': '7:00-15:0...        1  35.221647   \n",
       "28  {'Monday': '6:30-21:00', 'Tuesday': '6:30-21:0...        1  41.343078   \n",
       "29  {'Monday': '7:00-15:00', 'Tuesday': '7:00-15:0...        0  35.047287   \n",
       "\n",
       "    longitude                    bus_name neighborhood postal_code  \\\n",
       "4  -81.475690    Brick House Tavern + Tap                    44221   \n",
       "10 -80.212815           East Coast Coffee                    15342   \n",
       "14 -80.839345  Showmars Government Center       Uptown       28202   \n",
       "28 -82.067140                Panera Bread                    44035   \n",
       "29 -80.990559                  Toast Cafe                    29708   \n",
       "\n",
       "    bus_rev_count  stars state  \n",
       "4             116    3.5    OH  \n",
       "10              3    4.5    PA  \n",
       "14              7    3.5    NC  \n",
       "28              4    2.0    OH  \n",
       "29              6    3.5    SC  "
      ]
     },
     "execution_count": 11,
     "metadata": {},
     "output_type": "execute_result"
    }
   ],
   "source": [
    "df_bus_us.head()"
   ]
  },
  {
   "cell_type": "code",
   "execution_count": 12,
   "metadata": {},
   "outputs": [
    {
     "name": "stdout",
     "output_type": "stream",
     "text": [
      "Number of rows for business table for US states: 32472\n"
     ]
    }
   ],
   "source": [
    "print(\"Number of rows for business table for US states: {}\".format(len(df_bus_us)))"
   ]
  },
  {
   "cell_type": "code",
   "execution_count": 13,
   "metadata": {},
   "outputs": [],
   "source": [
    "df_rev_bus = pd.merge(df_rev, df_bus_us, how='inner', on=['business_id', 'business_id'])"
   ]
  },
  {
   "cell_type": "code",
   "execution_count": 14,
   "metadata": {},
   "outputs": [
    {
     "data": {
      "text/html": [
       "<div>\n",
       "<style scoped>\n",
       "    .dataframe tbody tr th:only-of-type {\n",
       "        vertical-align: middle;\n",
       "    }\n",
       "\n",
       "    .dataframe tbody tr th {\n",
       "        vertical-align: top;\n",
       "    }\n",
       "\n",
       "    .dataframe thead th {\n",
       "        text-align: right;\n",
       "    }\n",
       "</style>\n",
       "<table border=\"1\" class=\"dataframe\">\n",
       "  <thead>\n",
       "    <tr style=\"text-align: right;\">\n",
       "      <th></th>\n",
       "      <th>business_id</th>\n",
       "      <th>cool_rev</th>\n",
       "      <th>date</th>\n",
       "      <th>funny_rev</th>\n",
       "      <th>review_id</th>\n",
       "      <th>stars_rev</th>\n",
       "      <th>text</th>\n",
       "      <th>useful_rev</th>\n",
       "      <th>user_id</th>\n",
       "      <th>address</th>\n",
       "      <th>...</th>\n",
       "      <th>hours</th>\n",
       "      <th>is_open</th>\n",
       "      <th>latitude</th>\n",
       "      <th>longitude</th>\n",
       "      <th>bus_name</th>\n",
       "      <th>neighborhood</th>\n",
       "      <th>postal_code</th>\n",
       "      <th>bus_rev_count</th>\n",
       "      <th>stars</th>\n",
       "      <th>state</th>\n",
       "    </tr>\n",
       "  </thead>\n",
       "  <tbody>\n",
       "    <tr>\n",
       "      <th>0</th>\n",
       "      <td>IXXERocY1bqGwRllcy8J2w</td>\n",
       "      <td>0</td>\n",
       "      <td>2009-08-30</td>\n",
       "      <td>0</td>\n",
       "      <td>nsThIz_-TuvgoFh0o9XJfQ</td>\n",
       "      <td>5</td>\n",
       "      <td>Visiting from SF.  Checked yelp and found this...</td>\n",
       "      <td>0</td>\n",
       "      <td>_L2SZSwf7A6YSrIHy_q4cw</td>\n",
       "      <td>831 E Johnson St, Ste 4</td>\n",
       "      <td>...</td>\n",
       "      <td>{'Sunday': '8:00-14:00', 'Saturday': '8:00-14:...</td>\n",
       "      <td>0</td>\n",
       "      <td>43.083805</td>\n",
       "      <td>-89.376811</td>\n",
       "      <td>Sophia's Bakery &amp; Cafe</td>\n",
       "      <td>Tenney - Lapham</td>\n",
       "      <td>53703</td>\n",
       "      <td>191</td>\n",
       "      <td>4.0</td>\n",
       "      <td>WI</td>\n",
       "    </tr>\n",
       "    <tr>\n",
       "      <th>1</th>\n",
       "      <td>IXXERocY1bqGwRllcy8J2w</td>\n",
       "      <td>1</td>\n",
       "      <td>2009-08-12</td>\n",
       "      <td>0</td>\n",
       "      <td>naGxxI3feEGAd2osLEPyUw</td>\n",
       "      <td>5</td>\n",
       "      <td>If you can get in the door...go! Go immediatel...</td>\n",
       "      <td>2</td>\n",
       "      <td>dt1n3wmyGvXiLIGav61teg</td>\n",
       "      <td>831 E Johnson St, Ste 4</td>\n",
       "      <td>...</td>\n",
       "      <td>{'Sunday': '8:00-14:00', 'Saturday': '8:00-14:...</td>\n",
       "      <td>0</td>\n",
       "      <td>43.083805</td>\n",
       "      <td>-89.376811</td>\n",
       "      <td>Sophia's Bakery &amp; Cafe</td>\n",
       "      <td>Tenney - Lapham</td>\n",
       "      <td>53703</td>\n",
       "      <td>191</td>\n",
       "      <td>4.0</td>\n",
       "      <td>WI</td>\n",
       "    </tr>\n",
       "    <tr>\n",
       "      <th>2</th>\n",
       "      <td>IXXERocY1bqGwRllcy8J2w</td>\n",
       "      <td>0</td>\n",
       "      <td>2017-06-17</td>\n",
       "      <td>0</td>\n",
       "      <td>6JgLyzYpaA1CUx7QUrZJYw</td>\n",
       "      <td>3</td>\n",
       "      <td>I just came here for the pastries and they wer...</td>\n",
       "      <td>0</td>\n",
       "      <td>fs8zup-cUxKYwH1q6nlNxg</td>\n",
       "      <td>831 E Johnson St, Ste 4</td>\n",
       "      <td>...</td>\n",
       "      <td>{'Sunday': '8:00-14:00', 'Saturday': '8:00-14:...</td>\n",
       "      <td>0</td>\n",
       "      <td>43.083805</td>\n",
       "      <td>-89.376811</td>\n",
       "      <td>Sophia's Bakery &amp; Cafe</td>\n",
       "      <td>Tenney - Lapham</td>\n",
       "      <td>53703</td>\n",
       "      <td>191</td>\n",
       "      <td>4.0</td>\n",
       "      <td>WI</td>\n",
       "    </tr>\n",
       "    <tr>\n",
       "      <th>3</th>\n",
       "      <td>IXXERocY1bqGwRllcy8J2w</td>\n",
       "      <td>0</td>\n",
       "      <td>2013-04-09</td>\n",
       "      <td>0</td>\n",
       "      <td>fdF1ZLdK-wkSx8j9QFoOIw</td>\n",
       "      <td>4</td>\n",
       "      <td>We stopped in here for a Saturday morning brea...</td>\n",
       "      <td>0</td>\n",
       "      <td>Lx5jVCom4-Y0k8duYbEhnw</td>\n",
       "      <td>831 E Johnson St, Ste 4</td>\n",
       "      <td>...</td>\n",
       "      <td>{'Sunday': '8:00-14:00', 'Saturday': '8:00-14:...</td>\n",
       "      <td>0</td>\n",
       "      <td>43.083805</td>\n",
       "      <td>-89.376811</td>\n",
       "      <td>Sophia's Bakery &amp; Cafe</td>\n",
       "      <td>Tenney - Lapham</td>\n",
       "      <td>53703</td>\n",
       "      <td>191</td>\n",
       "      <td>4.0</td>\n",
       "      <td>WI</td>\n",
       "    </tr>\n",
       "    <tr>\n",
       "      <th>4</th>\n",
       "      <td>IXXERocY1bqGwRllcy8J2w</td>\n",
       "      <td>1</td>\n",
       "      <td>2017-01-24</td>\n",
       "      <td>0</td>\n",
       "      <td>OblJyAgrBgjhonvMHzUV3A</td>\n",
       "      <td>5</td>\n",
       "      <td>Amazing breakfast in a super cozy environment!...</td>\n",
       "      <td>2</td>\n",
       "      <td>p6RurvWCPEqR8PP4siwiVA</td>\n",
       "      <td>831 E Johnson St, Ste 4</td>\n",
       "      <td>...</td>\n",
       "      <td>{'Sunday': '8:00-14:00', 'Saturday': '8:00-14:...</td>\n",
       "      <td>0</td>\n",
       "      <td>43.083805</td>\n",
       "      <td>-89.376811</td>\n",
       "      <td>Sophia's Bakery &amp; Cafe</td>\n",
       "      <td>Tenney - Lapham</td>\n",
       "      <td>53703</td>\n",
       "      <td>191</td>\n",
       "      <td>4.0</td>\n",
       "      <td>WI</td>\n",
       "    </tr>\n",
       "  </tbody>\n",
       "</table>\n",
       "<p>5 rows × 23 columns</p>\n",
       "</div>"
      ],
      "text/plain": [
       "              business_id  cool_rev       date  funny_rev  \\\n",
       "0  IXXERocY1bqGwRllcy8J2w         0 2009-08-30          0   \n",
       "1  IXXERocY1bqGwRllcy8J2w         1 2009-08-12          0   \n",
       "2  IXXERocY1bqGwRllcy8J2w         0 2017-06-17          0   \n",
       "3  IXXERocY1bqGwRllcy8J2w         0 2013-04-09          0   \n",
       "4  IXXERocY1bqGwRllcy8J2w         1 2017-01-24          0   \n",
       "\n",
       "                review_id  stars_rev  \\\n",
       "0  nsThIz_-TuvgoFh0o9XJfQ          5   \n",
       "1  naGxxI3feEGAd2osLEPyUw          5   \n",
       "2  6JgLyzYpaA1CUx7QUrZJYw          3   \n",
       "3  fdF1ZLdK-wkSx8j9QFoOIw          4   \n",
       "4  OblJyAgrBgjhonvMHzUV3A          5   \n",
       "\n",
       "                                                text  useful_rev  \\\n",
       "0  Visiting from SF.  Checked yelp and found this...           0   \n",
       "1  If you can get in the door...go! Go immediatel...           2   \n",
       "2  I just came here for the pastries and they wer...           0   \n",
       "3  We stopped in here for a Saturday morning brea...           0   \n",
       "4  Amazing breakfast in a super cozy environment!...           2   \n",
       "\n",
       "                  user_id                  address  ...   \\\n",
       "0  _L2SZSwf7A6YSrIHy_q4cw  831 E Johnson St, Ste 4  ...    \n",
       "1  dt1n3wmyGvXiLIGav61teg  831 E Johnson St, Ste 4  ...    \n",
       "2  fs8zup-cUxKYwH1q6nlNxg  831 E Johnson St, Ste 4  ...    \n",
       "3  Lx5jVCom4-Y0k8duYbEhnw  831 E Johnson St, Ste 4  ...    \n",
       "4  p6RurvWCPEqR8PP4siwiVA  831 E Johnson St, Ste 4  ...    \n",
       "\n",
       "                                               hours is_open   latitude  \\\n",
       "0  {'Sunday': '8:00-14:00', 'Saturday': '8:00-14:...       0  43.083805   \n",
       "1  {'Sunday': '8:00-14:00', 'Saturday': '8:00-14:...       0  43.083805   \n",
       "2  {'Sunday': '8:00-14:00', 'Saturday': '8:00-14:...       0  43.083805   \n",
       "3  {'Sunday': '8:00-14:00', 'Saturday': '8:00-14:...       0  43.083805   \n",
       "4  {'Sunday': '8:00-14:00', 'Saturday': '8:00-14:...       0  43.083805   \n",
       "\n",
       "   longitude                bus_name     neighborhood  postal_code  \\\n",
       "0 -89.376811  Sophia's Bakery & Cafe  Tenney - Lapham        53703   \n",
       "1 -89.376811  Sophia's Bakery & Cafe  Tenney - Lapham        53703   \n",
       "2 -89.376811  Sophia's Bakery & Cafe  Tenney - Lapham        53703   \n",
       "3 -89.376811  Sophia's Bakery & Cafe  Tenney - Lapham        53703   \n",
       "4 -89.376811  Sophia's Bakery & Cafe  Tenney - Lapham        53703   \n",
       "\n",
       "  bus_rev_count stars state  \n",
       "0           191   4.0    WI  \n",
       "1           191   4.0    WI  \n",
       "2           191   4.0    WI  \n",
       "3           191   4.0    WI  \n",
       "4           191   4.0    WI  \n",
       "\n",
       "[5 rows x 23 columns]"
      ]
     },
     "execution_count": 14,
     "metadata": {},
     "output_type": "execute_result"
    }
   ],
   "source": [
    "df_rev_bus.head()"
   ]
  },
  {
   "cell_type": "code",
   "execution_count": 15,
   "metadata": {},
   "outputs": [],
   "source": [
    "df_rev_bus_user = pd.merge(df_rev_bus, df_user, how='left', on=['user_id', 'user_id'])"
   ]
  },
  {
   "cell_type": "code",
   "execution_count": 16,
   "metadata": {},
   "outputs": [
    {
     "name": "stdout",
     "output_type": "stream",
     "text": [
      "Number of rows for business table for concated business, user and review: 2598115\n"
     ]
    }
   ],
   "source": [
    "print(\"Number of rows for business table for concated business, user and review: {}\".format(len(df_rev_bus_user)))"
   ]
  },
  {
   "cell_type": "code",
   "execution_count": 17,
   "metadata": {},
   "outputs": [
    {
     "data": {
      "text/html": [
       "<div>\n",
       "<style scoped>\n",
       "    .dataframe tbody tr th:only-of-type {\n",
       "        vertical-align: middle;\n",
       "    }\n",
       "\n",
       "    .dataframe tbody tr th {\n",
       "        vertical-align: top;\n",
       "    }\n",
       "\n",
       "    .dataframe thead th {\n",
       "        text-align: right;\n",
       "    }\n",
       "</style>\n",
       "<table border=\"1\" class=\"dataframe\">\n",
       "  <thead>\n",
       "    <tr style=\"text-align: right;\">\n",
       "      <th></th>\n",
       "      <th>business_id</th>\n",
       "      <th>cool_rev</th>\n",
       "      <th>date</th>\n",
       "      <th>funny_rev</th>\n",
       "      <th>review_id</th>\n",
       "      <th>stars_rev</th>\n",
       "      <th>text</th>\n",
       "      <th>useful_rev</th>\n",
       "      <th>user_id</th>\n",
       "      <th>address</th>\n",
       "      <th>...</th>\n",
       "      <th>compliment_writer</th>\n",
       "      <th>cool</th>\n",
       "      <th>elite</th>\n",
       "      <th>fans</th>\n",
       "      <th>friends</th>\n",
       "      <th>funny</th>\n",
       "      <th>user_name</th>\n",
       "      <th>user_rev_count</th>\n",
       "      <th>useful</th>\n",
       "      <th>yelping_since</th>\n",
       "    </tr>\n",
       "  </thead>\n",
       "  <tbody>\n",
       "    <tr>\n",
       "      <th>0</th>\n",
       "      <td>IXXERocY1bqGwRllcy8J2w</td>\n",
       "      <td>0</td>\n",
       "      <td>2009-08-30</td>\n",
       "      <td>0</td>\n",
       "      <td>nsThIz_-TuvgoFh0o9XJfQ</td>\n",
       "      <td>5</td>\n",
       "      <td>Visiting from SF.  Checked yelp and found this...</td>\n",
       "      <td>0</td>\n",
       "      <td>_L2SZSwf7A6YSrIHy_q4cw</td>\n",
       "      <td>831 E Johnson St, Ste 4</td>\n",
       "      <td>...</td>\n",
       "      <td>1</td>\n",
       "      <td>0</td>\n",
       "      <td>[]</td>\n",
       "      <td>1</td>\n",
       "      <td>[]</td>\n",
       "      <td>0</td>\n",
       "      <td>Joshua</td>\n",
       "      <td>47</td>\n",
       "      <td>0</td>\n",
       "      <td>2008-04-13</td>\n",
       "    </tr>\n",
       "    <tr>\n",
       "      <th>1</th>\n",
       "      <td>IXXERocY1bqGwRllcy8J2w</td>\n",
       "      <td>1</td>\n",
       "      <td>2009-08-12</td>\n",
       "      <td>0</td>\n",
       "      <td>naGxxI3feEGAd2osLEPyUw</td>\n",
       "      <td>5</td>\n",
       "      <td>If you can get in the door...go! Go immediatel...</td>\n",
       "      <td>2</td>\n",
       "      <td>dt1n3wmyGvXiLIGav61teg</td>\n",
       "      <td>831 E Johnson St, Ste 4</td>\n",
       "      <td>...</td>\n",
       "      <td>9</td>\n",
       "      <td>72</td>\n",
       "      <td>[2010, 2011, 2009]</td>\n",
       "      <td>13</td>\n",
       "      <td>[EQAyuvxamSfn3MGMjy7dsw, UsXqCXRZwSCSw0AT7y1uB...</td>\n",
       "      <td>62</td>\n",
       "      <td>Stephanie</td>\n",
       "      <td>185</td>\n",
       "      <td>92</td>\n",
       "      <td>2008-04-01</td>\n",
       "    </tr>\n",
       "    <tr>\n",
       "      <th>2</th>\n",
       "      <td>IXXERocY1bqGwRllcy8J2w</td>\n",
       "      <td>0</td>\n",
       "      <td>2017-06-17</td>\n",
       "      <td>0</td>\n",
       "      <td>6JgLyzYpaA1CUx7QUrZJYw</td>\n",
       "      <td>3</td>\n",
       "      <td>I just came here for the pastries and they wer...</td>\n",
       "      <td>0</td>\n",
       "      <td>fs8zup-cUxKYwH1q6nlNxg</td>\n",
       "      <td>831 E Johnson St, Ste 4</td>\n",
       "      <td>...</td>\n",
       "      <td>1</td>\n",
       "      <td>0</td>\n",
       "      <td>[2016, 2017]</td>\n",
       "      <td>1</td>\n",
       "      <td>[wd3xoNaDLib8dhQ7BxUl6g, pJyV8I6JsKG_iSzPLvb5A...</td>\n",
       "      <td>3</td>\n",
       "      <td>Tracy</td>\n",
       "      <td>45</td>\n",
       "      <td>15</td>\n",
       "      <td>2011-06-12</td>\n",
       "    </tr>\n",
       "    <tr>\n",
       "      <th>3</th>\n",
       "      <td>IXXERocY1bqGwRllcy8J2w</td>\n",
       "      <td>0</td>\n",
       "      <td>2013-04-09</td>\n",
       "      <td>0</td>\n",
       "      <td>fdF1ZLdK-wkSx8j9QFoOIw</td>\n",
       "      <td>4</td>\n",
       "      <td>We stopped in here for a Saturday morning brea...</td>\n",
       "      <td>0</td>\n",
       "      <td>Lx5jVCom4-Y0k8duYbEhnw</td>\n",
       "      <td>831 E Johnson St, Ste 4</td>\n",
       "      <td>...</td>\n",
       "      <td>1</td>\n",
       "      <td>0</td>\n",
       "      <td>[]</td>\n",
       "      <td>4</td>\n",
       "      <td>[KDG4BYYAOnzErrjyIPbJJw, n6UrsZu9iMw_RZl9X6j7E...</td>\n",
       "      <td>1</td>\n",
       "      <td>Karrey</td>\n",
       "      <td>41</td>\n",
       "      <td>3</td>\n",
       "      <td>2007-12-04</td>\n",
       "    </tr>\n",
       "    <tr>\n",
       "      <th>4</th>\n",
       "      <td>IXXERocY1bqGwRllcy8J2w</td>\n",
       "      <td>1</td>\n",
       "      <td>2017-01-24</td>\n",
       "      <td>0</td>\n",
       "      <td>OblJyAgrBgjhonvMHzUV3A</td>\n",
       "      <td>5</td>\n",
       "      <td>Amazing breakfast in a super cozy environment!...</td>\n",
       "      <td>2</td>\n",
       "      <td>p6RurvWCPEqR8PP4siwiVA</td>\n",
       "      <td>831 E Johnson St, Ste 4</td>\n",
       "      <td>...</td>\n",
       "      <td>26</td>\n",
       "      <td>101</td>\n",
       "      <td>[2016, 2017, 2015]</td>\n",
       "      <td>28</td>\n",
       "      <td>[4KYNUsdA-tPe-iKKudb0uQ, jynGTC7AOwHWFwc44glMf...</td>\n",
       "      <td>59</td>\n",
       "      <td>Emily</td>\n",
       "      <td>480</td>\n",
       "      <td>166</td>\n",
       "      <td>2012-07-29</td>\n",
       "    </tr>\n",
       "  </tbody>\n",
       "</table>\n",
       "<p>5 rows × 44 columns</p>\n",
       "</div>"
      ],
      "text/plain": [
       "              business_id  cool_rev       date  funny_rev  \\\n",
       "0  IXXERocY1bqGwRllcy8J2w         0 2009-08-30          0   \n",
       "1  IXXERocY1bqGwRllcy8J2w         1 2009-08-12          0   \n",
       "2  IXXERocY1bqGwRllcy8J2w         0 2017-06-17          0   \n",
       "3  IXXERocY1bqGwRllcy8J2w         0 2013-04-09          0   \n",
       "4  IXXERocY1bqGwRllcy8J2w         1 2017-01-24          0   \n",
       "\n",
       "                review_id  stars_rev  \\\n",
       "0  nsThIz_-TuvgoFh0o9XJfQ          5   \n",
       "1  naGxxI3feEGAd2osLEPyUw          5   \n",
       "2  6JgLyzYpaA1CUx7QUrZJYw          3   \n",
       "3  fdF1ZLdK-wkSx8j9QFoOIw          4   \n",
       "4  OblJyAgrBgjhonvMHzUV3A          5   \n",
       "\n",
       "                                                text  useful_rev  \\\n",
       "0  Visiting from SF.  Checked yelp and found this...           0   \n",
       "1  If you can get in the door...go! Go immediatel...           2   \n",
       "2  I just came here for the pastries and they wer...           0   \n",
       "3  We stopped in here for a Saturday morning brea...           0   \n",
       "4  Amazing breakfast in a super cozy environment!...           2   \n",
       "\n",
       "                  user_id                  address      ...       \\\n",
       "0  _L2SZSwf7A6YSrIHy_q4cw  831 E Johnson St, Ste 4      ...        \n",
       "1  dt1n3wmyGvXiLIGav61teg  831 E Johnson St, Ste 4      ...        \n",
       "2  fs8zup-cUxKYwH1q6nlNxg  831 E Johnson St, Ste 4      ...        \n",
       "3  Lx5jVCom4-Y0k8duYbEhnw  831 E Johnson St, Ste 4      ...        \n",
       "4  p6RurvWCPEqR8PP4siwiVA  831 E Johnson St, Ste 4      ...        \n",
       "\n",
       "  compliment_writer cool               elite fans  \\\n",
       "0                 1    0                  []    1   \n",
       "1                 9   72  [2010, 2011, 2009]   13   \n",
       "2                 1    0        [2016, 2017]    1   \n",
       "3                 1    0                  []    4   \n",
       "4                26  101  [2016, 2017, 2015]   28   \n",
       "\n",
       "                                             friends  funny  user_name  \\\n",
       "0                                                 []      0     Joshua   \n",
       "1  [EQAyuvxamSfn3MGMjy7dsw, UsXqCXRZwSCSw0AT7y1uB...     62  Stephanie   \n",
       "2  [wd3xoNaDLib8dhQ7BxUl6g, pJyV8I6JsKG_iSzPLvb5A...      3      Tracy   \n",
       "3  [KDG4BYYAOnzErrjyIPbJJw, n6UrsZu9iMw_RZl9X6j7E...      1     Karrey   \n",
       "4  [4KYNUsdA-tPe-iKKudb0uQ, jynGTC7AOwHWFwc44glMf...     59      Emily   \n",
       "\n",
       "  user_rev_count useful yelping_since  \n",
       "0             47      0    2008-04-13  \n",
       "1            185     92    2008-04-01  \n",
       "2             45     15    2011-06-12  \n",
       "3             41      3    2007-12-04  \n",
       "4            480    166    2012-07-29  \n",
       "\n",
       "[5 rows x 44 columns]"
      ]
     },
     "execution_count": 17,
     "metadata": {},
     "output_type": "execute_result"
    }
   ],
   "source": [
    "df_rev_bus_user.head()"
   ]
  },
  {
   "cell_type": "code",
   "execution_count": 18,
   "metadata": {},
   "outputs": [
    {
     "name": "stdout",
     "output_type": "stream",
     "text": [
      "<class 'pandas.core.frame.DataFrame'>\n",
      "Int64Index: 2598115 entries, 0 to 2598114\n",
      "Data columns (total 44 columns):\n",
      "business_id           object\n",
      "cool_rev              int64\n",
      "date                  datetime64[ns]\n",
      "funny_rev             int64\n",
      "review_id             object\n",
      "stars_rev             int64\n",
      "text                  object\n",
      "useful_rev            int64\n",
      "user_id               object\n",
      "address               object\n",
      "attributes            object\n",
      "categories            object\n",
      "city                  object\n",
      "hours                 object\n",
      "is_open               int64\n",
      "latitude              float64\n",
      "longitude             float64\n",
      "bus_name              object\n",
      "neighborhood          object\n",
      "postal_code           object\n",
      "bus_rev_count         int64\n",
      "stars                 float64\n",
      "state                 object\n",
      "average_stars         float64\n",
      "compliment_cool       int64\n",
      "compliment_cute       int64\n",
      "compliment_funny      int64\n",
      "compliment_hot        int64\n",
      "compliment_list       int64\n",
      "compliment_more       int64\n",
      "compliment_note       int64\n",
      "compliment_photos     int64\n",
      "compliment_plain      int64\n",
      "compliment_profile    int64\n",
      "compliment_writer     int64\n",
      "cool                  int64\n",
      "elite                 object\n",
      "fans                  int64\n",
      "friends               object\n",
      "funny                 int64\n",
      "user_name             object\n",
      "user_rev_count        int64\n",
      "useful                int64\n",
      "yelping_since         object\n",
      "dtypes: datetime64[ns](1), float64(4), int64(22), object(17)\n",
      "memory usage: 892.0+ MB\n"
     ]
    }
   ],
   "source": [
    "df_rev_bus_user.info()"
   ]
  },
  {
   "cell_type": "code",
   "execution_count": 20,
   "metadata": {},
   "outputs": [],
   "source": [
    "# with open(\"df_rev_bus_user.pickle\", \"wb\") as f:\n",
    "#     pickle.dump(df_rev_bus_user, f)"
   ]
  },
  {
   "cell_type": "code",
   "execution_count": 21,
   "metadata": {},
   "outputs": [],
   "source": [
    "with open(\"df_rev_bus_user.pickle\", \"rb\") as f:\n",
    "    df_loaded = pickle.load(f)"
   ]
  },
  {
   "cell_type": "code",
   "execution_count": 23,
   "metadata": {},
   "outputs": [
    {
     "data": {
      "text/html": [
       "<div>\n",
       "<style scoped>\n",
       "    .dataframe tbody tr th:only-of-type {\n",
       "        vertical-align: middle;\n",
       "    }\n",
       "\n",
       "    .dataframe tbody tr th {\n",
       "        vertical-align: top;\n",
       "    }\n",
       "\n",
       "    .dataframe thead th {\n",
       "        text-align: right;\n",
       "    }\n",
       "</style>\n",
       "<table border=\"1\" class=\"dataframe\">\n",
       "  <thead>\n",
       "    <tr style=\"text-align: right;\">\n",
       "      <th></th>\n",
       "      <th>stars_rev</th>\n",
       "    </tr>\n",
       "    <tr>\n",
       "      <th>state</th>\n",
       "      <th></th>\n",
       "    </tr>\n",
       "  </thead>\n",
       "  <tbody>\n",
       "    <tr>\n",
       "      <th>AK</th>\n",
       "      <td>21</td>\n",
       "    </tr>\n",
       "    <tr>\n",
       "      <th>AZ</th>\n",
       "      <td>920258</td>\n",
       "    </tr>\n",
       "    <tr>\n",
       "      <th>CA</th>\n",
       "      <td>4</td>\n",
       "    </tr>\n",
       "    <tr>\n",
       "      <th>CO</th>\n",
       "      <td>6</td>\n",
       "    </tr>\n",
       "    <tr>\n",
       "      <th>IL</th>\n",
       "      <td>24174</td>\n",
       "    </tr>\n",
       "    <tr>\n",
       "      <th>IN</th>\n",
       "      <td>25</td>\n",
       "    </tr>\n",
       "    <tr>\n",
       "      <th>NC</th>\n",
       "      <td>201416</td>\n",
       "    </tr>\n",
       "    <tr>\n",
       "      <th>NV</th>\n",
       "      <td>1041803</td>\n",
       "    </tr>\n",
       "    <tr>\n",
       "      <th>NY</th>\n",
       "      <td>79</td>\n",
       "    </tr>\n",
       "    <tr>\n",
       "      <th>OH</th>\n",
       "      <td>169961</td>\n",
       "    </tr>\n",
       "    <tr>\n",
       "      <th>PA</th>\n",
       "      <td>158518</td>\n",
       "    </tr>\n",
       "    <tr>\n",
       "      <th>SC</th>\n",
       "      <td>6808</td>\n",
       "    </tr>\n",
       "    <tr>\n",
       "      <th>VA</th>\n",
       "      <td>3</td>\n",
       "    </tr>\n",
       "    <tr>\n",
       "      <th>WI</th>\n",
       "      <td>75039</td>\n",
       "    </tr>\n",
       "  </tbody>\n",
       "</table>\n",
       "</div>"
      ],
      "text/plain": [
       "       stars_rev\n",
       "state           \n",
       "AK            21\n",
       "AZ        920258\n",
       "CA             4\n",
       "CO             6\n",
       "IL         24174\n",
       "IN            25\n",
       "NC        201416\n",
       "NV       1041803\n",
       "NY            79\n",
       "OH        169961\n",
       "PA        158518\n",
       "SC          6808\n",
       "VA             3\n",
       "WI         75039"
      ]
     },
     "execution_count": 23,
     "metadata": {},
     "output_type": "execute_result"
    }
   ],
   "source": [
    "df_loaded[[\"state\", \"stars_rev\"]].groupby(\"state\").count()"
   ]
  },
  {
   "cell_type": "code",
   "execution_count": 24,
   "metadata": {},
   "outputs": [
    {
     "data": {
      "text/html": [
       "<div>\n",
       "<style scoped>\n",
       "    .dataframe tbody tr th:only-of-type {\n",
       "        vertical-align: middle;\n",
       "    }\n",
       "\n",
       "    .dataframe tbody tr th {\n",
       "        vertical-align: top;\n",
       "    }\n",
       "\n",
       "    .dataframe thead th {\n",
       "        text-align: right;\n",
       "    }\n",
       "</style>\n",
       "<table border=\"1\" class=\"dataframe\">\n",
       "  <thead>\n",
       "    <tr style=\"text-align: right;\">\n",
       "      <th></th>\n",
       "      <th>text</th>\n",
       "      <th>stars_rev</th>\n",
       "    </tr>\n",
       "  </thead>\n",
       "  <tbody>\n",
       "    <tr>\n",
       "      <th>0</th>\n",
       "      <td>Visiting from SF.  Checked yelp and found this...</td>\n",
       "      <td>5</td>\n",
       "    </tr>\n",
       "    <tr>\n",
       "      <th>1</th>\n",
       "      <td>If you can get in the door...go! Go immediatel...</td>\n",
       "      <td>5</td>\n",
       "    </tr>\n",
       "    <tr>\n",
       "      <th>4</th>\n",
       "      <td>Amazing breakfast in a super cozy environment!...</td>\n",
       "      <td>5</td>\n",
       "    </tr>\n",
       "    <tr>\n",
       "      <th>5</th>\n",
       "      <td>My boyfriend and I just moved a few blocks awa...</td>\n",
       "      <td>5</td>\n",
       "    </tr>\n",
       "    <tr>\n",
       "      <th>6</th>\n",
       "      <td>Great food!! I am a big fan of pancakes..they ...</td>\n",
       "      <td>5</td>\n",
       "    </tr>\n",
       "  </tbody>\n",
       "</table>\n",
       "</div>"
      ],
      "text/plain": [
       "                                                text  stars_rev\n",
       "0  Visiting from SF.  Checked yelp and found this...          5\n",
       "1  If you can get in the door...go! Go immediatel...          5\n",
       "4  Amazing breakfast in a super cozy environment!...          5\n",
       "5  My boyfriend and I just moved a few blocks awa...          5\n",
       "6  Great food!! I am a big fan of pancakes..they ...          5"
      ]
     },
     "execution_count": 24,
     "metadata": {},
     "output_type": "execute_result"
    }
   ],
   "source": [
    "df = df_loaded[[\"text\", \"stars_rev\"]][df_loaded[\"state\"]==\"WI\"]\n",
    "df = df[df.stars_rev.isin([1,5])]\n",
    "df.head()"
   ]
  },
  {
   "cell_type": "code",
   "execution_count": 25,
   "metadata": {},
   "outputs": [],
   "source": [
    "y = df[\"stars_rev\"].values\n",
    "corpus = df[\"text\"].values"
   ]
  },
  {
   "cell_type": "code",
   "execution_count": 26,
   "metadata": {},
   "outputs": [
    {
     "name": "stdout",
     "output_type": "stream",
     "text": [
      "Number of words reviews in corpus: 32850\n"
     ]
    }
   ],
   "source": [
    "print(\"Number of words reviews in corpus: {}\".format(len(corpus)))"
   ]
  },
  {
   "cell_type": "code",
   "execution_count": 27,
   "metadata": {},
   "outputs": [
    {
     "data": {
      "text/plain": [
       "'If you can get in the door...go! Go immediately. Everything here is good. Literally, everything.\\n\\nCute little neighborhoody spot with excellent homemade food. What more do you need?'"
      ]
     },
     "execution_count": 27,
     "metadata": {},
     "output_type": "execute_result"
    }
   ],
   "source": [
    "corpus[1]"
   ]
  },
  {
   "cell_type": "code",
   "execution_count": 33,
   "metadata": {},
   "outputs": [],
   "source": [
    "# nltk.download('stopwords')\n",
    "# nltk.download('wordnet')"
   ]
  },
  {
   "cell_type": "code",
   "execution_count": 34,
   "metadata": {},
   "outputs": [],
   "source": [
    "sw = set(stopwords.words(\"english\"))\n",
    "tokenizer = RegexpTokenizer(\"[\\w']+\")\n",
    "lemma = WordNetLemmatizer()"
   ]
  },
  {
   "cell_type": "code",
   "execution_count": 35,
   "metadata": {},
   "outputs": [],
   "source": [
    "cleaned = util.clean_stem(corpus, tokenizer, lemma, sw)"
   ]
  },
  {
   "cell_type": "code",
   "execution_count": 36,
   "metadata": {},
   "outputs": [
    {
     "data": {
      "text/plain": [
       "'get door go go immediately everything good literally everything cute little neighborhoody spot excellent homemade food need'"
      ]
     },
     "execution_count": 36,
     "metadata": {},
     "output_type": "execute_result"
    }
   ],
   "source": [
    "cleaned[1]"
   ]
  },
  {
   "cell_type": "code",
   "execution_count": 37,
   "metadata": {},
   "outputs": [
    {
     "name": "stdout",
     "output_type": "stream",
     "text": [
      "Number of words before cleaning, and removing stopwords: 176\n",
      "Number of words after cleaning, and removing stopwords: 80\n"
     ]
    }
   ],
   "source": [
    "print(\"Number of words before cleaning, and removing stopwords: {}\".format(len(corpus[3].split())))\n",
    "print(\"Number of words after cleaning, and removing stopwords: {}\".format(len(cleaned[3].split())))"
   ]
  },
  {
   "cell_type": "code",
   "execution_count": 38,
   "metadata": {},
   "outputs": [],
   "source": [
    "X_train, X_test, y_train, y_test = train_test_split(cleaned, y, test_size=0.25, random_state=1)"
   ]
  },
  {
   "cell_type": "markdown",
   "metadata": {},
   "source": [
    "### LogisticRegression Linear model"
   ]
  },
  {
   "cell_type": "code",
   "execution_count": 39,
   "metadata": {},
   "outputs": [],
   "source": [
    "model = ReviewClassifier()\n",
    "model.fit(X_train, y_train)\n",
    "y_pred = model.predict(X_test)"
   ]
  },
  {
   "cell_type": "code",
   "execution_count": 40,
   "metadata": {},
   "outputs": [],
   "source": [
    "#Estimating metrics\n",
    "matrix, recall, precision, accuracy = model.metrics_eval(X_test, y_test)"
   ]
  },
  {
   "cell_type": "code",
   "execution_count": 41,
   "metadata": {},
   "outputs": [
    {
     "data": {
      "text/plain": [
       "array([[6373,  216],\n",
       "       [  45, 1579]])"
      ]
     },
     "execution_count": 41,
     "metadata": {},
     "output_type": "execute_result"
    }
   ],
   "source": [
    "#confusion matrix\n",
    "matrix"
   ]
  },
  {
   "cell_type": "code",
   "execution_count": 42,
   "metadata": {},
   "outputs": [
    {
     "name": "stdout",
     "output_type": "stream",
     "text": [
      "Recall: 99.3%\n",
      "Precision: 96.72%\n",
      "Accuracy: 96.82%\n"
     ]
    }
   ],
   "source": [
    "print(\"Recall: {}%\".format(round(recall*100, 2)))\n",
    "print(\"Precision: {}%\".format(round(precision*100, 2)))\n",
    "print(\"Accuracy: {}%\".format(round(accuracy*100, 2)))"
   ]
  },
  {
   "cell_type": "code",
   "execution_count": 43,
   "metadata": {},
   "outputs": [],
   "source": [
    "# terms = tfidf_vectorizer.get_feature_names()\n",
    "pos_terms, neg_terms = model.feature_importance(40)"
   ]
  },
  {
   "cell_type": "code",
   "execution_count": 44,
   "metadata": {},
   "outputs": [
    {
     "data": {
      "text/plain": [
       "[('great', 9.57975081879562),\n",
       " ('delicious', 9.38296689965393),\n",
       " ('amazing', 7.998994604270863),\n",
       " ('best', 7.613248817171768),\n",
       " ('excellent', 6.645650568811974),\n",
       " ('love', 6.57159629737535),\n",
       " ('favorite', 5.556088442560377),\n",
       " ('awesome', 5.474552090037139),\n",
       " ('friendly', 5.219245884142318),\n",
       " ('perfect', 5.096953690012071),\n",
       " ('fantastic', 4.909103211761554),\n",
       " ('definitely', 4.61809078744986),\n",
       " ('madison', 4.246299186881866),\n",
       " ('loved', 3.9873396197406983),\n",
       " ('wonderful', 3.882704168220944),\n",
       " ('good', 3.8008518562640856),\n",
       " ('fresh', 3.7671426807948025),\n",
       " ('happy', 3.596436612652645),\n",
       " ('tasty', 3.2066045006516304),\n",
       " ('highly', 3.1803293674696396),\n",
       " ('nice', 3.1446258400230462),\n",
       " ('perfectly', 3.0741142505397336),\n",
       " ('ve', 2.878436134684913),\n",
       " ('outstanding', 2.7955199705815335),\n",
       " ('fast', 2.6471960333073823),\n",
       " ('attentive', 2.635608474840335),\n",
       " ('yummy', 2.4970866185218163),\n",
       " ('incredible', 2.4782185532579937),\n",
       " ('thank', 2.478125945605743),\n",
       " ('enjoyed', 2.4584616233510452),\n",
       " ('bit', 2.3932404759943307),\n",
       " ('helpful', 2.3819558757613857),\n",
       " ('yum', 2.334487054158426),\n",
       " ('fun', 2.299706746821575),\n",
       " ('little', 2.2993232855292853),\n",
       " ('quick', 2.2819108713197434),\n",
       " ('spicy', 2.2338380008882037),\n",
       " ('dessert', 2.1949171571699564),\n",
       " ('glad', 2.151848528735089),\n",
       " ('notch', 2.1435829922709075)]"
      ]
     },
     "execution_count": 44,
     "metadata": {},
     "output_type": "execute_result"
    }
   ],
   "source": [
    "pos_terms"
   ]
  },
  {
   "cell_type": "code",
   "execution_count": 45,
   "metadata": {},
   "outputs": [
    {
     "data": {
      "text/plain": [
       "[('worst', -7.74994072623874),\n",
       " ('terrible', -6.053571766016687),\n",
       " ('horrible', -5.575444486335062),\n",
       " ('bland', -5.553179818400163),\n",
       " ('awful', -5.145224669519964),\n",
       " ('rude', -4.870378822521587),\n",
       " ('poor', -4.762198649064376),\n",
       " ('bad', -4.656694933621101),\n",
       " ('disappointing', -4.54571494075015),\n",
       " ('mediocre', -4.538336935668043),\n",
       " ('minute', -4.0359891403010755),\n",
       " ('disgusting', -3.7946771124100733),\n",
       " ('told', -3.7713207447665327),\n",
       " ('tasted', -3.6806940834925204),\n",
       " ('dry', -3.636304113956775),\n",
       " ('asked', -3.605506352434058),\n",
       " ('ok', -3.5373137593977697),\n",
       " ('cold', -3.5113604264720757),\n",
       " ('overpriced', -3.4153196528783436),\n",
       " ('money', -3.3832639060743532),\n",
       " ('tasteless', -3.3583873653529706),\n",
       " ('slow', -3.276039331478002),\n",
       " ('ordered', -3.0530704400781996),\n",
       " ('gross', -3.0369922634684996),\n",
       " ('customer', -2.967453375738919),\n",
       " ('dirty', -2.9208509746794333),\n",
       " ('worse', -2.870073909389745),\n",
       " ('waste', -2.8637168929830947),\n",
       " ('left', -2.852894333999694),\n",
       " ('flavorless', -2.822794524736792),\n",
       " ('unfortunately', -2.7461364243855826),\n",
       " ('sick', -2.7170558337555226),\n",
       " ('suck', -2.6747650699152974),\n",
       " ('charged', -2.626220233388613),\n",
       " ('waited', -2.5969962217546305),\n",
       " ('manager', -2.58025180389153),\n",
       " ('soggy', -2.5606643528956474),\n",
       " ('average', -2.5291797997783565),\n",
       " ('said', -2.5259604082598948),\n",
       " ('sorry', -2.4713198045892386)]"
      ]
     },
     "execution_count": 45,
     "metadata": {},
     "output_type": "execute_result"
    }
   ],
   "source": [
    "neg_terms"
   ]
  },
  {
   "cell_type": "markdown",
   "metadata": {},
   "source": [
    "# Auto Run Model\n",
    "Making the same model for different states to compare the results"
   ]
  },
  {
   "cell_type": "code",
   "execution_count": 373,
   "metadata": {},
   "outputs": [
    {
     "name": "stdout",
     "output_type": "stream",
     "text": [
      "Results for Wisconsin \n",
      " \n",
      " \n",
      "\n",
      "Number of reviews: 55157 \n",
      "\n",
      "Confusion matrix\n",
      "[[10640   405]\n",
      " [  120  2625]] \n",
      "\n",
      "Recall: 98.88%\n",
      "Precision: 96.33%\n",
      "Accuracy: 96.19%\n",
      "\n",
      " \n",
      " \n",
      "\n",
      "Words customers who gave 5-star reviews used to describe their experience\n",
      "-------------------------------------------------------------------------\n",
      "\n",
      "[('great', 11.918063610635928), ('delicious', 9.15846624350258), ('amazing', 9.108444822681339), ('best', 8.785648653672276), ('love', 7.884596799856354), ('excellent', 7.380554061532158), ('friendly', 7.239506090233238), ('awesome', 7.078837732238894), ('favorite', 6.11033844055204), ('fantastic', 5.955985175124009), ('definitely', 5.833372631002553), ('perfect', 5.812167928526164), ('highly', 5.372033433742466), ('wonderful', 5.310951213548079), ('helpful', 5.180323342545173)]\n",
      "\n",
      " Words customers who gave 1-star reviews used to describe their experience\n",
      "-------------------------------------------------------------------------\n",
      "\n",
      "[('worst', -9.417307446562724), ('rude', -7.254208288925045), ('terrible', -7.19318658216646), ('horrible', -7.157988364381732), ('awful', -6.2043250366497045), ('poor', -5.693421651175625), ('disappointing', -5.535372448055117), ('told', -5.499558460305277), ('bland', -5.014704587401715), ('money', -4.655837747351322), ('worse', -4.642220210691135), ('bad', -4.639810456068375), ('mediocre', -4.524210752742163), ('disgusting', -4.277294701499967), ('overpriced', -4.244512782871144)]\n"
     ]
    }
   ],
   "source": [
    "main(df, tokenizer, lemma, sw, 0, 0.25, length=15, state=\"Wisconsin\")"
   ]
  },
  {
   "cell_type": "code",
   "execution_count": 374,
   "metadata": {},
   "outputs": [
    {
     "name": "stdout",
     "output_type": "stream",
     "text": [
      "Results for Arizona \n",
      " \n",
      " \n",
      "\n",
      "Number of reviews: 1038818 \n",
      "\n",
      "Confusion matrix\n",
      "[[193999   3763]\n",
      " [  2611  59332]] \n",
      "\n",
      "Recall: 98.67%\n",
      "Precision: 98.1%\n",
      "Accuracy: 97.55%\n",
      "\n",
      " \n",
      " \n",
      "\n",
      "Words customers who gave 5-star reviews used to describe their experience\n",
      "-------------------------------------------------------------------------\n",
      "\n",
      "[('amazing', 19.6719346027785), ('great', 19.32902226906336), ('delicious', 16.88613329157572), ('awesome', 16.129022182083936), ('best', 16.116367795263454), ('excellent', 15.37953809001517), ('love', 13.914191620913266), ('fantastic', 13.34641733423221), ('highly', 12.44317525840575), ('perfect', 12.091366679215342), ('wonderful', 11.41347273347534), ('thank', 11.117911838963401), ('friendly', 10.431761008889426), ('favorite', 10.18008766168488), ('outstanding', 9.775512014620181)]\n",
      "\n",
      " Words customers who gave 1-star reviews used to describe their experience\n",
      "-------------------------------------------------------------------------\n",
      "\n",
      "[('worst', -18.459755659413492), ('rude', -14.90168946839381), ('horrible', -13.937410068115849), ('terrible', -12.810883513357055), ('unprofessional', -11.643698615766883), ('disappointing', -11.488447775780884), ('awful', -11.131807804766888), ('mediocre', -10.747091498831184), ('bland', -10.692797926091258), ('poor', -10.207634405547228), ('disgusting', -9.544513269751292), ('overpriced', -8.670888988989397), ('worse', -8.613004967518258), ('disappointment', -8.553650596127387), ('beware', -8.480831733077956)]\n"
     ]
    }
   ],
   "source": [
    "#Model for the state of Arizona\n",
    "df_AZ = df_loaded[[\"text\", \"stars_rev\"]][df_loaded[\"state\"]==\"AZ\"]\n",
    "df_AZ = df_AZ[df_AZ.stars_rev.isin([1,5])]\n",
    "main(df_AZ, tokenizer, lemma, sw, 0, 0.25, length=15, state=\"Arizona\")"
   ]
  },
  {
   "cell_type": "code",
   "execution_count": 375,
   "metadata": {},
   "outputs": [
    {
     "name": "stdout",
     "output_type": "stream",
     "text": [
      "Results for Ohio \n",
      " \n",
      " \n",
      "\n",
      "Number of reviews: 131339 \n",
      "\n",
      "Confusion matrix\n",
      "[[24209   704]\n",
      " [  319  7603]] \n",
      "\n",
      "Recall: 98.7%\n",
      "Precision: 97.17%\n",
      "Accuracy: 96.88%\n",
      "\n",
      " \n",
      " \n",
      "\n",
      "Words customers who gave 5-star reviews used to describe their experience\n",
      "-------------------------------------------------------------------------\n",
      "\n",
      "[('great', 14.443662254816445), ('amazing', 12.67525334160076), ('delicious', 11.800561362739435), ('best', 10.829041833457147), ('awesome', 9.558090033999711), ('love', 9.523236920027967), ('excellent', 9.369449848374458), ('friendly', 8.283639107664829), ('fantastic', 7.906870417092124), ('perfect', 7.894486700596728), ('favorite', 7.606809566296745), ('wonderful', 7.383925332228567), ('definitely', 6.520530741767503), ('highly', 6.091919707351109), ('helpful', 5.874499727542064), ('loved', 5.673115940686643), ('outstanding', 5.522407102726918), ('professional', 5.03997836271425), ('happy', 4.945310848737193), ('reasonable', 4.809424172829807), ('fast', 4.756404768674666), ('cleveland', 4.755331321013435), ('perfectly', 4.701290230411495), ('good', 4.698818759362104), ('fresh', 4.692631681141652)]\n",
      "\n",
      " Words customers who gave 1-star reviews used to describe their experience\n",
      "-------------------------------------------------------------------------\n",
      "\n",
      "[('worst', -11.743542046136822), ('horrible', -9.437784103827967), ('terrible', -9.371181868324241), ('rude', -8.973605273735785), ('awful', -7.069874345558637), ('disappointing', -7.0507938305012585), ('bland', -6.807000419188076), ('poor', -6.790440377520613), ('told', -6.596095142680952), ('mediocre', -6.47402676751375), ('overpriced', -5.9587556401406445), ('dirty', -5.71050948257318), ('waste', -5.6304426378563095), ('worse', -5.608511926749506), ('money', -5.366322020745469), ('disgusting', -5.360382901467979), ('slow', -5.35963253844512), ('asked', -5.061601429338084), ('cold', -4.984642420800639), ('dry', -4.850421239685533), ('unprofessional', -4.808584625379055), ('gross', -4.743486350539431), ('bad', -4.712949719628142), ('ok', -4.63637135517012), ('charged', -4.528788995543359)]\n"
     ]
    }
   ],
   "source": [
    "#Model for the state of Ohio\n",
    "df_OH = df_loaded[[\"text\", \"stars_rev\"]][df_loaded[\"state\"]==\"OH\"]\n",
    "df_OH = df_OH[df_OH.stars_rev.isin([1,5])]\n",
    "main(df_OH, tokenizer, lemma, sw, 0, 0.25, length=25, state=\"Ohio\")"
   ]
  },
  {
   "cell_type": "code",
   "execution_count": null,
   "metadata": {},
   "outputs": [],
   "source": []
  },
  {
   "cell_type": "markdown",
   "metadata": {},
   "source": [
    "### Testing"
   ]
  },
  {
   "cell_type": "code",
   "execution_count": 314,
   "metadata": {},
   "outputs": [
    {
     "data": {
      "text/plain": [
       "32472"
      ]
     },
     "execution_count": 314,
     "metadata": {},
     "output_type": "execute_result"
    }
   ],
   "source": [
    "unique_id = pd.unique(df_loaded[\"business_id\"])\n",
    "len(unique_id)"
   ]
  },
  {
   "cell_type": "code",
   "execution_count": 321,
   "metadata": {},
   "outputs": [],
   "source": [
    "#Model for the state of Florida\n",
    "df_IL = df_loaded[[\"text\", \"stars_rev\"]][df_loaded[\"business_id\"]==unique_id[0]]\n",
    "df_IL = df_IL[df_IL.stars_rev.isin([1,5])]\n",
    "y = df_IL[\"stars_rev\"].values\n",
    "IL_corpus = util.clean_stem(df_IL[\"text\"].values, tokenizer, lemma, sw)"
   ]
  },
  {
   "cell_type": "code",
   "execution_count": 322,
   "metadata": {},
   "outputs": [
    {
     "data": {
      "text/plain": [
       "112"
      ]
     },
     "execution_count": 322,
     "metadata": {},
     "output_type": "execute_result"
    }
   ],
   "source": [
    "len(IL_corpus)"
   ]
  },
  {
   "cell_type": "code",
   "execution_count": 323,
   "metadata": {},
   "outputs": [
    {
     "data": {
      "text/plain": [
       "\"boyfriend moved block away sophia's thought we'd try morning glad ratatouille omelette grilled zucchini eggplant red pepper caramelized onion basil asiago oh god fantastic asiago really set earthy flavor grilled veggie potato side tasty well nice brown boyfriend sweet corn chorizo omelette leek cheddar jack tasted sort jealous good told best omelette ever way picked croissant blueberry muffin croissant get warm baked happy thing walk home munching fresh croissant cash worry grocery store across street atm get cozy neighbor fun\""
      ]
     },
     "execution_count": 323,
     "metadata": {},
     "output_type": "execute_result"
    }
   ],
   "source": [
    "IL_corpus[3]"
   ]
  },
  {
   "cell_type": "code",
   "execution_count": 324,
   "metadata": {},
   "outputs": [],
   "source": [
    "#Estimating metrics\n",
    "matrix, recall, precision, accuracy = model.metrics_eval(IL_corpus, y)"
   ]
  },
  {
   "cell_type": "code",
   "execution_count": 325,
   "metadata": {},
   "outputs": [
    {
     "data": {
      "text/plain": [
       "array([[105,   2],\n",
       "       [  0,   5]])"
      ]
     },
     "execution_count": 325,
     "metadata": {},
     "output_type": "execute_result"
    }
   ],
   "source": [
    "#confusion matrix\n",
    "matrix"
   ]
  },
  {
   "cell_type": "code",
   "execution_count": 326,
   "metadata": {},
   "outputs": [
    {
     "name": "stdout",
     "output_type": "stream",
     "text": [
      "Recall: 100.0%\n",
      "Precision: 98.13%\n",
      "Accuracy: 98.21%\n"
     ]
    }
   ],
   "source": [
    "print(\"Recall: {}%\".format(round(recall*100, 2)))\n",
    "print(\"Precision: {}%\".format(round(precision*100, 2)))\n",
    "print(\"Accuracy: {}%\".format(round(accuracy*100, 2)))"
   ]
  },
  {
   "cell_type": "code",
   "execution_count": 386,
   "metadata": {},
   "outputs": [],
   "source": [
    "#Selecting restaurant by restaurant ID\n",
    "df_rest = df_loaded[[\"text\", \"stars_rev\"]][df_loaded[\"business_id\"]==unique_id[18]]\n",
    "df_rest = df_rest[df_rest.stars_rev.isin([1,5])]\n",
    "y_rest = df_rest[\"stars_rev\"].values\n",
    "rest_corpus = util.clean_stem(df_rest[\"text\"].values, tokenizer, lemma, sw)"
   ]
  },
  {
   "cell_type": "code",
   "execution_count": 390,
   "metadata": {},
   "outputs": [
    {
     "data": {
      "text/plain": [
       "103"
      ]
     },
     "execution_count": 390,
     "metadata": {},
     "output_type": "execute_result"
    }
   ],
   "source": [
    "len(rest_corpus)"
   ]
  },
  {
   "cell_type": "code",
   "execution_count": 391,
   "metadata": {},
   "outputs": [],
   "source": [
    "df_neg, lst_neg = util.service_section(rest_corpus, neg_terms)\n",
    "df_pos, lst_pos = util.service_section(rest_corpus, pos_terms)"
   ]
  },
  {
   "cell_type": "code",
   "execution_count": 392,
   "metadata": {
    "scrolled": true
   },
   "outputs": [
    {
     "data": {
      "text/plain": [
       "[('waited', array(['waited', 'waited', 'waited', 'waited', 'waited', 'said'],\n",
       "        dtype='<U13')),\n",
       " ('drink',\n",
       "  array(['tasted', 'ordered', 'horrible', 'said', 'ordered'], dtype='<U13')),\n",
       " ('like',\n",
       "  array(['dirty', 'tasted', 'tasted', 'tasted', 'tasted'], dtype='<U13')),\n",
       " ('service', array(['poor', 'worst', 'customer', 'bad'], dtype='<U13')),\n",
       " ('chicken', array(['bland', 'ordered', 'ordered', 'ordered'], dtype='<U13')),\n",
       " ('server', array(['waited', 'minute', 'told', 'minute'], dtype='<U13')),\n",
       " ('wait', array(['minute', 'minute', 'minute'], dtype='<U13')),\n",
       " ('corned', array(['ordered', 'ordered', 'ordered'], dtype='<U13')),\n",
       " ('fried', array(['ordered', 'ordered', 'ordered'], dtype='<U13')),\n",
       " ('table', array(['dirty', 'dirty', 'terrible'], dtype='<U13')),\n",
       " ('experience', array(['worst', 'worst', 'awful'], dtype='<U13')),\n",
       " ('time', array(['waste', 'minute', 'left'], dtype='<U13')),\n",
       " ('minute', array(['waited', 'waited', 'waited'], dtype='<U13')),\n",
       " ('biscuit', array(['dry', 'dry'], dtype='<U13')),\n",
       " ('burger', array(['ordered', 'flavorless'], dtype='<U13'))]"
      ]
     },
     "execution_count": 392,
     "metadata": {},
     "output_type": "execute_result"
    }
   ],
   "source": [
    "lst_neg[:15]"
   ]
  },
  {
   "cell_type": "code",
   "execution_count": 393,
   "metadata": {},
   "outputs": [
    {
     "data": {
      "text/plain": [
       "[('food',\n",
       "  array(['helpful', 'outstanding', 'good', 'great', 'fun', 'good', 'fast',\n",
       "         'favorite', 'amazing', 'great', 'great', 'love', 'great',\n",
       "         'amazing', 'delicious', 'awesome'], dtype='<U11')),\n",
       " ('view', array(['great', 'nice', 'fantastic', 'nice', 'great', 'great',\n",
       "         'wonderful', 'excellent', 'fresh', 'love'], dtype='<U11')),\n",
       " ('portion',\n",
       "  array(['awesome', 'good', 'delicious', 'outstanding', 'good', 'amazing',\n",
       "         'great', 'nice', 'delicious'], dtype='<U11')),\n",
       " ('service', array(['outstanding', 'great', 'friendly', 'good', 'good', 'good',\n",
       "         'great', 'best', 'great'], dtype='<U11')),\n",
       " ('place', array(['love', 'great', 'great', 'love', 'love', 'love', 'perfect'],\n",
       "        dtype='<U11')),\n",
       " ('well', array(['good', 'amazing', 'delicious', 'amazing', 'incredible',\n",
       "         'definitely', 'delicious'], dtype='<U11')),\n",
       " ('thing',\n",
       "  array(['good', 'little', 'good', 'best', 'good', 'good'], dtype='<U11')),\n",
       " ('breakfast',\n",
       "  array(['best', 'good', 'love', 'fantastic', 'good'], dtype='<U11')),\n",
       " ('great', array(['enjoyed', 'good', 'favorite', 'delicious'], dtype='<U11')),\n",
       " ('idea', array(['good', 'good', 'good'], dtype='<U11')),\n",
       " ('pancake', array(['delicious', 'best', 'love'], dtype='<U11')),\n",
       " ('hour', array(['happy', 'happy', 'happy'], dtype='<U11')),\n",
       " ('dish', array(['favorite', 'wonderful', 'loved'], dtype='<U11')),\n",
       " ('pork', array(['favorite', 'amazing', 'love'], dtype='<U11')),\n",
       " ('price', array(['great', 'great', 'great'], dtype='<U11'))]"
      ]
     },
     "execution_count": 393,
     "metadata": {},
     "output_type": "execute_result"
    }
   ],
   "source": [
    "lst_pos[:15]"
   ]
  },
  {
   "cell_type": "code",
   "execution_count": 394,
   "metadata": {},
   "outputs": [
    {
     "data": {
      "text/plain": [
       "<matplotlib.axes._subplots.AxesSubplot at 0x7f10a43b5358>"
      ]
     },
     "execution_count": 394,
     "metadata": {},
     "output_type": "execute_result"
    },
    {
     "data": {
      "image/png": "[encoded data removed]",
      "text/plain": [
       "<Figure size 1008x504 with 1 Axes>"
      ]
     },
     "metadata": {},
     "output_type": "display_data"
    },
    {
     "data": {
      "image/png": "[encoded data removed]",
      "text/plain": [
       "<Figure size 1008x504 with 1 Axes>"
      ]
     },
     "metadata": {},
     "output_type": "display_data"
    }
   ],
   "source": [
    "df_neg.plot(\"Section\", \"Level of experience\", kind=\"barh\", figsize=(14,7), legend=True)\n",
    "df_pos.plot(\"Section\", \"Level of experience\", kind=\"barh\", figsize=(14,7))"
   ]
  },
  {
   "cell_type": "code",
   "execution_count": null,
   "metadata": {},
   "outputs": [],
   "source": []
  },
  {
   "cell_type": "code",
   "execution_count": null,
   "metadata": {},
   "outputs": [],
   "source": []
  }
 ],
 "metadata": {
  "kernelspec": {
   "display_name": "conda_python3",
   "language": "python",
   "name": "conda_python3"
  },
  "language_info": {
   "codemirror_mode": {
    "name": "ipython",
    "version": 3
   },
   "file_extension": ".py",
   "mimetype": "text/x-python",
   "name": "python",
   "nbconvert_exporter": "python",
   "pygments_lexer": "ipython3",
   "version": "3.6.4"
  }
 },
 "nbformat": 4,
 "nbformat_minor": 2
}
