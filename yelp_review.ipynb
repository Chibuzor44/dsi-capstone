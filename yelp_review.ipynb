{
 "cells": [
  {
   "cell_type": "code",
   "execution_count": 1,
   "metadata": {},
   "outputs": [
    {
     "data": {
      "text/html": [
       "<style>.container { width:100% !important; }</style>"
      ],
      "text/plain": [
       "<IPython.core.display.HTML object>"
      ]
     },
     "metadata": {},
     "output_type": "display_data"
    }
   ],
   "source": [
    "from IPython.core.display import display, HTML\n",
    "display(HTML(\"<style>.container { width:100% !important; }</style>\"))"
   ]
  },
  {
   "cell_type": "code",
   "execution_count": 2,
   "metadata": {
    "collapsed": true
   },
   "outputs": [],
   "source": [
    "import pyspark as ps\n",
    "\n",
    "spark = ps.sql.SparkSession.builder \\\n",
    "        .master(\"local[4]\") \\\n",
    "        .appName(\"df lecture\") \\\n",
    "        .getOrCreate()\n",
    "\n",
    "sc = spark.sparkContext"
   ]
  },
  {
   "cell_type": "code",
   "execution_count": 3,
   "metadata": {},
   "outputs": [],
   "source": [
    "%load_ext autoreload\n",
    "%autoreload 2\n",
    "import pandas as pd\n",
    "import numpy as np\n",
    "import matplotlib.pyplot as plt\n",
    "from collections import Counter\n",
    "import nltk\n",
    "from nltk.tokenize import RegexpTokenizer\n",
    "from nltk.stem.wordnet import WordNetLemmatizer\n",
    "from nltk.stem.porter import PorterStemmer\n",
    "from nltk.corpus import stopwords\n",
    "from sklearn.feature_extraction.text import CountVectorizer, TfidfVectorizer\n",
    "from sklearn.model_selection import train_test_split\n",
    "from sklearn.naive_bayes import GaussianNB\n",
    "from sklearn.linear_model import LogisticRegression\n",
    "from sklearn.linear_model import ElasticNet\n",
    "from sklearn.linear_model import Lasso\n",
    "import cleaner\n",
    "\n",
    "%matplotlib inline"
   ]
  },
  {
   "cell_type": "code",
   "execution_count": 4,
   "metadata": {},
   "outputs": [],
   "source": [
    "review_df = spark.read.json('../break_week/data/dataset/review.json')\n",
    "user_df = spark.read.json('../break_week/data/dataset/user.json')\n",
    "business_df = spark.read.json(\"../break_week/data/dataset/business.json\")"
   ]
  },
  {
   "cell_type": "code",
   "execution_count": 5,
   "metadata": {
    "collapsed": true
   },
   "outputs": [],
   "source": [
    "review_df.createTempView(\"review\")\n",
    "user_df.createTempView(\"user\")\n",
    "business_df.createTempView(\"business\")"
   ]
  },
  {
   "cell_type": "code",
   "execution_count": 6,
   "metadata": {
    "collapsed": true
   },
   "outputs": [],
   "source": [
    "df = spark.sql(\"\"\"SELECT new.user_name, new.user_id, new.business_id, new.friends, \\\n",
    "                b.name AS business_name, b.state, b.city, b.address, b.categories, b.stars AS bus_star,\\\n",
    "                new.text, new.stars AS review_star \\\n",
    "                FROM \\\n",
    "                    (SELECT u.name AS user_name, r.user_id, r.business_id, r.text, r.stars, u.friends \\\n",
    "                    FROM review AS r \\\n",
    "                    LEFT JOIN user AS u \\\n",
    "                    ON r.user_id = u.user_id) AS new\\\n",
    "                INNER JOIN business as b\\\n",
    "                ON new.business_id = b.business_id \\\n",
    "                WHERE ARRAY_CONTAINS(b.categories, 'Restaurants') \\\n",
    "                AND b.state IN (\"AL\",\"AK\",\"AZ\",\"AR\",\"CA\",\"CO\",\"CT\",\"DE\",\"FL\",\"GA\",\"HI\",\"ID\",\"IL\",\"IN\",\"IA\",\"KS\", \\\n",
    "                                \"KY\",\"LA\",\"ME\",\"MD\",\"MA\",\"MI\",\"MN\",\"MS\",\"MO\",\"MT\",\"NE\",\"NV\",\"NH\",\"NJ\",\"NM\",\"NY\", \\\n",
    "                                \"NC\",\"ND\",\"OH\",\"OK\",\"OR\",\"PA\",\"RI\",\"SC\",\"SD\",\"TN\",\"TX\",\"UT\",\"VT\",\"VA\",\"WA\",\"WV\",\"WI\",\"WY\") \"\"\")"
   ]
  },
  {
   "cell_type": "code",
   "execution_count": 7,
   "metadata": {
    "scrolled": true
   },
   "outputs": [
    {
     "data": {
      "text/plain": [
       "2598115"
      ]
     },
     "execution_count": 7,
     "metadata": {},
     "output_type": "execute_result"
    }
   ],
   "source": [
    "df.count()"
   ]
  },
  {
   "cell_type": "code",
   "execution_count": 8,
   "metadata": {},
   "outputs": [
    {
     "name": "stdout",
     "output_type": "stream",
     "text": [
      "+---------+--------------------+--------------------+--------------------+--------------------+-----+---------+--------------------+--------------------+--------+--------------------+-----------+\n",
      "|user_name|             user_id|         business_id|             friends|       business_name|state|     city|             address|          categories|bus_star|                text|review_star|\n",
      "+---------+--------------------+--------------------+--------------------+--------------------+-----+---------+--------------------+--------------------+--------+--------------------+-----------+\n",
      "|   Justin|0y8ORuC2X1i1UF6SG...|--9e1ONYQuAa-CB_R...|[sf-8AusztxHc4o5b...|Delmonico Steakhouse|   NV|Las Vegas|3355 Las Vegas Bl...|[Cajun/Creole, St...|     4.0|WOW.\n",
      "\n",
      "I came to V...|          5|\n",
      "|        J|A4GnBOU7ZCTcoQK4e...|--9e1ONYQuAa-CB_R...|[MGPQVLsODMm9ZtYQ...|Delmonico Steakhouse|   NV|Las Vegas|3355 Las Vegas Bl...|[Cajun/Creole, St...|     4.0|This restaurant i...|          5|\n",
      "+---------+--------------------+--------------------+--------------------+--------------------+-----+---------+--------------------+--------------------+--------+--------------------+-----------+\n",
      "only showing top 2 rows\n",
      "\n"
     ]
    }
   ],
   "source": [
    "df_1_5 = df.filter(\"review_star = 1 OR review_star = 5\")\n",
    "df_1_5.show(2)"
   ]
  },
  {
   "cell_type": "code",
   "execution_count": 66,
   "metadata": {},
   "outputs": [
    {
     "data": {
      "text/plain": [
       "1333392"
      ]
     },
     "execution_count": 66,
     "metadata": {},
     "output_type": "execute_result"
    }
   ],
   "source": [
    "df_1_5.count()"
   ]
  },
  {
   "cell_type": "code",
   "execution_count": 9,
   "metadata": {},
   "outputs": [
    {
     "name": "stdout",
     "output_type": "stream",
     "text": [
      "+-----+------+\n",
      "|state|count |\n",
      "+-----+------+\n",
      "|AZ   |492259|\n",
      "|SC   |3481  |\n",
      "|VA   |1     |\n",
      "|NV   |543049|\n",
      "|WI   |32850 |\n",
      "|CA   |2     |\n",
      "|NC   |95105 |\n",
      "|IL   |11183 |\n",
      "|IN   |12    |\n",
      "|OH   |82870 |\n",
      "|PA   |72525 |\n",
      "|NY   |35    |\n",
      "|CO   |4     |\n",
      "|AK   |16    |\n",
      "+-----+------+\n",
      "\n"
     ]
    }
   ],
   "source": [
    "df_1_5.select(\"state\").groupBy(\"state\").count().show(50,False)"
   ]
  },
  {
   "cell_type": "code",
   "execution_count": 10,
   "metadata": {
    "collapsed": true
   },
   "outputs": [],
   "source": [
    "df1 = df_1_5.where(\"state = 'WI'\").select([\"text\", \"review_star\"])"
   ]
  },
  {
   "cell_type": "code",
   "execution_count": 11,
   "metadata": {
    "collapsed": true
   },
   "outputs": [],
   "source": [
    "# tokenizer = Tokenizer(inputCol=\"text\", outputCol=\"words\")\n",
    "# wordsData = tokenizer.transform(df1)"
   ]
  },
  {
   "cell_type": "code",
   "execution_count": 12,
   "metadata": {},
   "outputs": [],
   "source": [
    "df_wi = df1.toPandas()"
   ]
  },
  {
   "cell_type": "code",
   "execution_count": 13,
   "metadata": {},
   "outputs": [
    {
     "data": {
      "text/html": [
       "<div>\n",
       "<style scoped>\n",
       "    .dataframe tbody tr th:only-of-type {\n",
       "        vertical-align: middle;\n",
       "    }\n",
       "\n",
       "    .dataframe tbody tr th {\n",
       "        vertical-align: top;\n",
       "    }\n",
       "\n",
       "    .dataframe thead th {\n",
       "        text-align: right;\n",
       "    }\n",
       "</style>\n",
       "<table border=\"1\" class=\"dataframe\">\n",
       "  <thead>\n",
       "    <tr style=\"text-align: right;\">\n",
       "      <th></th>\n",
       "      <th>text</th>\n",
       "      <th>review_star</th>\n",
       "    </tr>\n",
       "  </thead>\n",
       "  <tbody>\n",
       "    <tr>\n",
       "      <th>0</th>\n",
       "      <td>Enjoyed a delicious meal with family on Friday...</td>\n",
       "      <td>5</td>\n",
       "    </tr>\n",
       "    <tr>\n",
       "      <th>1</th>\n",
       "      <td>Had a great time with family at this cool plac...</td>\n",
       "      <td>5</td>\n",
       "    </tr>\n",
       "    <tr>\n",
       "      <th>2</th>\n",
       "      <td>Came several times with my friends. Very good ...</td>\n",
       "      <td>5</td>\n",
       "    </tr>\n",
       "    <tr>\n",
       "      <th>3</th>\n",
       "      <td>Very disappointed. It used to be one my favori...</td>\n",
       "      <td>1</td>\n",
       "    </tr>\n",
       "    <tr>\n",
       "      <th>4</th>\n",
       "      <td>My favorite place to have chicken wings! Ike t...</td>\n",
       "      <td>5</td>\n",
       "    </tr>\n",
       "    <tr>\n",
       "      <th>5</th>\n",
       "      <td>Location is perfect is u r shopping or after a...</td>\n",
       "      <td>5</td>\n",
       "    </tr>\n",
       "    <tr>\n",
       "      <th>6</th>\n",
       "      <td>Newly opened Chinese home style cuisine. Great...</td>\n",
       "      <td>5</td>\n",
       "    </tr>\n",
       "    <tr>\n",
       "      <th>7</th>\n",
       "      <td>Great Belgian restaurant. Had mussels and frie...</td>\n",
       "      <td>5</td>\n",
       "    </tr>\n",
       "    <tr>\n",
       "      <th>8</th>\n",
       "      <td>One of the best and authentic Chinese restaura...</td>\n",
       "      <td>5</td>\n",
       "    </tr>\n",
       "    <tr>\n",
       "      <th>9</th>\n",
       "      <td>Love this place! Authentic and fresh dishes! T...</td>\n",
       "      <td>5</td>\n",
       "    </tr>\n",
       "  </tbody>\n",
       "</table>\n",
       "</div>"
      ],
      "text/plain": [
       "                                                text  review_star\n",
       "0  Enjoyed a delicious meal with family on Friday...            5\n",
       "1  Had a great time with family at this cool plac...            5\n",
       "2  Came several times with my friends. Very good ...            5\n",
       "3  Very disappointed. It used to be one my favori...            1\n",
       "4  My favorite place to have chicken wings! Ike t...            5\n",
       "5  Location is perfect is u r shopping or after a...            5\n",
       "6  Newly opened Chinese home style cuisine. Great...            5\n",
       "7  Great Belgian restaurant. Had mussels and frie...            5\n",
       "8  One of the best and authentic Chinese restaura...            5\n",
       "9  Love this place! Authentic and fresh dishes! T...            5"
      ]
     },
     "execution_count": 13,
     "metadata": {},
     "output_type": "execute_result"
    }
   ],
   "source": [
    "df_wi.head(10)"
   ]
  },
  {
   "cell_type": "code",
   "execution_count": 14,
   "metadata": {
    "collapsed": true
   },
   "outputs": [],
   "source": [
    "corpus = df_wi[\"text\"]"
   ]
  },
  {
   "cell_type": "code",
   "execution_count": 15,
   "metadata": {},
   "outputs": [
    {
     "data": {
      "text/plain": [
       "\"Very disappointed. It used to be one my favorite restaurants in the town: fresh food, reasonable price and the freedom to make my own bowl! Now they changed their system so their ppl make your bowl. AND the female server who made my bowl, on oct 26, was very rude! She was rushing and making sure I didn't get too much of the food! I'm never coming back again. I will also spread the words to my friends not to come.\\n\\nPs: they charged for extra $2 for getting proteins, which I didn't know until I paid!! And this was very invisible on the menu!\""
      ]
     },
     "execution_count": 15,
     "metadata": {},
     "output_type": "execute_result"
    }
   ],
   "source": [
    "corpus[3]"
   ]
  },
  {
   "cell_type": "code",
   "execution_count": 56,
   "metadata": {},
   "outputs": [],
   "source": [
    "sw = set(stopwords.words(\"english\"))\n",
    "# sw.update([\"i\", \"and\", \"i'm\", \"she\", \"he\"])\n",
    "tokenizer = RegexpTokenizer(\"[\\w']+\")\n",
    "st = PorterStemmer()\n",
    "lemma = WordNetLemmatizer()"
   ]
  },
  {
   "cell_type": "code",
   "execution_count": 57,
   "metadata": {},
   "outputs": [],
   "source": [
    "cleaned = cleaner.clean_stem(corpus, tokenizer, lemma, sw)"
   ]
  },
  {
   "cell_type": "code",
   "execution_count": 58,
   "metadata": {},
   "outputs": [
    {
     "data": {
      "text/plain": [
       "\"very disappointed it used one favorite restaurant town fresh food reasonable price freedom make bowl now changed system ppl make bowl and female server made bowl oct rude she rushing making sure i get much food i'm never coming back i also spread word friend come p charged extra getting protein i know i paid and invisible menu\""
      ]
     },
     "execution_count": 58,
     "metadata": {},
     "output_type": "execute_result"
    }
   ],
   "source": [
    "cleaned[3]"
   ]
  },
  {
   "cell_type": "code",
   "execution_count": 59,
   "metadata": {
    "collapsed": true
   },
   "outputs": [],
   "source": [
    "tfidf_vectorizer= TfidfVectorizer(max_df=0.95, min_df=2,\n",
    "                                stop_words='english')\n",
    "\n",
    "tfidf = tfidf_vectorizer.fit_transform(cleaned)"
   ]
  },
  {
   "cell_type": "code",
   "execution_count": 60,
   "metadata": {},
   "outputs": [
    {
     "data": {
      "text/plain": [
       "(32850, 18102)"
      ]
     },
     "execution_count": 60,
     "metadata": {},
     "output_type": "execute_result"
    }
   ],
   "source": [
    "X = tfidf.toarray()\n",
    "X.shape"
   ]
  },
  {
   "cell_type": "code",
   "execution_count": 61,
   "metadata": {},
   "outputs": [],
   "source": [
    "y = df_wi[\"review_star\"]"
   ]
  },
  {
   "cell_type": "code",
   "execution_count": 62,
   "metadata": {
    "collapsed": true
   },
   "outputs": [],
   "source": [
    "X_train, X_test, y_train, y_test = train_test_split(X, y, test_size=0.25)"
   ]
  },
  {
   "cell_type": "code",
   "execution_count": 63,
   "metadata": {},
   "outputs": [],
   "source": [
    "# nb = GaussianNB()\n",
    "# nb.fit(X_train, y_train)"
   ]
  },
  {
   "cell_type": "markdown",
   "metadata": {},
   "source": [
    "### ElasticNet Linear model"
   ]
  },
  {
   "cell_type": "code",
   "execution_count": 67,
   "metadata": {},
   "outputs": [
    {
     "data": {
      "text/plain": [
       "ElasticNet(alpha=0.001, copy_X=True, fit_intercept=True, l1_ratio=0.5,\n",
       "      max_iter=1000, normalize=False, positive=False, precompute=False,\n",
       "      random_state=None, selection='cyclic', tol=0.0001, warm_start=False)"
      ]
     },
     "execution_count": 67,
     "metadata": {},
     "output_type": "execute_result"
    }
   ],
   "source": [
    "en = ElasticNet(alpha=0.001)\n",
    "en.fit(X_train, y_train)"
   ]
  },
  {
   "cell_type": "code",
   "execution_count": 65,
   "metadata": {},
   "outputs": [
    {
     "data": {
      "text/plain": [
       "0.16814933221760098"
      ]
     },
     "execution_count": 65,
     "metadata": {},
     "output_type": "execute_result"
    }
   ],
   "source": [
    "#R^2 score\n",
    "en.score(X_test, y_test)"
   ]
  },
  {
   "cell_type": "markdown",
   "metadata": {},
   "source": [
    "### Lasso Linear model"
   ]
  },
  {
   "cell_type": "code",
   "execution_count": 68,
   "metadata": {},
   "outputs": [
    {
     "data": {
      "text/plain": [
       "Lasso(alpha=0.001, copy_X=True, fit_intercept=True, max_iter=1000,\n",
       "   normalize=False, positive=False, precompute=False, random_state=None,\n",
       "   selection='cyclic', tol=0.0001, warm_start=False)"
      ]
     },
     "execution_count": 68,
     "metadata": {},
     "output_type": "execute_result"
    }
   ],
   "source": [
    "lasso = Lasso(alpha=0.001)\n",
    "lasso.fit(X_train, y_train)"
   ]
  },
  {
   "cell_type": "code",
   "execution_count": 69,
   "metadata": {},
   "outputs": [
    {
     "data": {
      "text/plain": [
       "0.58374823080225324"
      ]
     },
     "execution_count": 69,
     "metadata": {},
     "output_type": "execute_result"
    }
   ],
   "source": [
    "#R^2 score\n",
    "lasso.score(X_test, y_test)"
   ]
  },
  {
   "cell_type": "markdown",
   "metadata": {},
   "source": [
    "### LogisticRegression Linear model"
   ]
  },
  {
   "cell_type": "code",
   "execution_count": 70,
   "metadata": {},
   "outputs": [
    {
     "data": {
      "text/plain": [
       "LogisticRegression(C=1.0, class_weight=None, dual=False, fit_intercept=True,\n",
       "          intercept_scaling=1, max_iter=100, multi_class='ovr', n_jobs=1,\n",
       "          penalty='l2', random_state=None, solver='liblinear', tol=0.0001,\n",
       "          verbose=0, warm_start=False)"
      ]
     },
     "execution_count": 70,
     "metadata": {},
     "output_type": "execute_result"
    }
   ],
   "source": [
    "lreg = LogisticRegression()\n",
    "lreg.fit(X_train, y_train)"
   ]
  },
  {
   "cell_type": "code",
   "execution_count": 71,
   "metadata": {
    "scrolled": true
   },
   "outputs": [
    {
     "data": {
      "text/plain": [
       "0.96724704736393519"
      ]
     },
     "execution_count": 71,
     "metadata": {},
     "output_type": "execute_result"
    }
   ],
   "source": [
    "lreg.score(X_test, y_test)"
   ]
  },
  {
   "cell_type": "code",
   "execution_count": null,
   "metadata": {
    "collapsed": true
   },
   "outputs": [],
   "source": []
  },
  {
   "cell_type": "code",
   "execution_count": 72,
   "metadata": {
    "collapsed": true
   },
   "outputs": [],
   "source": [
    "terms = tfidf_vectorizer.get_feature_names()"
   ]
  },
  {
   "cell_type": "code",
   "execution_count": 73,
   "metadata": {},
   "outputs": [
    {
     "name": "stdout",
     "output_type": "stream",
     "text": [
      "Topic 1: ['great', 'delicious', 'amazing', 'best', 'excellent', 'love', 'awesome', 'favorite', 'friendly', 'perfect', 'fantastic', 'madison', 'definitely', 'loved', 'wonderful', 'good', 'happy', 'fresh', 'nice', 'perfectly', 'highly', 'tasty', 'outstanding', 've', 'enjoyed', 'fun', 'little', 'attentive', 'fast', 'super', 'yummy', 'incredible', 'thank', 'flavorful', 'bit', 'helpful', 'yum', 'try', 'notch', 'reasonable']\n"
     ]
    }
   ],
   "source": [
    "cleaner.show_topics(lreg.coef_, terms, length=40)"
   ]
  },
  {
   "cell_type": "code",
   "execution_count": 74,
   "metadata": {},
   "outputs": [
    {
     "name": "stdout",
     "output_type": "stream",
     "text": [
      "Topic 1: ['worst', 'terrible', 'horrible', 'bland', 'awful', 'rude', 'disappointing', 'poor', 'mediocre', 'bad', 'minute', 'told', 'ok', 'dry', 'asked', 'disgusting', 'tasted', 'cold', 'overpriced', 'tasteless', 'money', 'slow', 'dirty', 'ordered', 'gross', 'worse', 'customer', 'charged', 'frozen', 'left', 'flavorless', 'management', 'said', 'disappointment', 'waste', 'unfortunately', 'soggy', 'waited', 'barely', 'sorry']\n"
     ]
    }
   ],
   "source": [
    "cleaner.show_topics(lreg.coef_, terms, length=40)"
   ]
  },
  {
   "cell_type": "code",
   "execution_count": 75,
   "metadata": {},
   "outputs": [
    {
     "name": "stdout",
     "output_type": "stream",
     "text": [
      "+-----------+-------+\n",
      "|review_star|  count|\n",
      "+-----------+-------+\n",
      "|          5|1031519|\n",
      "|          1| 301873|\n",
      "+-----------+-------+\n",
      "\n"
     ]
    }
   ],
   "source": [
    "df_1_5.select(\"review_star\").groupBy(\"review_star\").count().show()"
   ]
  },
  {
   "cell_type": "code",
   "execution_count": 118,
   "metadata": {},
   "outputs": [],
   "source": [
    "pos_terms, neg_terms = cleaner.show_topics(lreg.coef_, terms, length=40)"
   ]
  },
  {
   "cell_type": "code",
   "execution_count": 119,
   "metadata": {},
   "outputs": [
    {
     "data": {
      "text/plain": [
       "[('great', 9.6339199219398921),\n",
       " ('delicious', 9.5086695708994373),\n",
       " ('amazing', 7.9170599102536379),\n",
       " ('best', 7.3589483682208217),\n",
       " ('excellent', 6.6895446573983914),\n",
       " ('love', 6.3849393517080557),\n",
       " ('awesome', 5.6882532659470213),\n",
       " ('favorite', 5.6378331048222989),\n",
       " ('friendly', 5.3344655463092208),\n",
       " ('perfect', 5.1487301606386211),\n",
       " ('fantastic', 4.9271576211302959),\n",
       " ('madison', 4.5292909003664485),\n",
       " ('definitely', 4.486343438415247),\n",
       " ('loved', 4.0306943032514306),\n",
       " ('wonderful', 3.9535371632915139),\n",
       " ('good', 3.8106663126652971),\n",
       " ('happy', 3.7261373823249087),\n",
       " ('fresh', 3.4802625832525842),\n",
       " ('nice', 3.3065880195360347),\n",
       " ('perfectly', 3.0823391451468418),\n",
       " ('highly', 2.9778623076666277),\n",
       " ('tasty', 2.9082167789912066),\n",
       " ('outstanding', 2.8545282365526417),\n",
       " ('ve', 2.8206297853641185),\n",
       " ('enjoyed', 2.6887189898520636),\n",
       " ('fun', 2.596468899456712),\n",
       " ('little', 2.5549889693513079),\n",
       " ('attentive', 2.5345851110853932),\n",
       " ('fast', 2.4638339969770398),\n",
       " ('super', 2.3439106507574947),\n",
       " ('yummy', 2.3407288471590419),\n",
       " ('incredible', 2.333495306683453),\n",
       " ('thank', 2.3192592330362323),\n",
       " ('flavorful', 2.2727534003422805),\n",
       " ('bit', 2.257463602047121),\n",
       " ('helpful', 2.2478394635570775),\n",
       " ('yum', 2.1938197140672746),\n",
       " ('try', 2.1724875526296352),\n",
       " ('notch', 2.1302856301218953),\n",
       " ('reasonable', 2.107079463937191)]"
      ]
     },
     "execution_count": 119,
     "metadata": {},
     "output_type": "execute_result"
    }
   ],
   "source": [
    "pos_terms"
   ]
  },
  {
   "cell_type": "code",
   "execution_count": 117,
   "metadata": {},
   "outputs": [
    {
     "data": {
      "text/plain": [
       "[('worst', -7.8428487355547984),\n",
       " ('terrible', -6.3079030915106147),\n",
       " ('horrible', -5.751475018400706),\n",
       " ('bland', -5.1065524302327372),\n",
       " ('awful', -4.8790553173531208),\n",
       " ('rude', -4.6553109680826168),\n",
       " ('disappointing', -4.5527040275278674),\n",
       " ('poor', -4.5292789281254802),\n",
       " ('mediocre', -4.5238552456152945),\n",
       " ('bad', -4.4682088611261186),\n",
       " ('minute', -4.313426659289445),\n",
       " ('told', -3.9543664624267665),\n",
       " ('ok', -3.858301806403829),\n",
       " ('dry', -3.8292530674849785),\n",
       " ('asked', -3.5862004447195974),\n",
       " ('disgusting', -3.5675109238113314),\n",
       " ('tasted', -3.536419801643381),\n",
       " ('cold', -3.448647333203243),\n",
       " ('overpriced', -3.3473641044353819),\n",
       " ('tasteless', -3.3292811357064571),\n",
       " ('money', -3.2726399181447468),\n",
       " ('slow', -3.2396165759347912),\n",
       " ('dirty', -3.2147656019520117),\n",
       " ('ordered', -3.2110760494267212),\n",
       " ('gross', -3.1794458033762432),\n",
       " ('worse', -3.1079818464443512),\n",
       " ('customer', -2.9925095943697189),\n",
       " ('charged', -2.9689180757806759),\n",
       " ('frozen', -2.8625362889855053),\n",
       " ('left', -2.862506312445793),\n",
       " ('flavorless', -2.8176413482381366),\n",
       " ('management', -2.7533401007716223),\n",
       " ('said', -2.7399812916314623),\n",
       " ('disappointment', -2.6968281052132874),\n",
       " ('waste', -2.6751619119112071),\n",
       " ('unfortunately', -2.6709828452872486),\n",
       " ('soggy', -2.6622381580119558),\n",
       " ('waited', -2.6586246654747745),\n",
       " ('barely', -2.6073677537503377),\n",
       " ('sorry', -2.5424010638207819)]"
      ]
     },
     "execution_count": 117,
     "metadata": {},
     "output_type": "execute_result"
    }
   ],
   "source": [
    "neg_terms"
   ]
  },
  {
   "cell_type": "code",
   "execution_count": null,
   "metadata": {
    "collapsed": true
   },
   "outputs": [],
   "source": []
  },
  {
   "cell_type": "code",
   "execution_count": null,
   "metadata": {
    "collapsed": true
   },
   "outputs": [],
   "source": []
  }
 ],
 "metadata": {
  "kernelspec": {
   "display_name": "Python 3",
   "language": "python",
   "name": "python3"
  },
  "language_info": {
   "codemirror_mode": {
    "name": "ipython",
    "version": 3
   },
   "file_extension": ".py",
   "mimetype": "text/x-python",
   "name": "python",
   "nbconvert_exporter": "python",
   "pygments_lexer": "ipython3",
   "version": "3.6.3"
  }
 },
 "nbformat": 4,
 "nbformat_minor": 2
}
